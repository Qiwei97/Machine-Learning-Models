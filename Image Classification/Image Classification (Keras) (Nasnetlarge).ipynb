{
  "nbformat": 4,
  "nbformat_minor": 0,
  "metadata": {
    "colab": {
      "name": "Computer Vision (Nasnetlarge)",
      "provenance": [],
      "collapsed_sections": []
    },
    "kernelspec": {
      "name": "python3",
      "display_name": "Python 3"
    },
    "accelerator": "GPU"
  },
  "cells": [
    {
      "cell_type": "code",
      "metadata": {
        "id": "M2rcCoPvCNLs",
        "colab_type": "code",
        "colab": {
          "base_uri": "https://localhost:8080/",
          "height": 34
        },
        "outputId": "e66325c2-9804-451f-bb5b-f0df0b0321e2"
      },
      "source": [
        "%tensorflow_version 2.x\n",
        "import tensorflow as tf\n",
        "device_name = tf.test.gpu_device_name()\n",
        "if device_name != '/device:GPU:0':\n",
        "  raise SystemError('GPU device not found')\n",
        "print('Found GPU at: {}'.format(device_name))"
      ],
      "execution_count": null,
      "outputs": [
        {
          "output_type": "stream",
          "text": [
            "Found GPU at: /device:GPU:0\n"
          ],
          "name": "stdout"
        }
      ]
    },
    {
      "cell_type": "code",
      "metadata": {
        "id": "WpwehSwP_js1",
        "colab_type": "code",
        "colab": {
          "base_uri": "https://localhost:8080/",
          "height": 124
        },
        "outputId": "116dc267-2415-4637-9308-8023f833b067"
      },
      "source": [
        "from google.colab import drive\n",
        "drive.mount('/content/drive')"
      ],
      "execution_count": null,
      "outputs": [
        {
          "output_type": "stream",
          "text": [
            "Go to this URL in a browser: https://accounts.google.com/o/oauth2/auth?client_id=947318989803-6bn6qk8qdgf4n4g3pfee6491hc0brc4i.apps.googleusercontent.com&redirect_uri=urn%3aietf%3awg%3aoauth%3a2.0%3aoob&response_type=code&scope=email%20https%3a%2f%2fwww.googleapis.com%2fauth%2fdocs.test%20https%3a%2f%2fwww.googleapis.com%2fauth%2fdrive%20https%3a%2f%2fwww.googleapis.com%2fauth%2fdrive.photos.readonly%20https%3a%2f%2fwww.googleapis.com%2fauth%2fpeopleapi.readonly\n",
            "\n",
            "Enter your authorization code:\n",
            "··········\n",
            "Mounted at /content/drive\n"
          ],
          "name": "stdout"
        }
      ]
    },
    {
      "cell_type": "markdown",
      "metadata": {
        "id": "YGhL7_r0Cvzy",
        "colab_type": "text"
      },
      "source": [
        "Download from Gdrive"
      ]
    },
    {
      "cell_type": "code",
      "metadata": {
        "id": "dwe-JntWCato",
        "colab_type": "code",
        "colab": {
          "base_uri": "https://localhost:8080/",
          "height": 452
        },
        "outputId": "69eddf52-e6ab-4b8e-f66c-019aabc81086"
      },
      "source": [
        "!wget --load-cookies /tmp/cookies.txt \"https://docs.google.com/uc?export=download&confirm=$(wget --quiet --save-cookies /tmp/cookies.txt --keep-session-cookies --no-check-certificate 'https://docs.google.com/uc?export=download&id=1nDeTk3yMUqYLFu99yXDojyl3dPMHYp1v' -O- | sed -rn 's/.*confirm=([0-9A-Za-z_]+).*/\\1\\n/p')&id=1nDeTk3yMUqYLFu99yXDojyl3dPMHYp1v\" -O shopee-product-detection-dataset.zip && rm -rf /tmp/cookies.txt"
      ],
      "execution_count": null,
      "outputs": [
        {
          "output_type": "stream",
          "text": [
            "--2020-07-04 04:02:00--  https://docs.google.com/uc?export=download&confirm=72Jo&id=1nDeTk3yMUqYLFu99yXDojyl3dPMHYp1v\n",
            "Resolving docs.google.com (docs.google.com)... 108.177.119.100, 108.177.119.102, 108.177.119.101, ...\n",
            "Connecting to docs.google.com (docs.google.com)|108.177.119.100|:443... connected.\n",
            "HTTP request sent, awaiting response... 302 Moved Temporarily\n",
            "Location: https://doc-0s-50-docs.googleusercontent.com/docs/securesc/4scqfk8ev9vl48dusmt5nqprqe60rhhj/rup9q2m1ng0blq9fqq16vnghaivjtmet/1593835275000/13793038594932301905/04624068116836533081Z/1nDeTk3yMUqYLFu99yXDojyl3dPMHYp1v?e=download [following]\n",
            "--2020-07-04 04:02:01--  https://doc-0s-50-docs.googleusercontent.com/docs/securesc/4scqfk8ev9vl48dusmt5nqprqe60rhhj/rup9q2m1ng0blq9fqq16vnghaivjtmet/1593835275000/13793038594932301905/04624068116836533081Z/1nDeTk3yMUqYLFu99yXDojyl3dPMHYp1v?e=download\n",
            "Resolving doc-0s-50-docs.googleusercontent.com (doc-0s-50-docs.googleusercontent.com)... 74.125.143.132, 2a00:1450:4013:c03::84\n",
            "Connecting to doc-0s-50-docs.googleusercontent.com (doc-0s-50-docs.googleusercontent.com)|74.125.143.132|:443... connected.\n",
            "HTTP request sent, awaiting response... 302 Found\n",
            "Location: https://docs.google.com/nonceSigner?nonce=k2g7i791ecleq&continue=https://doc-0s-50-docs.googleusercontent.com/docs/securesc/4scqfk8ev9vl48dusmt5nqprqe60rhhj/rup9q2m1ng0blq9fqq16vnghaivjtmet/1593835275000/13793038594932301905/04624068116836533081Z/1nDeTk3yMUqYLFu99yXDojyl3dPMHYp1v?e%3Ddownload&hash=2pmlbv0pjb14859dv68mdd29b8frv3nk [following]\n",
            "--2020-07-04 04:02:01--  https://docs.google.com/nonceSigner?nonce=k2g7i791ecleq&continue=https://doc-0s-50-docs.googleusercontent.com/docs/securesc/4scqfk8ev9vl48dusmt5nqprqe60rhhj/rup9q2m1ng0blq9fqq16vnghaivjtmet/1593835275000/13793038594932301905/04624068116836533081Z/1nDeTk3yMUqYLFu99yXDojyl3dPMHYp1v?e%3Ddownload&hash=2pmlbv0pjb14859dv68mdd29b8frv3nk\n",
            "Connecting to docs.google.com (docs.google.com)|108.177.119.100|:443... connected.\n",
            "HTTP request sent, awaiting response... 302 Found\n",
            "Location: https://doc-0s-50-docs.googleusercontent.com/docs/securesc/4scqfk8ev9vl48dusmt5nqprqe60rhhj/rup9q2m1ng0blq9fqq16vnghaivjtmet/1593835275000/13793038594932301905/04624068116836533081Z/1nDeTk3yMUqYLFu99yXDojyl3dPMHYp1v?e=download&nonce=k2g7i791ecleq&user=04624068116836533081Z&hash=orr26o45a3ajmfsp7nli0i4amqts2rp3 [following]\n",
            "--2020-07-04 04:02:01--  https://doc-0s-50-docs.googleusercontent.com/docs/securesc/4scqfk8ev9vl48dusmt5nqprqe60rhhj/rup9q2m1ng0blq9fqq16vnghaivjtmet/1593835275000/13793038594932301905/04624068116836533081Z/1nDeTk3yMUqYLFu99yXDojyl3dPMHYp1v?e=download&nonce=k2g7i791ecleq&user=04624068116836533081Z&hash=orr26o45a3ajmfsp7nli0i4amqts2rp3\n",
            "Connecting to doc-0s-50-docs.googleusercontent.com (doc-0s-50-docs.googleusercontent.com)|74.125.143.132|:443... connected.\n",
            "HTTP request sent, awaiting response... 200 OK\n",
            "Length: unspecified [application/zip]\n",
            "Saving to: ‘shopee-product-detection-dataset.zip’\n",
            "\n",
            "shopee-product-dete     [                 <=>]   8.85G  73.7MB/s    in 3m 25s  \n",
            "\n",
            "2020-07-04 04:05:26 (44.2 MB/s) - ‘shopee-product-detection-dataset.zip’ saved [9500715928]\n",
            "\n"
          ],
          "name": "stdout"
        }
      ]
    },
    {
      "cell_type": "markdown",
      "metadata": {
        "id": "ruV5_e8dbtZM",
        "colab_type": "text"
      },
      "source": [
        "Onedrive"
      ]
    },
    {
      "cell_type": "code",
      "execution_count": null,
      "metadata": {},
      "outputs": [],
      "source": [
        "!wget \"https://onedrive.live.com/download?cid=800E0ECEA419C6FE&resid=800E0ECEA419C6FE%219099&authkey=AGPNcxcTAVMns7k\" -O shopee-product-detection-dataset.zip"
      ]
    },
    {
      "cell_type": "code",
      "execution_count": null,
      "metadata": {},
      "outputs": [],
      "source": [
        "!unzip /content/shopee-product-detection-dataset.zip"
      ]
    },
    {
      "cell_type": "markdown",
      "metadata": {
        "id": "Hqg6xUV3SLf4",
        "colab_type": "text"
      },
      "source": [
        "Constructing the model"
      ]
    },
    {
      "cell_type": "code",
      "metadata": {
        "id": "jpcIQzx4SNWs",
        "colab_type": "code",
        "colab": {}
      },
      "source": [
        "import tensorflow as tf\n",
        "\n",
        "#Refer to https://keras.io/api/applications/ for the list of Pre-trained Models\n",
        "\n",
        "Original_NASNetLarge = tf.keras.applications.NASNetLarge()\n",
        "Original_NASNetLarge.summary() #look at the architecture of the mdoel"
      ],
      "execution_count": null,
      "outputs": []
    },
    {
      "cell_type": "code",
      "metadata": {
        "id": "usOQNqiKS8hT",
        "colab_type": "code",
        "colab": {
          "base_uri": "https://localhost:8080/",
          "height": 279
        },
        "outputId": "1dda63b2-5048-4bca-af1a-959dc2e4b2a9"
      },
      "source": [
        "import tensorflow as tf\n",
        "from tensorflow.keras.models import Model\n",
        "from tensorflow.keras.layers import Dense\n",
        "from tensorflow.keras.layers import Flatten\n",
        "from tensorflow.keras.models import Sequential\n",
        "\n",
        "NASNetLarge = tf.keras.applications.NASNetLarge(include_top=False, pooling='avg', weights='imagenet', input_shape=(331, 331, 3))\n",
        "# add new classifier layers\n",
        "model = Sequential()\n",
        "model.add(NASNetLarge)\n",
        "model.add(Dense(42, activation='softmax')) #num_classes = 42\n",
        "model.layers[0].trainable = False\n",
        "\n",
        "model.summary()"
      ],
      "execution_count": null,
      "outputs": [
        {
          "output_type": "stream",
          "text": [
            "Downloading data from https://storage.googleapis.com/tensorflow/keras-applications/nasnet/NASNet-large-no-top.h5\n",
            "343613440/343610240 [==============================] - 3s 0us/step\n",
            "Model: \"sequential\"\n",
            "_________________________________________________________________\n",
            "Layer (type)                 Output Shape              Param #   \n",
            "=================================================================\n",
            "NASNet (Model)               (None, 4032)              84916818  \n",
            "_________________________________________________________________\n",
            "dense (Dense)                (None, 42)                169386    \n",
            "=================================================================\n",
            "Total params: 85,086,204\n",
            "Trainable params: 169,386\n",
            "Non-trainable params: 84,916,818\n",
            "_________________________________________________________________\n"
          ],
          "name": "stdout"
        }
      ]
    },
    {
      "cell_type": "markdown",
      "metadata": {
        "id": "JHf7466_DN0D",
        "colab_type": "text"
      },
      "source": [
        "Loading Data"
      ]
    },
    {
      "cell_type": "markdown",
      "metadata": {
        "id": "25JxWvjwYlUK",
        "colab_type": "text"
      },
      "source": [
        "\n",
        "Make sure ur data directory is as such:\n",
        "* data/\n",
        "* data/train/\n",
        "* data/train/red/\n",
        "* data/train/blue/\n",
        "* data/test/\n",
        "* data/test/red/\n",
        "* data/test/blue/\n",
        "* data/validation/\n",
        "* data/validation/red/\n",
        "* data/validation/blue/"
      ]
    },
    {
      "cell_type": "code",
      "execution_count": null,
      "metadata": {},
      "outputs": [],
      "source": [
        "import tensorflow\n",
        "from tensorflow.keras.preprocessing.image import ImageDataGenerator\n",
        "import keras\n",
        "# create generator\n",
        "datagen = ImageDataGenerator(preprocessing_function=tensorflow.keras.applications.nasnet.preprocess_input, \n",
        "    width_shift_range=0.3,\n",
        "    height_shift_range=0.3,\n",
        "    brightness_range=[0.7,1.3],\n",
        "    shear_range=0.2,\n",
        "    zoom_range=0.3,\n",
        "    horizontal_flip=True,\n",
        "    validation_split=0.35)\n",
        "# prepare an iterator for each dataset\n",
        "train_it = datagen.flow_from_directory('/content/train/train', target_size=(331, 331), batch_size=32, class_mode='categorical', shuffle=True, subset='training')\n",
        "# No Image Augmentation needed for test and validation set\n",
        "val_it = ImageDataGenerator(preprocessing_function=tensorflow.keras.applications.nasnet.preprocess_input, validation_split=0.35).flow_from_directory('/content/train/train', target_size=(331, 331),  batch_size=32, class_mode='categorical', shuffle=False, subset='validation')\n",
        "test_it = ImageDataGenerator(preprocessing_function=tensorflow.keras.applications.nasnet.preprocess_input).flow_from_directory('/content/test', target_size=(331, 331),  batch_size=32, class_mode='categorical', shuffle=False)\n",
        "# confirm the iterator works\n",
        "batchX, batchy = train_it.next()\n",
        "print('Batch shape=%s, min=%.3f, max=%.3f' % (batchX.shape, batchX.min(), batchX.max()))\n",
        "print('Batchy shape=', batchy.shape)\n",
        "\n",
        "testX = test_it.next()"
      ]
    },
    {
      "cell_type": "markdown",
      "metadata": {
        "id": "a-v1qcd5DZBF",
        "colab_type": "text"
      },
      "source": [
        "Compile and Fit with checkpoints every 1 epoch"
      ]
    },
    {
      "cell_type": "code",
      "metadata": {
        "id": "3NKV6da-Db79",
        "colab_type": "code",
        "colab": {}
      },
      "source": [
        "import os\n",
        "from tensorflow import keras\n",
        "\n",
        "# Prepare a directory to store all the checkpoints.\n",
        "checkpoint_dir = '/content/drive/My Drive/chkpt'\n",
        "if not os.path.exists(checkpoint_dir):\n",
        "    os.makedirs(checkpoint_dir)\n",
        "\n",
        "from tensorflow import keras\n",
        "\n",
        "callbacks = [\n",
        "    # This callback saves a SavedModel every 1 batches.\n",
        "    # We include the training loss in the folder name.\n",
        "    keras.callbacks.ModelCheckpoint(filepath=checkpoint_dir + '/Ckpt.{epoch:02d}-{loss:.2f}.h5', save_freq='epoch'),\n",
        "\n",
        "    keras.callbacks.EarlyStopping(monitor='val_loss', patience=5),\n",
        "\n",
        "    keras.callbacks.ReduceLROnPlateau(monitor='val_loss', factor=0.5, patience=2),\n",
        "\n",
        "    keras.callbacks.TensorBoard(log_dir=\"./logs\")\n",
        "]"
      ],
      "execution_count": null,
      "outputs": []
    },
    {
      "cell_type": "code",
      "metadata": {
        "id": "fg0M1ZiNY_Of",
        "colab_type": "code",
        "colab": {}
      },
      "source": [
        "from tensorflow.keras.optimizers import SGD\n",
        "opt = SGD(learning_rate=0.0001, momentum=0.9, nesterov=True)\n",
        "model.compile(optimizer=opt, loss=tensorflow.keras.losses.categorical_crossentropy, metrics=['accuracy'])"
      ],
      "execution_count": null,
      "outputs": []
    },
    {
      "cell_type": "code",
      "metadata": {
        "id": "K-xn2LaLD6nQ",
        "colab_type": "code",
        "colab": {
          "base_uri": "https://localhost:8080/",
          "height": 158
        },
        "outputId": "3b82135b-f994-4123-e00b-45a379984531"
      },
      "source": [
        "model.fit(train_it, validation_data = val_it, callbacks=callbacks, epochs=3)"
      ],
      "execution_count": null,
      "outputs": [
        {
          "output_type": "stream",
          "text": [
            "Epoch 1/3\n",
            "2018/2018 [==============================] - 4046s 2s/step - loss: 0.6574 - accuracy: 0.8086 - val_loss: 0.7498 - val_accuracy: 0.7973 - lr: 1.0000e-04\n",
            "Epoch 2/3\n",
            "2018/2018 [==============================] - 4051s 2s/step - loss: 0.6572 - accuracy: 0.8106 - val_loss: 0.7495 - val_accuracy: 0.7972 - lr: 1.0000e-04\n",
            "Epoch 3/3\n",
            "2018/2018 [==============================] - 4056s 2s/step - loss: 0.6564 - accuracy: 0.8111 - val_loss: 0.7492 - val_accuracy: 0.7973 - lr: 1.0000e-04\n"
          ],
          "name": "stdout"
        },
        {
          "output_type": "execute_result",
          "data": {
            "text/plain": [
              "<tensorflow.python.keras.callbacks.History at 0x7fe83ce19198>"
            ]
          },
          "metadata": {
            "tags": []
          },
          "execution_count": 9
        }
      ]
    },
    {
      "cell_type": "markdown",
      "metadata": {
        "id": "uo3BktHBO-ox",
        "colab_type": "text"
      },
      "source": [
        "No. of Epochs done: 7\n",
        "Current run: 3"
      ]
    },
    {
      "cell_type": "markdown",
      "metadata": {
        "id": "zTZ_niMXhEs2",
        "colab_type": "text"
      },
      "source": [
        "Prediction (Test)"
      ]
    },
    {
      "cell_type": "code",
      "execution_count": null,
      "metadata": {},
      "outputs": [],
      "source": [
        "print(sorted(test_it.filenames))"
      ]
    },
    {
      "cell_type": "code",
      "execution_count": null,
      "metadata": {},
      "outputs": [],
      "source": [
        "import numpy as np\n",
        "probs = model.predict(test_it)\n",
        "prediction = [np.argmax(score, axis=-1) for score in probs]\n",
        "\n",
        "print(prediction[:20])\n",
        "print(test_it.filenames)"
      ]
    },
    {
      "cell_type": "code",
      "metadata": {
        "id": "Q-l29ydLNStI",
        "colab_type": "code",
        "colab": {}
      },
      "source": [
        "#Save the probabilities\n",
        "\n",
        "np.save('/content/drive/My Drive/nasprobs_test', probs)"
      ],
      "execution_count": null,
      "outputs": []
    },
    {
      "cell_type": "markdown",
      "metadata": {
        "id": "LCXK6uU_hRrQ",
        "colab_type": "text"
      },
      "source": [
        "Print Results to CSV"
      ]
    },
    {
      "cell_type": "code",
      "metadata": {
        "id": "gNhWfqeDFOCt",
        "colab_type": "code",
        "colab": {}
      },
      "source": [
        "predictions = {}\n",
        "for x in range(len(test_it.filenames)):\n",
        "  filename = test_it.filenames[x].replace('test/', '')\n",
        "  \n",
        "  # zero padding\n",
        "  zero_padded_predicted_cat = f'{prediction[x]:02}'\n",
        "\n",
        "  predictions[filename] = zero_padded_predicted_cat"
      ],
      "execution_count": null,
      "outputs": []
    },
    {
      "cell_type": "code",
      "metadata": {
        "id": "jcdu2AR-C0tF",
        "colab_type": "code",
        "colab": {
          "base_uri": "https://localhost:8080/",
          "height": 276
        },
        "outputId": "86651147-934a-4bad-c38d-73cc6f17024a"
      },
      "source": [
        "import pandas as pd\n",
        "\n",
        "df = pd.read_csv('/content/test.csv')\n",
        "\n",
        "df['category'] = df['filename'].map(predictions)\n",
        "df.set_index('filename', inplace=True)\n",
        "\n",
        "print(df)\n",
        "df.to_csv('/content/drive/My Drive/test.csv')"
      ],
      "execution_count": null,
      "outputs": [
        {
          "output_type": "stream",
          "text": [
            "                                     category\n",
            "filename                                     \n",
            "fd663cf2b6e1d7b02938c6aaae0a32d2.jpg       20\n",
            "c7fd77508a8c355eaab0d4e10efd6b15.jpg       27\n",
            "127f3e6d6e3491b2459812353f33a913.jpg       04\n",
            "5ca4f2da11eda083064e6c36f37eeb81.jpg       22\n",
            "46d681a542f2c71be017eef6aae23313.jpg       12\n",
            "...                                       ...\n",
            "5ba958eacb23cd7d1673bad4dae55784.jpg       16\n",
            "efbe41a1c2b666b70e337e438559808b.jpg       19\n",
            "79fdaa5ac5ba10dbe8004cabd8c35eb3.jpg       13\n",
            "ac3d136124617637a05ba66694e381ef.jpg       15\n",
            "7ef61d7cfbad9cfe2db4f64560e3dddd.jpg       23\n",
            "\n",
            "[12186 rows x 1 columns]\n"
          ],
          "name": "stdout"
        }
      ]
    },
    {
      "cell_type": "markdown",
      "metadata": {
        "id": "1ggJTsQOhXRJ",
        "colab_type": "text"
      },
      "source": [
        "Saving the model"
      ]
    },
    {
      "cell_type": "code",
      "metadata": {
        "id": "EimzOCgchWmQ",
        "colab_type": "code",
        "colab": {}
      },
      "source": [
        "model.save('/content/drive/My Drive/NasNet1.h5')"
      ],
      "execution_count": null,
      "outputs": []
    },
    {
      "cell_type": "markdown",
      "metadata": {
        "id": "0yNiYry0hcyd",
        "colab_type": "text"
      },
      "source": [
        "Loading the model"
      ]
    },
    {
      "cell_type": "code",
      "metadata": {
        "id": "KWzy_9Fmhd-k",
        "colab_type": "code",
        "colab": {
          "base_uri": "https://localhost:8080/",
          "height": 224
        },
        "outputId": "76828858-084b-4361-c062-0e59a0650db6"
      },
      "source": [
        "import tensorflow\n",
        "from tensorflow.keras.models import load_model\n",
        "# load model\n",
        "model = tensorflow.keras.models.load_model('/content/drive/My Drive/chkpt/Nasnet 9 Epoch.h5')\n",
        "# summarize model\n",
        "model.summary()"
      ],
      "execution_count": null,
      "outputs": [
        {
          "output_type": "stream",
          "text": [
            "Model: \"sequential\"\n",
            "_________________________________________________________________\n",
            "Layer (type)                 Output Shape              Param #   \n",
            "=================================================================\n",
            "NASNet (Model)               (None, 4032)              84916818  \n",
            "_________________________________________________________________\n",
            "dense (Dense)                (None, 42)                169386    \n",
            "=================================================================\n",
            "Total params: 85,086,204\n",
            "Trainable params: 169,386\n",
            "Non-trainable params: 84,916,818\n",
            "_________________________________________________________________\n"
          ],
          "name": "stdout"
        }
      ]
    }
  ]
}
