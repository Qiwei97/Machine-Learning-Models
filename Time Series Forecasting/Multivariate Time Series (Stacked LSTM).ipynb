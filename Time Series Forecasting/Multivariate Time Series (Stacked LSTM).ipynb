{
  "nbformat": 4,
  "nbformat_minor": 0,
  "metadata": {
    "colab": {
      "name": "Multivariate Time Series",
      "provenance": [],
      "collapsed_sections": []
    },
    "kernelspec": {
      "name": "python3",
      "display_name": "Python 3"
    }
  },
  "cells": [
    {
      "cell_type": "markdown",
      "metadata": {
        "id": "4hDx4CYQrj53"
      },
      "source": [
        "# Data Preprocessing"
      ]
    },
    {
      "cell_type": "code",
      "metadata": {
        "colab": {
          "base_uri": "https://localhost:8080/",
          "height": 431
        },
        "id": "P9Bm16FPN3Wn",
        "outputId": "a7555a71-9c8e-4d8d-dfd3-cf94c41591a6"
      },
      "source": [
        "import pandas as pd\r\n",
        "from datetime import datetime\r\n",
        "import numpy as np\r\n",
        "import tensorflow as tf\r\n",
        "import matplotlib.pyplot as plt\r\n",
        "\r\n",
        "# load data\r\n",
        "def parse(x):\r\n",
        "\treturn datetime.strptime(x, '%Y %m %d %H')\r\n",
        "\r\n",
        "df = pd.read_csv('https://raw.githubusercontent.com/jbrownlee/Datasets/master/pollution.csv', parse_dates = [['year', 'month', 'day', 'hour']], index_col=0, date_parser=parse)\r\n",
        "\r\n",
        "df.drop('No', axis=1, inplace=True)\r\n",
        "\r\n",
        "df['month'] = df.index.month\r\n",
        "\r\n",
        "df = df[24:]\r\n",
        "\r\n",
        "df.fillna(0, inplace = True)\r\n",
        "\r\n",
        "df.columns = ['pollution', 'dew', 'temp', 'press', 'wnd_dir', 'wnd_spd', 'snow', 'rain', 'month']\r\n",
        "\r\n",
        "df"
      ],
      "execution_count": null,
      "outputs": [
        {
          "output_type": "execute_result",
          "data": {
            "text/html": [
              "<div>\n",
              "<style scoped>\n",
              "    .dataframe tbody tr th:only-of-type {\n",
              "        vertical-align: middle;\n",
              "    }\n",
              "\n",
              "    .dataframe tbody tr th {\n",
              "        vertical-align: top;\n",
              "    }\n",
              "\n",
              "    .dataframe thead th {\n",
              "        text-align: right;\n",
              "    }\n",
              "</style>\n",
              "<table border=\"1\" class=\"dataframe\">\n",
              "  <thead>\n",
              "    <tr style=\"text-align: right;\">\n",
              "      <th></th>\n",
              "      <th>pollution</th>\n",
              "      <th>dew</th>\n",
              "      <th>temp</th>\n",
              "      <th>press</th>\n",
              "      <th>wnd_dir</th>\n",
              "      <th>wnd_spd</th>\n",
              "      <th>snow</th>\n",
              "      <th>rain</th>\n",
              "      <th>month</th>\n",
              "    </tr>\n",
              "    <tr>\n",
              "      <th>year_month_day_hour</th>\n",
              "      <th></th>\n",
              "      <th></th>\n",
              "      <th></th>\n",
              "      <th></th>\n",
              "      <th></th>\n",
              "      <th></th>\n",
              "      <th></th>\n",
              "      <th></th>\n",
              "      <th></th>\n",
              "    </tr>\n",
              "  </thead>\n",
              "  <tbody>\n",
              "    <tr>\n",
              "      <th>2010-01-02 00:00:00</th>\n",
              "      <td>129.0</td>\n",
              "      <td>-16</td>\n",
              "      <td>-4.0</td>\n",
              "      <td>1020.0</td>\n",
              "      <td>SE</td>\n",
              "      <td>1.79</td>\n",
              "      <td>0</td>\n",
              "      <td>0</td>\n",
              "      <td>1</td>\n",
              "    </tr>\n",
              "    <tr>\n",
              "      <th>2010-01-02 01:00:00</th>\n",
              "      <td>148.0</td>\n",
              "      <td>-15</td>\n",
              "      <td>-4.0</td>\n",
              "      <td>1020.0</td>\n",
              "      <td>SE</td>\n",
              "      <td>2.68</td>\n",
              "      <td>0</td>\n",
              "      <td>0</td>\n",
              "      <td>1</td>\n",
              "    </tr>\n",
              "    <tr>\n",
              "      <th>2010-01-02 02:00:00</th>\n",
              "      <td>159.0</td>\n",
              "      <td>-11</td>\n",
              "      <td>-5.0</td>\n",
              "      <td>1021.0</td>\n",
              "      <td>SE</td>\n",
              "      <td>3.57</td>\n",
              "      <td>0</td>\n",
              "      <td>0</td>\n",
              "      <td>1</td>\n",
              "    </tr>\n",
              "    <tr>\n",
              "      <th>2010-01-02 03:00:00</th>\n",
              "      <td>181.0</td>\n",
              "      <td>-7</td>\n",
              "      <td>-5.0</td>\n",
              "      <td>1022.0</td>\n",
              "      <td>SE</td>\n",
              "      <td>5.36</td>\n",
              "      <td>1</td>\n",
              "      <td>0</td>\n",
              "      <td>1</td>\n",
              "    </tr>\n",
              "    <tr>\n",
              "      <th>2010-01-02 04:00:00</th>\n",
              "      <td>138.0</td>\n",
              "      <td>-7</td>\n",
              "      <td>-5.0</td>\n",
              "      <td>1022.0</td>\n",
              "      <td>SE</td>\n",
              "      <td>6.25</td>\n",
              "      <td>2</td>\n",
              "      <td>0</td>\n",
              "      <td>1</td>\n",
              "    </tr>\n",
              "    <tr>\n",
              "      <th>...</th>\n",
              "      <td>...</td>\n",
              "      <td>...</td>\n",
              "      <td>...</td>\n",
              "      <td>...</td>\n",
              "      <td>...</td>\n",
              "      <td>...</td>\n",
              "      <td>...</td>\n",
              "      <td>...</td>\n",
              "      <td>...</td>\n",
              "    </tr>\n",
              "    <tr>\n",
              "      <th>2014-12-31 19:00:00</th>\n",
              "      <td>8.0</td>\n",
              "      <td>-23</td>\n",
              "      <td>-2.0</td>\n",
              "      <td>1034.0</td>\n",
              "      <td>NW</td>\n",
              "      <td>231.97</td>\n",
              "      <td>0</td>\n",
              "      <td>0</td>\n",
              "      <td>12</td>\n",
              "    </tr>\n",
              "    <tr>\n",
              "      <th>2014-12-31 20:00:00</th>\n",
              "      <td>10.0</td>\n",
              "      <td>-22</td>\n",
              "      <td>-3.0</td>\n",
              "      <td>1034.0</td>\n",
              "      <td>NW</td>\n",
              "      <td>237.78</td>\n",
              "      <td>0</td>\n",
              "      <td>0</td>\n",
              "      <td>12</td>\n",
              "    </tr>\n",
              "    <tr>\n",
              "      <th>2014-12-31 21:00:00</th>\n",
              "      <td>10.0</td>\n",
              "      <td>-22</td>\n",
              "      <td>-3.0</td>\n",
              "      <td>1034.0</td>\n",
              "      <td>NW</td>\n",
              "      <td>242.70</td>\n",
              "      <td>0</td>\n",
              "      <td>0</td>\n",
              "      <td>12</td>\n",
              "    </tr>\n",
              "    <tr>\n",
              "      <th>2014-12-31 22:00:00</th>\n",
              "      <td>8.0</td>\n",
              "      <td>-22</td>\n",
              "      <td>-4.0</td>\n",
              "      <td>1034.0</td>\n",
              "      <td>NW</td>\n",
              "      <td>246.72</td>\n",
              "      <td>0</td>\n",
              "      <td>0</td>\n",
              "      <td>12</td>\n",
              "    </tr>\n",
              "    <tr>\n",
              "      <th>2014-12-31 23:00:00</th>\n",
              "      <td>12.0</td>\n",
              "      <td>-21</td>\n",
              "      <td>-3.0</td>\n",
              "      <td>1034.0</td>\n",
              "      <td>NW</td>\n",
              "      <td>249.85</td>\n",
              "      <td>0</td>\n",
              "      <td>0</td>\n",
              "      <td>12</td>\n",
              "    </tr>\n",
              "  </tbody>\n",
              "</table>\n",
              "<p>43800 rows × 9 columns</p>\n",
              "</div>"
            ],
            "text/plain": [
              "                     pollution  dew  temp   press  ... wnd_spd  snow  rain  month\n",
              "year_month_day_hour                                ...                           \n",
              "2010-01-02 00:00:00      129.0  -16  -4.0  1020.0  ...    1.79     0     0      1\n",
              "2010-01-02 01:00:00      148.0  -15  -4.0  1020.0  ...    2.68     0     0      1\n",
              "2010-01-02 02:00:00      159.0  -11  -5.0  1021.0  ...    3.57     0     0      1\n",
              "2010-01-02 03:00:00      181.0   -7  -5.0  1022.0  ...    5.36     1     0      1\n",
              "2010-01-02 04:00:00      138.0   -7  -5.0  1022.0  ...    6.25     2     0      1\n",
              "...                        ...  ...   ...     ...  ...     ...   ...   ...    ...\n",
              "2014-12-31 19:00:00        8.0  -23  -2.0  1034.0  ...  231.97     0     0     12\n",
              "2014-12-31 20:00:00       10.0  -22  -3.0  1034.0  ...  237.78     0     0     12\n",
              "2014-12-31 21:00:00       10.0  -22  -3.0  1034.0  ...  242.70     0     0     12\n",
              "2014-12-31 22:00:00        8.0  -22  -4.0  1034.0  ...  246.72     0     0     12\n",
              "2014-12-31 23:00:00       12.0  -21  -3.0  1034.0  ...  249.85     0     0     12\n",
              "\n",
              "[43800 rows x 9 columns]"
            ]
          },
          "metadata": {
            "tags": []
          },
          "execution_count": 562
        }
      ]
    },
    {
      "cell_type": "markdown",
      "metadata": {
        "id": "KjUkLseyVoaY"
      },
      "source": [
        "One Hot encoding"
      ]
    },
    {
      "cell_type": "code",
      "metadata": {
        "colab": {
          "base_uri": "https://localhost:8080/",
          "height": 431
        },
        "id": "tPp7eOXUVqhO",
        "outputId": "6f00e747-aa67-4858-93f5-47f1d729e38a"
      },
      "source": [
        "wind_direction = pd.get_dummies(df.wnd_dir, drop_first=True)\r\n",
        "\r\n",
        "df = pd.concat([df, wind_direction], axis=1, sort=False)\r\n",
        "\r\n",
        "df.drop(columns=['wnd_dir'], inplace = True)\r\n",
        "\r\n",
        "df"
      ],
      "execution_count": null,
      "outputs": [
        {
          "output_type": "execute_result",
          "data": {
            "text/html": [
              "<div>\n",
              "<style scoped>\n",
              "    .dataframe tbody tr th:only-of-type {\n",
              "        vertical-align: middle;\n",
              "    }\n",
              "\n",
              "    .dataframe tbody tr th {\n",
              "        vertical-align: top;\n",
              "    }\n",
              "\n",
              "    .dataframe thead th {\n",
              "        text-align: right;\n",
              "    }\n",
              "</style>\n",
              "<table border=\"1\" class=\"dataframe\">\n",
              "  <thead>\n",
              "    <tr style=\"text-align: right;\">\n",
              "      <th></th>\n",
              "      <th>pollution</th>\n",
              "      <th>dew</th>\n",
              "      <th>temp</th>\n",
              "      <th>press</th>\n",
              "      <th>wnd_spd</th>\n",
              "      <th>snow</th>\n",
              "      <th>rain</th>\n",
              "      <th>month</th>\n",
              "      <th>NW</th>\n",
              "      <th>SE</th>\n",
              "      <th>cv</th>\n",
              "    </tr>\n",
              "    <tr>\n",
              "      <th>year_month_day_hour</th>\n",
              "      <th></th>\n",
              "      <th></th>\n",
              "      <th></th>\n",
              "      <th></th>\n",
              "      <th></th>\n",
              "      <th></th>\n",
              "      <th></th>\n",
              "      <th></th>\n",
              "      <th></th>\n",
              "      <th></th>\n",
              "      <th></th>\n",
              "    </tr>\n",
              "  </thead>\n",
              "  <tbody>\n",
              "    <tr>\n",
              "      <th>2010-01-02 00:00:00</th>\n",
              "      <td>129.0</td>\n",
              "      <td>-16</td>\n",
              "      <td>-4.0</td>\n",
              "      <td>1020.0</td>\n",
              "      <td>1.79</td>\n",
              "      <td>0</td>\n",
              "      <td>0</td>\n",
              "      <td>1</td>\n",
              "      <td>0</td>\n",
              "      <td>1</td>\n",
              "      <td>0</td>\n",
              "    </tr>\n",
              "    <tr>\n",
              "      <th>2010-01-02 01:00:00</th>\n",
              "      <td>148.0</td>\n",
              "      <td>-15</td>\n",
              "      <td>-4.0</td>\n",
              "      <td>1020.0</td>\n",
              "      <td>2.68</td>\n",
              "      <td>0</td>\n",
              "      <td>0</td>\n",
              "      <td>1</td>\n",
              "      <td>0</td>\n",
              "      <td>1</td>\n",
              "      <td>0</td>\n",
              "    </tr>\n",
              "    <tr>\n",
              "      <th>2010-01-02 02:00:00</th>\n",
              "      <td>159.0</td>\n",
              "      <td>-11</td>\n",
              "      <td>-5.0</td>\n",
              "      <td>1021.0</td>\n",
              "      <td>3.57</td>\n",
              "      <td>0</td>\n",
              "      <td>0</td>\n",
              "      <td>1</td>\n",
              "      <td>0</td>\n",
              "      <td>1</td>\n",
              "      <td>0</td>\n",
              "    </tr>\n",
              "    <tr>\n",
              "      <th>2010-01-02 03:00:00</th>\n",
              "      <td>181.0</td>\n",
              "      <td>-7</td>\n",
              "      <td>-5.0</td>\n",
              "      <td>1022.0</td>\n",
              "      <td>5.36</td>\n",
              "      <td>1</td>\n",
              "      <td>0</td>\n",
              "      <td>1</td>\n",
              "      <td>0</td>\n",
              "      <td>1</td>\n",
              "      <td>0</td>\n",
              "    </tr>\n",
              "    <tr>\n",
              "      <th>2010-01-02 04:00:00</th>\n",
              "      <td>138.0</td>\n",
              "      <td>-7</td>\n",
              "      <td>-5.0</td>\n",
              "      <td>1022.0</td>\n",
              "      <td>6.25</td>\n",
              "      <td>2</td>\n",
              "      <td>0</td>\n",
              "      <td>1</td>\n",
              "      <td>0</td>\n",
              "      <td>1</td>\n",
              "      <td>0</td>\n",
              "    </tr>\n",
              "    <tr>\n",
              "      <th>...</th>\n",
              "      <td>...</td>\n",
              "      <td>...</td>\n",
              "      <td>...</td>\n",
              "      <td>...</td>\n",
              "      <td>...</td>\n",
              "      <td>...</td>\n",
              "      <td>...</td>\n",
              "      <td>...</td>\n",
              "      <td>...</td>\n",
              "      <td>...</td>\n",
              "      <td>...</td>\n",
              "    </tr>\n",
              "    <tr>\n",
              "      <th>2014-12-31 19:00:00</th>\n",
              "      <td>8.0</td>\n",
              "      <td>-23</td>\n",
              "      <td>-2.0</td>\n",
              "      <td>1034.0</td>\n",
              "      <td>231.97</td>\n",
              "      <td>0</td>\n",
              "      <td>0</td>\n",
              "      <td>12</td>\n",
              "      <td>1</td>\n",
              "      <td>0</td>\n",
              "      <td>0</td>\n",
              "    </tr>\n",
              "    <tr>\n",
              "      <th>2014-12-31 20:00:00</th>\n",
              "      <td>10.0</td>\n",
              "      <td>-22</td>\n",
              "      <td>-3.0</td>\n",
              "      <td>1034.0</td>\n",
              "      <td>237.78</td>\n",
              "      <td>0</td>\n",
              "      <td>0</td>\n",
              "      <td>12</td>\n",
              "      <td>1</td>\n",
              "      <td>0</td>\n",
              "      <td>0</td>\n",
              "    </tr>\n",
              "    <tr>\n",
              "      <th>2014-12-31 21:00:00</th>\n",
              "      <td>10.0</td>\n",
              "      <td>-22</td>\n",
              "      <td>-3.0</td>\n",
              "      <td>1034.0</td>\n",
              "      <td>242.70</td>\n",
              "      <td>0</td>\n",
              "      <td>0</td>\n",
              "      <td>12</td>\n",
              "      <td>1</td>\n",
              "      <td>0</td>\n",
              "      <td>0</td>\n",
              "    </tr>\n",
              "    <tr>\n",
              "      <th>2014-12-31 22:00:00</th>\n",
              "      <td>8.0</td>\n",
              "      <td>-22</td>\n",
              "      <td>-4.0</td>\n",
              "      <td>1034.0</td>\n",
              "      <td>246.72</td>\n",
              "      <td>0</td>\n",
              "      <td>0</td>\n",
              "      <td>12</td>\n",
              "      <td>1</td>\n",
              "      <td>0</td>\n",
              "      <td>0</td>\n",
              "    </tr>\n",
              "    <tr>\n",
              "      <th>2014-12-31 23:00:00</th>\n",
              "      <td>12.0</td>\n",
              "      <td>-21</td>\n",
              "      <td>-3.0</td>\n",
              "      <td>1034.0</td>\n",
              "      <td>249.85</td>\n",
              "      <td>0</td>\n",
              "      <td>0</td>\n",
              "      <td>12</td>\n",
              "      <td>1</td>\n",
              "      <td>0</td>\n",
              "      <td>0</td>\n",
              "    </tr>\n",
              "  </tbody>\n",
              "</table>\n",
              "<p>43800 rows × 11 columns</p>\n",
              "</div>"
            ],
            "text/plain": [
              "                     pollution  dew  temp   press  ...  month  NW  SE  cv\n",
              "year_month_day_hour                                ...                   \n",
              "2010-01-02 00:00:00      129.0  -16  -4.0  1020.0  ...      1   0   1   0\n",
              "2010-01-02 01:00:00      148.0  -15  -4.0  1020.0  ...      1   0   1   0\n",
              "2010-01-02 02:00:00      159.0  -11  -5.0  1021.0  ...      1   0   1   0\n",
              "2010-01-02 03:00:00      181.0   -7  -5.0  1022.0  ...      1   0   1   0\n",
              "2010-01-02 04:00:00      138.0   -7  -5.0  1022.0  ...      1   0   1   0\n",
              "...                        ...  ...   ...     ...  ...    ...  ..  ..  ..\n",
              "2014-12-31 19:00:00        8.0  -23  -2.0  1034.0  ...     12   1   0   0\n",
              "2014-12-31 20:00:00       10.0  -22  -3.0  1034.0  ...     12   1   0   0\n",
              "2014-12-31 21:00:00       10.0  -22  -3.0  1034.0  ...     12   1   0   0\n",
              "2014-12-31 22:00:00        8.0  -22  -4.0  1034.0  ...     12   1   0   0\n",
              "2014-12-31 23:00:00       12.0  -21  -3.0  1034.0  ...     12   1   0   0\n",
              "\n",
              "[43800 rows x 11 columns]"
            ]
          },
          "metadata": {
            "tags": []
          },
          "execution_count": 563
        }
      ]
    },
    {
      "cell_type": "markdown",
      "metadata": {
        "id": "1UrUdiE3gZRa"
      },
      "source": [
        "Train-val-test split"
      ]
    },
    {
      "cell_type": "code",
      "metadata": {
        "colab": {
          "base_uri": "https://localhost:8080/"
        },
        "id": "ELgjShwhmMhK",
        "outputId": "915e1c45-ff29-42ca-d13c-45e66443302f"
      },
      "source": [
        "# Split Train-val-test\r\n",
        "\r\n",
        "n = len(df)\r\n",
        "train_df = df[0:int(n*0.7)]\r\n",
        "val_df = df[int(n*0.7):int(n*0.9)]\r\n",
        "test_df = df[int(n*0.9):]\r\n",
        "\r\n",
        "print(len(train_df), len(val_df), len(test_df))"
      ],
      "execution_count": null,
      "outputs": [
        {
          "output_type": "stream",
          "text": [
            "30659 8761 4380\n"
          ],
          "name": "stdout"
        }
      ]
    },
    {
      "cell_type": "markdown",
      "metadata": {
        "id": "WJvLw4PGVXSm"
      },
      "source": [
        "Normalize data"
      ]
    },
    {
      "cell_type": "code",
      "metadata": {
        "colab": {
          "base_uri": "https://localhost:8080/"
        },
        "id": "VARhdxZiVSHe",
        "outputId": "0b6addde-5c2d-490c-977b-73193fb25f0f"
      },
      "source": [
        "from sklearn.preprocessing import MinMaxScaler\r\n",
        "import warnings\r\n",
        "warnings.simplefilter(action='ignore', category=FutureWarning)\r\n",
        "\r\n",
        "# Normalise the features except the target (pollution)\r\n",
        "scaler = MinMaxScaler(feature_range=(0,1))\r\n",
        "\r\n",
        "train_df.iloc[:,1:5] = scaler.fit_transform(train_df.iloc[:,1:5])\r\n",
        "val_df.iloc[:,1:5] = scaler.transform(val_df.iloc[:,1:5])\r\n",
        "test_df.iloc[:,1:5] = scaler.transform(test_df.iloc[:,1:5])\r\n",
        "\r\n",
        "# Normalise the target (pollution)\r\n",
        "scaler = MinMaxScaler(feature_range=(0,1))\r\n",
        "\r\n",
        "train_df.pollution = scaler.fit_transform(train_df.pollution.values.reshape(-1,1))\r\n",
        "val_df.pollution = scaler.transform(val_df.pollution.values.reshape(-1,1))\r\n",
        "test_df.pollution = scaler.transform(test_df.pollution.values.reshape(-1,1))"
      ],
      "execution_count": null,
      "outputs": [
        {
          "output_type": "stream",
          "text": [
            "/usr/local/lib/python3.6/dist-packages/pandas/core/indexing.py:1734: SettingWithCopyWarning: \n",
            "A value is trying to be set on a copy of a slice from a DataFrame.\n",
            "Try using .loc[row_indexer,col_indexer] = value instead\n",
            "\n",
            "See the caveats in the documentation: https://pandas.pydata.org/pandas-docs/stable/user_guide/indexing.html#returning-a-view-versus-a-copy\n",
            "  isetter(loc, value[:, i].tolist())\n",
            "/usr/local/lib/python3.6/dist-packages/pandas/core/indexing.py:1734: SettingWithCopyWarning: \n",
            "A value is trying to be set on a copy of a slice from a DataFrame.\n",
            "Try using .loc[row_indexer,col_indexer] = value instead\n",
            "\n",
            "See the caveats in the documentation: https://pandas.pydata.org/pandas-docs/stable/user_guide/indexing.html#returning-a-view-versus-a-copy\n",
            "  isetter(loc, value[:, i].tolist())\n",
            "/usr/local/lib/python3.6/dist-packages/pandas/core/indexing.py:1734: SettingWithCopyWarning: \n",
            "A value is trying to be set on a copy of a slice from a DataFrame.\n",
            "Try using .loc[row_indexer,col_indexer] = value instead\n",
            "\n",
            "See the caveats in the documentation: https://pandas.pydata.org/pandas-docs/stable/user_guide/indexing.html#returning-a-view-versus-a-copy\n",
            "  isetter(loc, value[:, i].tolist())\n",
            "/usr/local/lib/python3.6/dist-packages/pandas/core/generic.py:5170: SettingWithCopyWarning: \n",
            "A value is trying to be set on a copy of a slice from a DataFrame.\n",
            "Try using .loc[row_indexer,col_indexer] = value instead\n",
            "\n",
            "See the caveats in the documentation: https://pandas.pydata.org/pandas-docs/stable/user_guide/indexing.html#returning-a-view-versus-a-copy\n",
            "  self[name] = value\n",
            "/usr/local/lib/python3.6/dist-packages/pandas/core/generic.py:5170: SettingWithCopyWarning: \n",
            "A value is trying to be set on a copy of a slice from a DataFrame.\n",
            "Try using .loc[row_indexer,col_indexer] = value instead\n",
            "\n",
            "See the caveats in the documentation: https://pandas.pydata.org/pandas-docs/stable/user_guide/indexing.html#returning-a-view-versus-a-copy\n",
            "  self[name] = value\n",
            "/usr/local/lib/python3.6/dist-packages/pandas/core/generic.py:5170: SettingWithCopyWarning: \n",
            "A value is trying to be set on a copy of a slice from a DataFrame.\n",
            "Try using .loc[row_indexer,col_indexer] = value instead\n",
            "\n",
            "See the caveats in the documentation: https://pandas.pydata.org/pandas-docs/stable/user_guide/indexing.html#returning-a-view-versus-a-copy\n",
            "  self[name] = value\n"
          ],
          "name": "stderr"
        }
      ]
    },
    {
      "cell_type": "code",
      "metadata": {
        "colab": {
          "base_uri": "https://localhost:8080/"
        },
        "id": "w8f4ZvTWkubV",
        "outputId": "77e9a844-5621-4047-eae1-8307d8e113a2"
      },
      "source": [
        "print(train_df.shape, val_df.shape, test_df.shape)\r\n",
        "print(train_df)"
      ],
      "execution_count": null,
      "outputs": [
        {
          "output_type": "stream",
          "text": [
            "(30659, 11) (8761, 11) (4380, 11)\n",
            "                     pollution       dew      temp     press  ...  month  NW  SE  cv\n",
            "year_month_day_hour                                           ...                   \n",
            "2010-01-02 00:00:00   0.129779  0.228070  0.250000  0.518519  ...      1   0   1   0\n",
            "2010-01-02 01:00:00   0.148893  0.245614  0.250000  0.518519  ...      1   0   1   0\n",
            "2010-01-02 02:00:00   0.159960  0.315789  0.233333  0.537037  ...      1   0   1   0\n",
            "2010-01-02 03:00:00   0.182093  0.385965  0.233333  0.555556  ...      1   0   1   0\n",
            "2010-01-02 04:00:00   0.138833  0.385965  0.233333  0.555556  ...      1   0   1   0\n",
            "...                        ...       ...       ...       ...  ...    ...  ..  ..  ..\n",
            "2013-07-02 06:00:00   0.013078  0.842105  0.683333  0.037037  ...      7   1   0   0\n",
            "2013-07-02 07:00:00   0.018109  0.842105  0.716667  0.055556  ...      7   1   0   0\n",
            "2013-07-02 08:00:00   0.015091  0.842105  0.766667  0.074074  ...      7   1   0   0\n",
            "2013-07-02 09:00:00   0.015091  0.842105  0.783333  0.074074  ...      7   1   0   0\n",
            "2013-07-02 10:00:00   0.016097  0.807018  0.800000  0.074074  ...      7   1   0   0\n",
            "\n",
            "[30659 rows x 11 columns]\n"
          ],
          "name": "stdout"
        }
      ]
    },
    {
      "cell_type": "markdown",
      "metadata": {
        "id": "vsIQFzfwqaOD"
      },
      "source": [
        "# Data Window"
      ]
    },
    {
      "cell_type": "code",
      "metadata": {
        "id": "HDH28bhTiOQV"
      },
      "source": [
        "class WindowGenerator():\r\n",
        "  def __init__(self, input_width, label_width, shift,\r\n",
        "               train_df=train_df, val_df=val_df, test_df=test_df,\r\n",
        "               label_columns=None):\r\n",
        "    # Store the raw data.\r\n",
        "    self.train_df = train_df\r\n",
        "    self.val_df = val_df\r\n",
        "    self.test_df = test_df\r\n",
        "\r\n",
        "    # Work out the label column indices.\r\n",
        "    self.label_columns = label_columns\r\n",
        "    if label_columns is not None:\r\n",
        "      self.label_columns_indices = {name: i for i, name in\r\n",
        "                                    enumerate(label_columns)}\r\n",
        "    self.column_indices = {name: i for i, name in\r\n",
        "                           enumerate(train_df.columns)}\r\n",
        "\r\n",
        "    # Work out the window parameters.\r\n",
        "    self.input_width = input_width\r\n",
        "    self.label_width = label_width\r\n",
        "    self.shift = shift\r\n",
        "\r\n",
        "    self.total_window_size = input_width + shift\r\n",
        "\r\n",
        "    self.input_slice = slice(0, input_width)\r\n",
        "    self.input_indices = np.arange(self.total_window_size)[self.input_slice]\r\n",
        "\r\n",
        "    self.label_start = self.total_window_size - self.label_width\r\n",
        "    self.labels_slice = slice(self.label_start, None)\r\n",
        "    self.label_indices = np.arange(self.total_window_size)[self.labels_slice]\r\n",
        "\r\n",
        "  def __repr__(self):\r\n",
        "    return '\\n'.join([\r\n",
        "        f'Total window size: {self.total_window_size}',\r\n",
        "        f'Input indices: {self.input_indices}',\r\n",
        "        f'Label indices: {self.label_indices}',\r\n",
        "        f'Label column name(s): {self.label_columns}'])"
      ],
      "execution_count": null,
      "outputs": []
    },
    {
      "cell_type": "code",
      "metadata": {
        "id": "NVUBq1uHoInr"
      },
      "source": [
        "def split_window(self, features):\r\n",
        "  inputs = features[:, self.input_slice, :]\r\n",
        "  labels = features[:, self.labels_slice, :]\r\n",
        "  if self.label_columns is not None:\r\n",
        "    labels = tf.stack(\r\n",
        "        [labels[:, :, self.column_indices[name]] for name in self.label_columns],\r\n",
        "        axis=-1)\r\n",
        "\r\n",
        "  # Slicing doesn't preserve static shape information, so set the shapes\r\n",
        "  # manually. This way the `tf.data.Datasets` are easier to inspect.\r\n",
        "  inputs.set_shape([None, self.input_width, None])\r\n",
        "  labels.set_shape([None, self.label_width, None])\r\n",
        "\r\n",
        "  return inputs, labels\r\n",
        "\r\n",
        "WindowGenerator.split_window = split_window"
      ],
      "execution_count": null,
      "outputs": []
    },
    {
      "cell_type": "code",
      "metadata": {
        "id": "Of9V6HJhso0Z"
      },
      "source": [
        "def plot(self, model=None, plot_col='pollution', max_subplots=3):\r\n",
        "  inputs, labels = self.example\r\n",
        "  plt.figure(figsize=(12, 8))\r\n",
        "  plot_col_index = self.column_indices[plot_col]\r\n",
        "  max_n = min(max_subplots, len(inputs))\r\n",
        "  for n in range(max_n):\r\n",
        "    plt.subplot(3, 1, n+1)\r\n",
        "    plt.ylabel(f'{plot_col} [normed]')\r\n",
        "    plt.plot(self.input_indices, inputs[n, :, plot_col_index],\r\n",
        "             label='Inputs', marker='.', zorder=-10)\r\n",
        "\r\n",
        "    if self.label_columns:\r\n",
        "      label_col_index = self.label_columns_indices.get(plot_col, None)\r\n",
        "    else:\r\n",
        "      label_col_index = plot_col_index\r\n",
        "\r\n",
        "    if label_col_index is None:\r\n",
        "      continue\r\n",
        "\r\n",
        "    plt.scatter(self.label_indices, labels[n, :, label_col_index],\r\n",
        "                edgecolors='k', label='Labels', c='#2ca02c', s=64)\r\n",
        "    if model is not None:\r\n",
        "      predictions = model(inputs)\r\n",
        "      plt.scatter(self.label_indices, predictions[n, :, label_col_index],\r\n",
        "                  marker='X', edgecolors='k', label='Predictions',\r\n",
        "                  c='#ff7f0e', s=64)\r\n",
        "\r\n",
        "    if n == 0:\r\n",
        "      plt.legend()\r\n",
        "\r\n",
        "  plt.xlabel('Time [h]')\r\n",
        "\r\n",
        "WindowGenerator.plot = plot"
      ],
      "execution_count": null,
      "outputs": []
    },
    {
      "cell_type": "markdown",
      "metadata": {
        "id": "0gsclj9IpDW_"
      },
      "source": [
        "Create tf.dataset"
      ]
    },
    {
      "cell_type": "code",
      "metadata": {
        "id": "hvahO-zypDoo"
      },
      "source": [
        "def make_dataset(self, data):\r\n",
        "  data = np.array(data, dtype=np.float32)\r\n",
        "  ds = tf.keras.preprocessing.timeseries_dataset_from_array(\r\n",
        "      data=data,\r\n",
        "      targets=None,\r\n",
        "      sequence_length=self.total_window_size,\r\n",
        "      sequence_stride=1,\r\n",
        "      shuffle=False,\r\n",
        "      batch_size=32,)\r\n",
        "\r\n",
        "  ds = ds.map(self.split_window)\r\n",
        "\r\n",
        "  return ds\r\n",
        "\r\n",
        "WindowGenerator.make_dataset = make_dataset"
      ],
      "execution_count": null,
      "outputs": []
    },
    {
      "cell_type": "code",
      "metadata": {
        "id": "Xs3YYsqyqXqx"
      },
      "source": [
        "@property\r\n",
        "def train(self):\r\n",
        "  return self.make_dataset(self.train_df)\r\n",
        "\r\n",
        "@property\r\n",
        "def val(self):\r\n",
        "  return self.make_dataset(self.val_df)\r\n",
        "\r\n",
        "@property\r\n",
        "def test(self):\r\n",
        "  return self.make_dataset(self.test_df)\r\n",
        "\r\n",
        "@property\r\n",
        "def example(self):\r\n",
        "  \"\"\"Get and cache an example batch of `inputs, labels` for plotting.\"\"\"\r\n",
        "  result = getattr(self, '_example', None)\r\n",
        "  if result is None:\r\n",
        "    # No example batch was found, so get one from the `.train` dataset\r\n",
        "    result = next(iter(self.train))\r\n",
        "    # And cache it for next time\r\n",
        "    self._example = result\r\n",
        "  return result\r\n",
        "\r\n",
        "WindowGenerator.train = train\r\n",
        "WindowGenerator.val = val\r\n",
        "WindowGenerator.test = test\r\n",
        "WindowGenerator.example = example"
      ],
      "execution_count": null,
      "outputs": []
    },
    {
      "cell_type": "markdown",
      "metadata": {
        "id": "1HQTCxWCXEJe"
      },
      "source": [
        "# Sliding Window (1 hour ahead)"
      ]
    },
    {
      "cell_type": "code",
      "metadata": {
        "colab": {
          "base_uri": "https://localhost:8080/"
        },
        "id": "IDUQwCOMrLPg",
        "outputId": "3d5b8743-1076-4f20-9e5e-b3f2db4c07e0"
      },
      "source": [
        "input_width = 24\r\n",
        "\r\n",
        "data_window = WindowGenerator(input_width=input_width, label_width=1, shift=1,\r\n",
        "                     label_columns=['pollution'])\r\n",
        "data_window"
      ],
      "execution_count": null,
      "outputs": [
        {
          "output_type": "execute_result",
          "data": {
            "text/plain": [
              "Total window size: 25\n",
              "Input indices: [ 0  1  2  3  4  5  6  7  8  9 10 11 12 13 14 15 16 17 18 19 20 21 22 23]\n",
              "Label indices: [24]\n",
              "Label column name(s): ['pollution']"
            ]
          },
          "metadata": {
            "tags": []
          },
          "execution_count": 572
        }
      ]
    },
    {
      "cell_type": "code",
      "metadata": {
        "colab": {
          "base_uri": "https://localhost:8080/"
        },
        "id": "6Nlbs0pzpbOb",
        "outputId": "51d15d6e-9725-4ea0-e302-c0d0d91be71d"
      },
      "source": [
        "for example_inputs, example_labels in data_window.train.take(1):\r\n",
        "  print(f'Inputs shape (batch, time, features): {example_inputs.shape}')\r\n",
        "  print(f'Labels shape (batch, time, features): {example_labels.shape}')"
      ],
      "execution_count": null,
      "outputs": [
        {
          "output_type": "stream",
          "text": [
            "Inputs shape (batch, time, features): (32, 24, 11)\n",
            "Labels shape (batch, time, features): (32, 1, 1)\n"
          ],
          "name": "stdout"
        }
      ]
    },
    {
      "cell_type": "code",
      "metadata": {
        "colab": {
          "base_uri": "https://localhost:8080/",
          "height": 497
        },
        "id": "q_eQSEOpsqmi",
        "outputId": "0d3f2571-388a-4598-8a9c-16fa94ff2743"
      },
      "source": [
        "data_window.plot(plot_col='pollution')"
      ],
      "execution_count": null,
      "outputs": [
        {
          "output_type": "display_data",
          "data": {
            "image/png": "[encoded data removed]",
            "text/plain": [
              "<Figure size 864x576 with 3 Axes>"
            ]
          },
          "metadata": {
            "tags": [],
            "needs_background": "light"
          }
        }
      ]
    },
    {
      "cell_type": "markdown",
      "metadata": {
        "id": "p8YzF4v8uTpa"
      },
      "source": [
        "# LSTM Model"
      ]
    },
    {
      "cell_type": "code",
      "metadata": {
        "colab": {
          "base_uri": "https://localhost:8080/"
        },
        "id": "gSIylJsavlZU",
        "outputId": "56cd2a43-eaa8-45ca-dde3-274360ece024"
      },
      "source": [
        "data_window.example[0].shape"
      ],
      "execution_count": null,
      "outputs": [
        {
          "output_type": "execute_result",
          "data": {
            "text/plain": [
              "TensorShape([32, 24, 11])"
            ]
          },
          "metadata": {
            "tags": []
          },
          "execution_count": 575
        }
      ]
    },
    {
      "cell_type": "markdown",
      "metadata": {
        "id": "1kvfPMJf112O"
      },
      "source": [
        "Note:\r\n",
        "\r\n",
        "1.   Avoid Relu for LSTM\r\n",
        "2.   tanh > sigmoid\r\n",
        "3.   LSTM uses both sigmoid and tanh internally\r\n",
        "\r\n"
      ]
    },
    {
      "cell_type": "code",
      "metadata": {
        "colab": {
          "base_uri": "https://localhost:8080/"
        },
        "id": "pfC6DGa6tmhh",
        "outputId": "fe2e5f40-68ce-4254-ee58-29c7b83de36f"
      },
      "source": [
        "import keras\r\n",
        "import tensorflow as tf\r\n",
        "from keras.models import Model\r\n",
        "from keras.layers import Dense, Dropout, LSTM, Input, Activation, concatenate\r\n",
        "from keras import optimizers\r\n",
        "\r\n",
        "lstm_input = Input(shape=(data_window.example[0].shape[1], data_window.example[0].shape[2])) #omit batch size\r\n",
        "x = LSTM(128, return_sequences=True)(lstm_input)\r\n",
        "x = Dropout(0.2)(x)\r\n",
        "x = LSTM(64)(x)\r\n",
        "x = Dense(32, activation='tanh')(x) #tanh is applied after dense calculation\r\n",
        "output = Dense(1)(x)\r\n",
        "\r\n",
        "model = Model(inputs=lstm_input, outputs=output)\r\n",
        "\r\n",
        "model.summary()"
      ],
      "execution_count": null,
      "outputs": [
        {
          "output_type": "stream",
          "text": [
            "Model: \"functional_61\"\n",
            "_________________________________________________________________\n",
            "Layer (type)                 Output Shape              Param #   \n",
            "=================================================================\n",
            "input_37 (InputLayer)        [(None, 24, 11)]          0         \n",
            "_________________________________________________________________\n",
            "lstm_60 (LSTM)               (None, 24, 128)           71680     \n",
            "_________________________________________________________________\n",
            "dropout_41 (Dropout)         (None, 24, 128)           0         \n",
            "_________________________________________________________________\n",
            "lstm_61 (LSTM)               (None, 64)                49408     \n",
            "_________________________________________________________________\n",
            "dense_72 (Dense)             (None, 32)                2080      \n",
            "_________________________________________________________________\n",
            "dense_73 (Dense)             (None, 1)                 33        \n",
            "=================================================================\n",
            "Total params: 123,201\n",
            "Trainable params: 123,201\n",
            "Non-trainable params: 0\n",
            "_________________________________________________________________\n"
          ],
          "name": "stdout"
        }
      ]
    },
    {
      "cell_type": "markdown",
      "metadata": {
        "id": "y7Bj5ehmytJW"
      },
      "source": [
        "Train the model"
      ]
    },
    {
      "cell_type": "code",
      "metadata": {
        "id": "DSvwDhJzyxVv"
      },
      "source": [
        "model.compile(loss='mse', optimizer='adam', metrics='RootMeanSquaredError')"
      ],
      "execution_count": null,
      "outputs": []
    },
    {
      "cell_type": "code",
      "metadata": {
        "colab": {
          "base_uri": "https://localhost:8080/"
        },
        "id": "ZUSm08bxyuTf",
        "outputId": "b0154499-c394-46e3-908c-e854ba537e38"
      },
      "source": [
        "history = model.fit(data_window.train, \r\n",
        "                    epochs=7,\r\n",
        "                    validation_data=data_window.val)"
      ],
      "execution_count": null,
      "outputs": [
        {
          "output_type": "stream",
          "text": [
            "Epoch 1/7\n",
            "958/958 [==============================] - 44s 46ms/step - loss: 0.0081 - root_mean_squared_error: 0.0902 - val_loss: 0.0052 - val_root_mean_squared_error: 0.0724\n",
            "Epoch 2/7\n",
            "958/958 [==============================] - 43s 45ms/step - loss: 0.0040 - root_mean_squared_error: 0.0630 - val_loss: 0.0030 - val_root_mean_squared_error: 0.0548\n",
            "Epoch 3/7\n",
            "958/958 [==============================] - 43s 45ms/step - loss: 0.0018 - root_mean_squared_error: 0.0421 - val_loss: 0.0014 - val_root_mean_squared_error: 0.0379\n",
            "Epoch 4/7\n",
            "958/958 [==============================] - 43s 45ms/step - loss: 0.0013 - root_mean_squared_error: 0.0360 - val_loss: 9.6436e-04 - val_root_mean_squared_error: 0.0311\n",
            "Epoch 5/7\n",
            "958/958 [==============================] - 43s 45ms/step - loss: 0.0012 - root_mean_squared_error: 0.0344 - val_loss: 0.0010 - val_root_mean_squared_error: 0.0318\n",
            "Epoch 6/7\n",
            "958/958 [==============================] - 43s 45ms/step - loss: 0.0011 - root_mean_squared_error: 0.0330 - val_loss: 9.1916e-04 - val_root_mean_squared_error: 0.0303\n",
            "Epoch 7/7\n",
            "958/958 [==============================] - 43s 45ms/step - loss: 0.0010 - root_mean_squared_error: 0.0321 - val_loss: 8.1207e-04 - val_root_mean_squared_error: 0.0285\n"
          ],
          "name": "stdout"
        }
      ]
    },
    {
      "cell_type": "markdown",
      "metadata": {
        "id": "owss9q0MRtnT"
      },
      "source": [
        "# Evaluation"
      ]
    },
    {
      "cell_type": "code",
      "metadata": {
        "colab": {
          "base_uri": "https://localhost:8080/"
        },
        "id": "j5q1Y1ezHgqU",
        "outputId": "c4476617-3d38-4aeb-a280-256f543e2145"
      },
      "source": [
        "model.evaluate(data_window.val)"
      ],
      "execution_count": null,
      "outputs": [
        {
          "output_type": "stream",
          "text": [
            "274/274 [==============================] - 4s 14ms/step - loss: 8.1207e-04 - root_mean_squared_error: 0.0285\n"
          ],
          "name": "stdout"
        },
        {
          "output_type": "execute_result",
          "data": {
            "text/plain": [
              "[0.0008120702696032822, 0.028496846556663513]"
            ]
          },
          "metadata": {
            "tags": []
          },
          "execution_count": 639
        }
      ]
    },
    {
      "cell_type": "code",
      "metadata": {
        "colab": {
          "base_uri": "https://localhost:8080/"
        },
        "id": "djstbg1tHjE1",
        "outputId": "df5eb6f0-edee-40d8-dd65-d9d0ffd6d066"
      },
      "source": [
        "model.evaluate(data_window.test, verbose=0)"
      ],
      "execution_count": null,
      "outputs": [
        {
          "output_type": "execute_result",
          "data": {
            "text/plain": [
              "[0.0007747733034193516, 0.027834750711917877]"
            ]
          },
          "metadata": {
            "tags": []
          },
          "execution_count": 640
        }
      ]
    },
    {
      "cell_type": "markdown",
      "metadata": {
        "id": "QpF3JtgtuPcX"
      },
      "source": [
        "Data Visualisation"
      ]
    },
    {
      "cell_type": "code",
      "metadata": {
        "colab": {
          "base_uri": "https://localhost:8080/"
        },
        "id": "C-TjEMdNuRZf",
        "outputId": "458a0c1c-0759-4cdc-f32a-b72786260cc6"
      },
      "source": [
        "y_pred = model.predict(data_window.test, verbose=0)\r\n",
        "\r\n",
        "len(y_pred)"
      ],
      "execution_count": null,
      "outputs": [
        {
          "output_type": "execute_result",
          "data": {
            "text/plain": [
              "4356"
            ]
          },
          "metadata": {
            "tags": []
          },
          "execution_count": 641
        }
      ]
    },
    {
      "cell_type": "code",
      "metadata": {
        "colab": {
          "base_uri": "https://localhost:8080/"
        },
        "id": "DCWD1MN_udM9",
        "outputId": "af606021-0e5e-4aaf-fceb-94e069b57c67"
      },
      "source": [
        "y_true = scaler.inverse_transform(test_df.pollution.values.reshape(-1,1))\r\n",
        "\r\n",
        "len(y_true)"
      ],
      "execution_count": null,
      "outputs": [
        {
          "output_type": "execute_result",
          "data": {
            "text/plain": [
              "4380"
            ]
          },
          "metadata": {
            "tags": []
          },
          "execution_count": 642
        }
      ]
    },
    {
      "cell_type": "code",
      "metadata": {
        "colab": {
          "base_uri": "https://localhost:8080/",
          "height": 282
        },
        "id": "NnrsQ-Q2wu04",
        "outputId": "34ee2974-af2c-4a3e-c511-1bcc15277ab1"
      },
      "source": [
        "y_pred = scaler.inverse_transform(y_pred)\r\n",
        "\r\n",
        "plt.plot(y_pred)"
      ],
      "execution_count": null,
      "outputs": [
        {
          "output_type": "execute_result",
          "data": {
            "text/plain": [
              "[<matplotlib.lines.Line2D at 0x7f69ba6914a8>]"
            ]
          },
          "metadata": {
            "tags": []
          },
          "execution_count": 643
        },
        {
          "output_type": "display_data",
          "data": {
            "image/png": "[encoded data removed]",
            "text/plain": [
              "<Figure size 432x288 with 1 Axes>"
            ]
          },
          "metadata": {
            "tags": [],
            "needs_background": "light"
          }
        }
      ]
    },
    {
      "cell_type": "code",
      "metadata": {
        "colab": {
          "base_uri": "https://localhost:8080/"
        },
        "id": "EGO-Wp3_-YE4",
        "outputId": "41e577fe-d597-45bd-e8de-d698c32abaf9"
      },
      "source": [
        "len(y_true[input_width:]) == len(y_pred)"
      ],
      "execution_count": null,
      "outputs": [
        {
          "output_type": "execute_result",
          "data": {
            "text/plain": [
              "True"
            ]
          },
          "metadata": {
            "tags": []
          },
          "execution_count": 644
        }
      ]
    },
    {
      "cell_type": "code",
      "metadata": {
        "colab": {
          "base_uri": "https://localhost:8080/",
          "height": 265
        },
        "id": "E6t504ps9xNo",
        "outputId": "07062c54-f6d7-42b2-fc74-8da75c956c2b"
      },
      "source": [
        "plt.plot(y_pred[:100], color='b', label='y_pred')\r\n",
        "plt.plot(y_true[input_width:100+input_width], color='r', label='y_true')\r\n",
        "\r\n",
        "plt.legend()\r\n",
        "plt.show()"
      ],
      "execution_count": null,
      "outputs": [
        {
          "output_type": "display_data",
          "data": {
            "image/png": "[encoded data removed]",
            "text/plain": [
              "<Figure size 432x288 with 1 Axes>"
            ]
          },
          "metadata": {
            "tags": [],
            "needs_background": "light"
          }
        }
      ]
    },
    {
      "cell_type": "code",
      "metadata": {
        "colab": {
          "base_uri": "https://localhost:8080/"
        },
        "id": "nTXUdcX9TO59",
        "outputId": "84290120-06d2-464b-bfaf-6ccfef5fd1ac"
      },
      "source": [
        "from sklearn.metrics import mean_squared_error\r\n",
        "\r\n",
        "rmse = mean_squared_error(y_true[24:], y_pred, squared=False)\r\n",
        "\r\n",
        "rmse"
      ],
      "execution_count": null,
      "outputs": [
        {
          "output_type": "execute_result",
          "data": {
            "text/plain": [
              "27.667740908207975"
            ]
          },
          "metadata": {
            "tags": []
          },
          "execution_count": 646
        }
      ]
    },
    {
      "cell_type": "markdown",
      "metadata": {
        "id": "2ldYSmdxRwsi"
      },
      "source": [
        "# Predict the next 24 hours (One shot approach)"
      ]
    },
    {
      "cell_type": "code",
      "metadata": {
        "colab": {
          "base_uri": "https://localhost:8080/"
        },
        "id": "i7rhvKXRXoSB",
        "outputId": "c81b0f83-de9a-4580-bc0d-f3838ba8a702"
      },
      "source": [
        "input_width = 24\r\n",
        "OUT_STEPS = 24\r\n",
        "\r\n",
        "data_window = WindowGenerator(input_width=input_width, label_width=OUT_STEPS, shift=OUT_STEPS,\r\n",
        "                     label_columns=['pollution'])\r\n",
        "data_window"
      ],
      "execution_count": null,
      "outputs": [
        {
          "output_type": "execute_result",
          "data": {
            "text/plain": [
              "Total window size: 48\n",
              "Input indices: [ 0  1  2  3  4  5  6  7  8  9 10 11 12 13 14 15 16 17 18 19 20 21 22 23]\n",
              "Label indices: [24 25 26 27 28 29 30 31 32 33 34 35 36 37 38 39 40 41 42 43 44 45 46 47]\n",
              "Label column name(s): ['pollution']"
            ]
          },
          "metadata": {
            "tags": []
          },
          "execution_count": 647
        }
      ]
    },
    {
      "cell_type": "code",
      "metadata": {
        "colab": {
          "base_uri": "https://localhost:8080/"
        },
        "id": "Z9yGLO9IXoSD",
        "outputId": "c114ff11-a2c6-4890-954f-563846232cf5"
      },
      "source": [
        "for example_inputs, example_labels in data_window.train.take(1):\r\n",
        "  print(f'Inputs shape (batch, time, features): {example_inputs.shape}')\r\n",
        "  print(f'Labels shape (batch, time, features): {example_labels.shape}')"
      ],
      "execution_count": null,
      "outputs": [
        {
          "output_type": "stream",
          "text": [
            "Inputs shape (batch, time, features): (32, 24, 11)\n",
            "Labels shape (batch, time, features): (32, 24, 1)\n"
          ],
          "name": "stdout"
        }
      ]
    },
    {
      "cell_type": "code",
      "metadata": {
        "colab": {
          "base_uri": "https://localhost:8080/",
          "height": 497
        },
        "id": "Ajjr9-5IXoSE",
        "outputId": "0c1e7803-2919-4b21-eda8-24d3b5a71981"
      },
      "source": [
        "data_window.plot(plot_col='pollution')"
      ],
      "execution_count": null,
      "outputs": [
        {
          "output_type": "display_data",
          "data": {
            "image/png": "[encoded data removed]",
            "text/plain": [
              "<Figure size 864x576 with 3 Axes>"
            ]
          },
          "metadata": {
            "tags": [],
            "needs_background": "light"
          }
        }
      ]
    },
    {
      "cell_type": "markdown",
      "metadata": {
        "id": "m17ueltSX7BA"
      },
      "source": [
        "Train the model"
      ]
    },
    {
      "cell_type": "code",
      "metadata": {
        "colab": {
          "base_uri": "https://localhost:8080/"
        },
        "id": "yxIGEScbl17T",
        "outputId": "567ace62-c589-4fbe-e229-377e7c69647e"
      },
      "source": [
        "import keras\r\n",
        "import tensorflow as tf\r\n",
        "from keras.models import Model\r\n",
        "from keras.layers import Dense, Dropout, LSTM, Input, Activation, concatenate, Reshape\r\n",
        "from keras import optimizers\r\n",
        "\r\n",
        "n_output = 24\r\n",
        "\r\n",
        "lstm_input = Input(shape=(data_window.example[0].shape[1], data_window.example[0].shape[2])) #omit batch size\r\n",
        "x = LSTM(128, return_sequences=True)(lstm_input)\r\n",
        "x = Dropout(0.2)(x)\r\n",
        "x = LSTM(64)(x)\r\n",
        "x = Dense(n_output*1, activation='tanh')(x)\r\n",
        "output = Reshape([n_output, 1])(x)\r\n",
        "\r\n",
        "model = Model(inputs=lstm_input, outputs=output)\r\n",
        "\r\n",
        "model.summary()"
      ],
      "execution_count": null,
      "outputs": [
        {
          "output_type": "stream",
          "text": [
            "Model: \"functional_85\"\n",
            "_________________________________________________________________\n",
            "Layer (type)                 Output Shape              Param #   \n",
            "=================================================================\n",
            "input_52 (InputLayer)        [(None, 24, 11)]          0         \n",
            "_________________________________________________________________\n",
            "lstm_90 (LSTM)               (None, 24, 128)           71680     \n",
            "_________________________________________________________________\n",
            "dropout_56 (Dropout)         (None, 24, 128)           0         \n",
            "_________________________________________________________________\n",
            "lstm_91 (LSTM)               (None, 64)                49408     \n",
            "_________________________________________________________________\n",
            "dense_92 (Dense)             (None, 24)                1560      \n",
            "_________________________________________________________________\n",
            "reshape_19 (Reshape)         (None, 24, 1)             0         \n",
            "=================================================================\n",
            "Total params: 122,648\n",
            "Trainable params: 122,648\n",
            "Non-trainable params: 0\n",
            "_________________________________________________________________\n"
          ],
          "name": "stdout"
        }
      ]
    },
    {
      "cell_type": "code",
      "metadata": {
        "id": "0i6_S_MJX_t3"
      },
      "source": [
        "model.compile(loss='mse', optimizer='adam', metrics='RootMeanSquaredError')"
      ],
      "execution_count": null,
      "outputs": []
    },
    {
      "cell_type": "code",
      "metadata": {
        "colab": {
          "base_uri": "https://localhost:8080/"
        },
        "id": "zw6DG61IX1IV",
        "outputId": "7a53ca48-1e97-4a23-8ff3-9f9bbde54331"
      },
      "source": [
        "history = model.fit(data_window.train, \r\n",
        "                    epochs=7,\r\n",
        "                    validation_data=data_window.val)"
      ],
      "execution_count": null,
      "outputs": [
        {
          "output_type": "stream",
          "text": [
            "Epoch 1/7\n",
            "957/957 [==============================] - 43s 45ms/step - loss: 0.0087 - root_mean_squared_error: 0.0935 - val_loss: 0.0068 - val_root_mean_squared_error: 0.0826\n",
            "Epoch 2/7\n",
            "957/957 [==============================] - 42s 44ms/step - loss: 0.0070 - root_mean_squared_error: 0.0838 - val_loss: 0.0065 - val_root_mean_squared_error: 0.0805\n",
            "Epoch 3/7\n",
            "957/957 [==============================] - 42s 44ms/step - loss: 0.0064 - root_mean_squared_error: 0.0798 - val_loss: 0.0062 - val_root_mean_squared_error: 0.0788\n",
            "Epoch 4/7\n",
            "957/957 [==============================] - 42s 44ms/step - loss: 0.0060 - root_mean_squared_error: 0.0777 - val_loss: 0.0059 - val_root_mean_squared_error: 0.0766\n",
            "Epoch 5/7\n",
            "957/957 [==============================] - 42s 44ms/step - loss: 0.0058 - root_mean_squared_error: 0.0763 - val_loss: 0.0055 - val_root_mean_squared_error: 0.0744\n",
            "Epoch 6/7\n",
            "957/957 [==============================] - 42s 44ms/step - loss: 0.0057 - root_mean_squared_error: 0.0753 - val_loss: 0.0053 - val_root_mean_squared_error: 0.0727\n",
            "Epoch 7/7\n",
            "957/957 [==============================] - 43s 45ms/step - loss: 0.0056 - root_mean_squared_error: 0.0748 - val_loss: 0.0051 - val_root_mean_squared_error: 0.0714\n"
          ],
          "name": "stdout"
        }
      ]
    },
    {
      "cell_type": "markdown",
      "metadata": {
        "id": "SPK2K5x2YGIO"
      },
      "source": [
        "Evaluation"
      ]
    },
    {
      "cell_type": "code",
      "metadata": {
        "colab": {
          "base_uri": "https://localhost:8080/"
        },
        "id": "Oidv1UsVYG-Z",
        "outputId": "66e1b5d9-87af-413c-b779-8ab04c87db24"
      },
      "source": [
        "model.evaluate(data_window.val)"
      ],
      "execution_count": null,
      "outputs": [
        {
          "output_type": "stream",
          "text": [
            "273/273 [==============================] - 4s 13ms/step - loss: 0.0051 - root_mean_squared_error: 0.0714\n"
          ],
          "name": "stdout"
        },
        {
          "output_type": "execute_result",
          "data": {
            "text/plain": [
              "[0.00510034803301096, 0.0714167058467865]"
            ]
          },
          "metadata": {
            "tags": []
          },
          "execution_count": 692
        }
      ]
    },
    {
      "cell_type": "code",
      "metadata": {
        "colab": {
          "base_uri": "https://localhost:8080/"
        },
        "id": "HDvyXCJ8YLBs",
        "outputId": "ae9e4c60-9a10-422a-e74e-23175e241fcc"
      },
      "source": [
        "model.evaluate(data_window.test, verbose=0)"
      ],
      "execution_count": null,
      "outputs": [
        {
          "output_type": "execute_result",
          "data": {
            "text/plain": [
              "[0.005293743219226599, 0.07275812327861786]"
            ]
          },
          "metadata": {
            "tags": []
          },
          "execution_count": 693
        }
      ]
    },
    {
      "cell_type": "markdown",
      "metadata": {
        "id": "5NV13B_fhbrw"
      },
      "source": [
        "Data Visualisation"
      ]
    },
    {
      "cell_type": "code",
      "metadata": {
        "colab": {
          "base_uri": "https://localhost:8080/",
          "height": 497
        },
        "id": "zsKtUL7ci2WD",
        "outputId": "1ca601e2-82d3-4f72-9a82-b124f1d116cf"
      },
      "source": [
        "data_window.plot(model)"
      ],
      "execution_count": null,
      "outputs": [
        {
          "output_type": "display_data",
          "data": {
            "image/png": "[encoded data removed]",
            "text/plain": [
              "<Figure size 864x576 with 3 Axes>"
            ]
          },
          "metadata": {
            "tags": [],
            "needs_background": "light"
          }
        }
      ]
    },
    {
      "cell_type": "code",
      "metadata": {
        "colab": {
          "base_uri": "https://localhost:8080/"
        },
        "id": "Zb9HclVDYPWm",
        "outputId": "05243f5c-f725-4eab-816a-4e0dc8a81cf8"
      },
      "source": [
        "y_pred = model.predict(data_window.test, verbose=0)\r\n",
        "\r\n",
        "y_pred.shape"
      ],
      "execution_count": null,
      "outputs": [
        {
          "output_type": "execute_result",
          "data": {
            "text/plain": [
              "(4333, 24, 1)"
            ]
          },
          "metadata": {
            "tags": []
          },
          "execution_count": 695
        }
      ]
    },
    {
      "cell_type": "code",
      "metadata": {
        "id": "00n-u20z-Gfr"
      },
      "source": [
        "y_pred[0] = scaler.inverse_transform(y_pred[0])"
      ],
      "execution_count": null,
      "outputs": []
    },
    {
      "cell_type": "code",
      "metadata": {
        "colab": {
          "base_uri": "https://localhost:8080/"
        },
        "id": "222WpeT19Cok",
        "outputId": "0fbea643-8613-4e71-b1f2-81c21b95e882"
      },
      "source": [
        "from sklearn.metrics import mean_squared_error\r\n",
        "\r\n",
        "rmse = mean_squared_error(y_true[24:48], y_pred[0], squared=False)\r\n",
        "\r\n",
        "rmse"
      ],
      "execution_count": null,
      "outputs": [
        {
          "output_type": "execute_result",
          "data": {
            "text/plain": [
              "73.15982685648291"
            ]
          },
          "metadata": {
            "tags": []
          },
          "execution_count": 703
        }
      ]
    },
    {
      "cell_type": "markdown",
      "metadata": {
        "id": "0xC7naA_72m_"
      },
      "source": [
        "# Test Unseen Data"
      ]
    },
    {
      "cell_type": "code",
      "metadata": {
        "colab": {
          "base_uri": "https://localhost:8080/"
        },
        "id": "8895GTit78tm",
        "outputId": "1685d4df-ab7c-47fb-c776-e224716ad67e"
      },
      "source": [
        "unseen_x = test_df.iloc[-input_width:,:].values.reshape(1, input_width, 11)\r\n",
        "\r\n",
        "unseen_x.shape"
      ],
      "execution_count": null,
      "outputs": [
        {
          "output_type": "execute_result",
          "data": {
            "text/plain": [
              "(1, 24, 11)"
            ]
          },
          "metadata": {
            "tags": []
          },
          "execution_count": 717
        }
      ]
    },
    {
      "cell_type": "code",
      "metadata": {
        "colab": {
          "base_uri": "https://localhost:8080/",
          "height": 284
        },
        "id": "V0NDBDq8_A0S",
        "outputId": "e898b021-33de-449e-ea4a-127ba7a95ccb"
      },
      "source": [
        "unseen_y = model.predict(unseen_x, verbose=0)\r\n",
        "\r\n",
        "unseen_y = scaler.inverse_transform(unseen_y.reshape(-1,1))\r\n",
        "\r\n",
        "plt.plot(unseen_y)"
      ],
      "execution_count": null,
      "outputs": [
        {
          "output_type": "execute_result",
          "data": {
            "text/plain": [
              "[<matplotlib.lines.Line2D at 0x7f69b84a6c88>]"
            ]
          },
          "metadata": {
            "tags": []
          },
          "execution_count": 729
        },
        {
          "output_type": "display_data",
          "data": {
            "image/png": "[encoded data removed]",
            "text/plain": [
              "<Figure size 432x288 with 1 Axes>"
            ]
          },
          "metadata": {
            "tags": [],
            "needs_background": "light"
          }
        }
      ]
    }
  ]
}
