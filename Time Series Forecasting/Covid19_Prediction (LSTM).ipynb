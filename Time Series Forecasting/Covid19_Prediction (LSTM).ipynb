{
  "nbformat": 4,
  "nbformat_minor": 0,
  "metadata": {
    "colab": {
      "name": "Covid19 Prediction.ipynb",
      "provenance": []
    },
    "kernelspec": {
      "name": "python3",
      "display_name": "Python 3"
    }
  },
  "cells": [
    {
      "cell_type": "markdown",
      "metadata": {
        "id": "kuqt2Q0nXxEK"
      },
      "source": [
        "# LSTM approach"
      ]
    },
    {
      "cell_type": "markdown",
      "metadata": {
        "id": "uzlrubp0eqpr"
      },
      "source": [
        "Load Data"
      ]
    },
    {
      "cell_type": "code",
      "metadata": {
        "colab": {
          "base_uri": "https://localhost:8080/"
        },
        "id": "wA5cy5-jZHrA",
        "outputId": "e410d19f-498a-4152-b557-ac2c4b6d07d3"
      },
      "source": [
        "import pandas as pd\n",
        "\n",
        "df = pd.read_csv('https://raw.githubusercontent.com/CSSEGISandData/COVID-19/master/csse_covid_19_data/csse_covid_19_time_series/time_series_covid19_confirmed_global.csv')\n",
        "\n",
        "df.drop(columns=['Lat', 'Long', 'Province/State'], inplace=True)\n",
        "\n",
        "df = df[df['Country/Region'] == 'Singapore']\n",
        "\n",
        "df_melt = pd.melt(df.iloc[:,1:], var_name='ds', value_name='y')\n",
        "\n",
        "# Calculate number of new cases per day\n",
        "\n",
        "df_new = df_melt.y.diff().dropna()\n",
        "\n",
        "df_new.reset_index(drop=True, inplace=True)\n",
        "\n",
        "df_new"
      ],
      "execution_count": 348,
      "outputs": [
        {
          "output_type": "execute_result",
          "data": {
            "text/plain": [
              "0       1.0\n",
              "1       2.0\n",
              "2       0.0\n",
              "3       1.0\n",
              "4       1.0\n",
              "       ... \n",
              "320    12.0\n",
              "321     6.0\n",
              "322     6.0\n",
              "323     8.0\n",
              "324     8.0\n",
              "Name: y, Length: 325, dtype: float64"
            ]
          },
          "metadata": {
            "tags": []
          },
          "execution_count": 348
        }
      ]
    },
    {
      "cell_type": "markdown",
      "metadata": {
        "id": "NJY7WNZPeoOR"
      },
      "source": [
        "Train-test split"
      ]
    },
    {
      "cell_type": "code",
      "metadata": {
        "colab": {
          "base_uri": "https://localhost:8080/"
        },
        "id": "ysBzDI32enqQ",
        "outputId": "e0a452a7-66e8-4ec8-97ad-73afeac7a01f"
      },
      "source": [
        "# Split Train-Val into 90-10\n",
        "\n",
        "test_set = df_new[-round(len(df_new)*0.1):].values\n",
        "\n",
        "train_set = df_new[:-len(test_set)].values\n",
        "\n",
        "print(len(train_set), len(test_set))"
      ],
      "execution_count": 349,
      "outputs": [
        {
          "output_type": "stream",
          "text": [
            "293 32\n"
          ],
          "name": "stdout"
        }
      ]
    },
    {
      "cell_type": "markdown",
      "metadata": {
        "id": "LtWw3VOBezBz"
      },
      "source": [
        "Normalise the data"
      ]
    },
    {
      "cell_type": "code",
      "metadata": {
        "colab": {
          "base_uri": "https://localhost:8080/"
        },
        "id": "m6ojyMtkezuF",
        "outputId": "04e21b8b-3cd7-490e-c46d-8da6aa902836"
      },
      "source": [
        "from sklearn.preprocessing import MinMaxScaler\n",
        "\n",
        "scaler = MinMaxScaler(feature_range=(0,1))\n",
        "\n",
        "train_set_norm = scaler.fit_transform(train_set.reshape(-1,1))\n",
        "\n",
        "print(train_set_norm.shape)\n",
        "print(train_set_norm[:5])"
      ],
      "execution_count": 350,
      "outputs": [
        {
          "output_type": "stream",
          "text": [
            "(293, 1)\n",
            "[[0.00070126]\n",
            " [0.00140252]\n",
            " [0.        ]\n",
            " [0.00070126]\n",
            " [0.00070126]]\n"
          ],
          "name": "stdout"
        }
      ]
    },
    {
      "cell_type": "markdown",
      "metadata": {
        "id": "VDdmRymkhMNw"
      },
      "source": [
        "Creating Moving Window"
      ]
    },
    {
      "cell_type": "code",
      "metadata": {
        "colab": {
          "base_uri": "https://localhost:8080/"
        },
        "id": "rPkmFfFShOXj",
        "outputId": "14ccba3f-b887-4274-fd31-66cbf096bdc8"
      },
      "source": [
        "import numpy as np\n",
        "\n",
        "X_train = []\n",
        "y_train = []\n",
        "\n",
        "observ = 40 #Number of observations to base your prediction on\n",
        "\n",
        "for i in range(observ, len(train_set_norm)):\n",
        "  X_train.append(train_set_norm[i-observ:i])\n",
        "  y_train.extend(train_set_norm[i])\n",
        "\n",
        "X_train, y_train = np.array(X_train), np.array(y_train)\n",
        "\n",
        "print(X_train.shape, y_train.shape)"
      ],
      "execution_count": 351,
      "outputs": [
        {
          "output_type": "stream",
          "text": [
            "(253, 40, 1) (253,)\n"
          ],
          "name": "stdout"
        }
      ]
    },
    {
      "cell_type": "code",
      "metadata": {
        "colab": {
          "base_uri": "https://localhost:8080/"
        },
        "id": "LAeWr4yChS6H",
        "outputId": "9cdb373c-9f9e-4e6c-f660-82bbf35fc898"
      },
      "source": [
        "total_test = df_new[-(len(test_set) + observ):].values # use the last 60 days of train to predict 1st day of test\n",
        "\n",
        "test_set_norm = scaler.transform(total_test.reshape(-1,1))\n",
        "\n",
        "test_set_norm.shape"
      ],
      "execution_count": 352,
      "outputs": [
        {
          "output_type": "execute_result",
          "data": {
            "text/plain": [
              "(72, 1)"
            ]
          },
          "metadata": {
            "tags": []
          },
          "execution_count": 352
        }
      ]
    },
    {
      "cell_type": "code",
      "metadata": {
        "colab": {
          "base_uri": "https://localhost:8080/"
        },
        "id": "w_0xEvwQj5iB",
        "outputId": "8d28fcb0-5b3b-4e5e-f084-a0a705c601d8"
      },
      "source": [
        "X_test = []\n",
        "y_test = []\n",
        "\n",
        "for i in range(observ, len(test_set_norm)):\n",
        "  X_test.append(test_set_norm[i-observ:i])\n",
        "  y_test.extend(test_set_norm[i])\n",
        "\n",
        "X_test, y_test = np.array(X_test), np.array(y_test)\n",
        "\n",
        "print(X_test.shape, y_test.shape)"
      ],
      "execution_count": 353,
      "outputs": [
        {
          "output_type": "stream",
          "text": [
            "(32, 40, 1) (32,)\n"
          ],
          "name": "stdout"
        }
      ]
    },
    {
      "cell_type": "markdown",
      "metadata": {
        "id": "-3s0Mdhsj7Gv"
      },
      "source": [
        "Define Model"
      ]
    },
    {
      "cell_type": "code",
      "metadata": {
        "colab": {
          "base_uri": "https://localhost:8080/"
        },
        "id": "LNZX_kVxj8JO",
        "outputId": "7a47b1aa-9432-4b4e-ff77-be403577a60e"
      },
      "source": [
        "import keras\n",
        "import tensorflow as tf\n",
        "from keras.models import Model\n",
        "from keras.layers import Dense, Dropout, LSTM, Input, Activation, concatenate\n",
        "from keras import optimizers\n",
        "\n",
        "lstm_input = Input(shape=(X_train.shape[1], X_train.shape[2]))\n",
        "x = LSTM(128)(lstm_input)\n",
        "x = Dropout(0.2)(x)\n",
        "x = Dense(64)(x)\n",
        "x = Activation('sigmoid')(x)\n",
        "x = Dense(1)(x)\n",
        "\n",
        "output = Activation('linear')(x)\n",
        "\n",
        "model = Model(inputs=lstm_input, outputs=output)\n",
        "\n",
        "model.summary()"
      ],
      "execution_count": 354,
      "outputs": [
        {
          "output_type": "stream",
          "text": [
            "Model: \"functional_45\"\n",
            "_________________________________________________________________\n",
            "Layer (type)                 Output Shape              Param #   \n",
            "=================================================================\n",
            "input_23 (InputLayer)        [(None, 40, 1)]           0         \n",
            "_________________________________________________________________\n",
            "lstm_22 (LSTM)               (None, 128)               66560     \n",
            "_________________________________________________________________\n",
            "dropout_22 (Dropout)         (None, 128)               0         \n",
            "_________________________________________________________________\n",
            "dense_44 (Dense)             (None, 64)                8256      \n",
            "_________________________________________________________________\n",
            "activation_44 (Activation)   (None, 64)                0         \n",
            "_________________________________________________________________\n",
            "dense_45 (Dense)             (None, 1)                 65        \n",
            "_________________________________________________________________\n",
            "activation_45 (Activation)   (None, 1)                 0         \n",
            "=================================================================\n",
            "Total params: 74,881\n",
            "Trainable params: 74,881\n",
            "Non-trainable params: 0\n",
            "_________________________________________________________________\n"
          ],
          "name": "stdout"
        }
      ]
    },
    {
      "cell_type": "code",
      "metadata": {
        "id": "D_lBIS_mkY3g"
      },
      "source": [
        "model.compile(loss='mse', optimizer='adam')"
      ],
      "execution_count": 355,
      "outputs": []
    },
    {
      "cell_type": "markdown",
      "metadata": {
        "id": "85GDwupMkbMN"
      },
      "source": [
        "Train the model"
      ]
    },
    {
      "cell_type": "code",
      "metadata": {
        "colab": {
          "base_uri": "https://localhost:8080/"
        },
        "id": "zpiawdFDkddk",
        "outputId": "6c638b75-3e1b-4eb4-a888-a7bffe613fd2"
      },
      "source": [
        "history = model.fit(X_train, y_train,\n",
        "                    epochs=17,\n",
        "                    batch_size=72,\n",
        "                    validation_data=(X_test, y_test),\n",
        "                    verbose=2,\n",
        "                    shuffle=False)"
      ],
      "execution_count": 356,
      "outputs": [
        {
          "output_type": "stream",
          "text": [
            "Epoch 1/17\n",
            "4/4 - 1s - loss: 0.0809 - val_loss: 0.0022\n",
            "Epoch 2/17\n",
            "4/4 - 0s - loss: 0.0338 - val_loss: 0.0226\n",
            "Epoch 3/17\n",
            "4/4 - 0s - loss: 0.0260 - val_loss: 0.0252\n",
            "Epoch 4/17\n",
            "4/4 - 0s - loss: 0.0198 - val_loss: 0.0124\n",
            "Epoch 5/17\n",
            "4/4 - 0s - loss: 0.0160 - val_loss: 0.0040\n",
            "Epoch 6/17\n",
            "4/4 - 0s - loss: 0.0153 - val_loss: 8.6957e-04\n",
            "Epoch 7/17\n",
            "4/4 - 0s - loss: 0.0117 - val_loss: 9.7411e-06\n",
            "Epoch 8/17\n",
            "4/4 - 0s - loss: 0.0164 - val_loss: 1.7917e-05\n",
            "Epoch 9/17\n",
            "4/4 - 0s - loss: 0.0142 - val_loss: 5.6352e-04\n",
            "Epoch 10/17\n",
            "4/4 - 0s - loss: 0.0151 - val_loss: 0.0032\n",
            "Epoch 11/17\n",
            "4/4 - 0s - loss: 0.0133 - val_loss: 0.0062\n",
            "Epoch 12/17\n",
            "4/4 - 0s - loss: 0.0115 - val_loss: 0.0055\n",
            "Epoch 13/17\n",
            "4/4 - 0s - loss: 0.0103 - val_loss: 0.0019\n",
            "Epoch 14/17\n",
            "4/4 - 0s - loss: 0.0088 - val_loss: 9.3318e-05\n",
            "Epoch 15/17\n",
            "4/4 - 0s - loss: 0.0089 - val_loss: 9.8072e-05\n",
            "Epoch 16/17\n",
            "4/4 - 0s - loss: 0.0092 - val_loss: 3.7206e-05\n",
            "Epoch 17/17\n",
            "4/4 - 0s - loss: 0.0094 - val_loss: 8.3817e-05\n"
          ],
          "name": "stdout"
        }
      ]
    },
    {
      "cell_type": "markdown",
      "metadata": {
        "id": "kBxXYEddkmBf"
      },
      "source": [
        "Evaluation"
      ]
    },
    {
      "cell_type": "code",
      "metadata": {
        "colab": {
          "base_uri": "https://localhost:8080/",
          "height": 302
        },
        "id": "U00kX6PQkmxV",
        "outputId": "0734b047-aa28-4b26-9da7-39dbc80824c6"
      },
      "source": [
        "import matplotlib.pyplot as plt\n",
        "\n",
        "y_pred = model.predict(X_test)\n",
        "\n",
        "y_pred = scaler.inverse_transform(y_pred)\n",
        "\n",
        "plt.plot(test_set, label = \"True\")\n",
        "plt.plot(y_pred, label = \"Pred\")\n",
        "\n",
        "plt.legend()\n",
        "plt.show()"
      ],
      "execution_count": 357,
      "outputs": [
        {
          "output_type": "stream",
          "text": [
            "WARNING:tensorflow:11 out of the last 11 calls to <function Model.make_predict_function.<locals>.predict_function at 0x7febf6a8a048> triggered tf.function retracing. Tracing is expensive and the excessive number of tracings could be due to (1) creating @tf.function repeatedly in a loop, (2) passing tensors with different shapes, (3) passing Python objects instead of tensors. For (1), please define your @tf.function outside of the loop. For (2), @tf.function has experimental_relax_shapes=True option that relaxes argument shapes that can avoid unnecessary retracing. For (3), please refer to https://www.tensorflow.org/tutorials/customization/performance#python_or_tensor_args and https://www.tensorflow.org/api_docs/python/tf/function for  more details.\n"
          ],
          "name": "stdout"
        },
        {
          "output_type": "display_data",
          "data": {
            "image/png": "[encoded data removed]",
            "text/plain": [
              "<Figure size 432x288 with 1 Axes>"
            ]
          },
          "metadata": {
            "tags": [],
            "needs_background": "light"
          }
        }
      ]
    },
    {
      "cell_type": "markdown",
      "metadata": {
        "id": "gvzSGAEPeDBt"
      },
      "source": [
        "Retrain model on 100% of data"
      ]
    },
    {
      "cell_type": "code",
      "metadata": {
        "colab": {
          "base_uri": "https://localhost:8080/"
        },
        "id": "bSyJsrKgeF3H",
        "outputId": "4704ae42-185b-41e3-d2b6-7171a43a3620"
      },
      "source": [
        "from sklearn.preprocessing import MinMaxScaler\r\n",
        "import numpy as np\r\n",
        "\r\n",
        "train_set = df_new.values\r\n",
        "\r\n",
        "scaler = MinMaxScaler(feature_range=(0,1))\r\n",
        "\r\n",
        "train_set_norm = scaler.fit_transform(train_set.reshape(-1,1))\r\n",
        "\r\n",
        "X_train = []\r\n",
        "y_train = []\r\n",
        "\r\n",
        "# observ = 45 #Number of observations to base your prediction on\r\n",
        "\r\n",
        "for i in range(observ, len(train_set_norm)):\r\n",
        "  X_train.append(train_set_norm[i-observ:i])\r\n",
        "  y_train.extend(train_set_norm[i])\r\n",
        "\r\n",
        "X_train, y_train = np.array(X_train), np.array(y_train)\r\n",
        "\r\n",
        "X_test = df_new[-observ:].values \r\n",
        "\r\n",
        "X_test = scaler.transform(X_test.reshape(-1,1))\r\n",
        "\r\n",
        "X_test = X_test.reshape(1, observ, 1)\r\n",
        "\r\n",
        "print(len(train_set), len(test_set))\r\n",
        "print(X_train.shape, y_train.shape)\r\n",
        "print(X_test.shape)"
      ],
      "execution_count": 358,
      "outputs": [
        {
          "output_type": "stream",
          "text": [
            "325 32\n",
            "(285, 40, 1) (285,)\n",
            "(1, 40, 1)\n"
          ],
          "name": "stdout"
        }
      ]
    },
    {
      "cell_type": "code",
      "metadata": {
        "colab": {
          "base_uri": "https://localhost:8080/"
        },
        "id": "3mTUR3fDgjbw",
        "outputId": "ee3f630e-2fa0-47ca-d548-1295fb86764d"
      },
      "source": [
        "model.compile(loss='mse', optimizer='adam')\r\n",
        "\r\n",
        "history = model.fit(X_train, y_train,\r\n",
        "                    epochs=17,\r\n",
        "                    batch_size=72,\r\n",
        "                    verbose=1,\r\n",
        "                    shuffle=False)\r\n",
        "\r\n",
        "y_pred = model.predict(X_test)\r\n",
        "\r\n",
        "y_pred = scaler.inverse_transform(y_pred)"
      ],
      "execution_count": 359,
      "outputs": [
        {
          "output_type": "stream",
          "text": [
            "Epoch 1/17\n",
            "4/4 [==============================] - 0s 50ms/step - loss: 0.0094\n",
            "Epoch 2/17\n",
            "4/4 [==============================] - 0s 52ms/step - loss: 0.0102\n",
            "Epoch 3/17\n",
            "4/4 [==============================] - 0s 49ms/step - loss: 0.0081\n",
            "Epoch 4/17\n",
            "4/4 [==============================] - 0s 50ms/step - loss: 0.0079\n",
            "Epoch 5/17\n",
            "4/4 [==============================] - 0s 47ms/step - loss: 0.0070\n",
            "Epoch 6/17\n",
            "4/4 [==============================] - 0s 47ms/step - loss: 0.0068\n",
            "Epoch 7/17\n",
            "4/4 [==============================] - 0s 48ms/step - loss: 0.0070\n",
            "Epoch 8/17\n",
            "4/4 [==============================] - 0s 46ms/step - loss: 0.0061\n",
            "Epoch 9/17\n",
            "4/4 [==============================] - 0s 47ms/step - loss: 0.0065\n",
            "Epoch 10/17\n",
            "4/4 [==============================] - 0s 46ms/step - loss: 0.0060\n",
            "Epoch 11/17\n",
            "4/4 [==============================] - 0s 48ms/step - loss: 0.0062\n",
            "Epoch 12/17\n",
            "4/4 [==============================] - 0s 47ms/step - loss: 0.0061\n",
            "Epoch 13/17\n",
            "4/4 [==============================] - 0s 49ms/step - loss: 0.0062\n",
            "Epoch 14/17\n",
            "4/4 [==============================] - 0s 45ms/step - loss: 0.0061\n",
            "Epoch 15/17\n",
            "4/4 [==============================] - 0s 47ms/step - loss: 0.0058\n",
            "Epoch 16/17\n",
            "4/4 [==============================] - 0s 48ms/step - loss: 0.0058\n",
            "Epoch 17/17\n",
            "4/4 [==============================] - 0s 49ms/step - loss: 0.0058\n",
            "WARNING:tensorflow:11 out of the last 11 calls to <function Model.make_predict_function.<locals>.predict_function at 0x7febfb37a488> triggered tf.function retracing. Tracing is expensive and the excessive number of tracings could be due to (1) creating @tf.function repeatedly in a loop, (2) passing tensors with different shapes, (3) passing Python objects instead of tensors. For (1), please define your @tf.function outside of the loop. For (2), @tf.function has experimental_relax_shapes=True option that relaxes argument shapes that can avoid unnecessary retracing. For (3), please refer to https://www.tensorflow.org/tutorials/customization/performance#python_or_tensor_args and https://www.tensorflow.org/api_docs/python/tf/function for  more details.\n"
          ],
          "name": "stdout"
        }
      ]
    },
    {
      "cell_type": "code",
      "metadata": {
        "colab": {
          "base_uri": "https://localhost:8080/"
        },
        "id": "0RsU7NukmnsA",
        "outputId": "d9098ab8-c9ac-4fc0-c235-91b04e870c25"
      },
      "source": [
        "from datetime import datetime\n",
        "from datetime import timedelta\n",
        "\n",
        "date = datetime.strptime(df_melt.iloc[-1].ds, '%m/%d/%y') + timedelta(days=1)\n",
        "\n",
        "# Number of cases tomorrow\n",
        "num_cases = y_pred[0][0]\n",
        "\n",
        "if num_cases < 0:\n",
        "  num_cases = 0\n",
        "\n",
        "# number of cases tomorrow\n",
        "print(\"Number of cases on {} is predicted to be {:.0f}.\".format(date.date(), num_cases))"
      ],
      "execution_count": 360,
      "outputs": [
        {
          "output_type": "stream",
          "text": [
            "Number of cases on 2020-12-13 is predicted to be 22.\n"
          ],
          "name": "stdout"
        }
      ]
    }
  ]
}