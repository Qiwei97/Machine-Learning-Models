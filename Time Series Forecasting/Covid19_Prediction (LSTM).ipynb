{
  "nbformat": 4,
  "nbformat_minor": 0,
  "metadata": {
    "colab": {
      "name": "Covid19 Prediction.ipynb",
      "provenance": []
    },
    "kernelspec": {
      "name": "python3",
      "display_name": "Python 3"
    }
  },
  "cells": [
    {
      "cell_type": "markdown",
      "metadata": {
        "id": "kuqt2Q0nXxEK"
      },
      "source": [
        "# LSTM approach"
      ]
    },
    {
      "cell_type": "markdown",
      "metadata": {
        "id": "uzlrubp0eqpr"
      },
      "source": [
        "Load Data"
      ]
    },
    {
      "cell_type": "code",
      "metadata": {
        "colab": {
          "base_uri": "https://localhost:8080/"
        },
        "id": "wA5cy5-jZHrA",
        "outputId": "6ee25c54-30f1-412b-8f84-57665ad3ad72"
      },
      "source": [
        "import pandas as pd\n",
        "\n",
        "df = pd.read_csv('https://raw.githubusercontent.com/CSSEGISandData/COVID-19/master/csse_covid_19_data/csse_covid_19_time_series/time_series_covid19_confirmed_global.csv')\n",
        "\n",
        "df.drop(columns=['Lat', 'Long', 'Province/State'], inplace=True)\n",
        "\n",
        "df = df[df['Country/Region'] == 'Singapore']\n",
        "\n",
        "df_melt = pd.melt(df.iloc[:,1:], var_name='ds', value_name='y')\n",
        "\n",
        "df_new = df_melt.y\n",
        "\n",
        "df_new"
      ],
      "execution_count": 71,
      "outputs": [
        {
          "output_type": "execute_result",
          "data": {
            "text/plain": [
              "0          0\n",
              "1          1\n",
              "2          3\n",
              "3          3\n",
              "4          4\n",
              "       ...  \n",
              "320    58273\n",
              "321    58285\n",
              "322    58291\n",
              "323    58297\n",
              "324    58305\n",
              "Name: y, Length: 325, dtype: int64"
            ]
          },
          "metadata": {
            "tags": []
          },
          "execution_count": 71
        }
      ]
    },
    {
      "cell_type": "markdown",
      "metadata": {
        "id": "NJY7WNZPeoOR"
      },
      "source": [
        "Train-test split"
      ]
    },
    {
      "cell_type": "code",
      "metadata": {
        "colab": {
          "base_uri": "https://localhost:8080/"
        },
        "id": "ysBzDI32enqQ",
        "outputId": "bdd2e988-a917-441c-fca2-d5d82003331d"
      },
      "source": [
        "# Split Train-Val into 90-10\n",
        "\n",
        "test_set = df_new[-round(len(df_new)*0.1):].values\n",
        "\n",
        "train_set = df_new[:-len(test_set)].values\n",
        "\n",
        "print(len(train_set), len(test_set))"
      ],
      "execution_count": 72,
      "outputs": [
        {
          "output_type": "stream",
          "text": [
            "293 32\n"
          ],
          "name": "stdout"
        }
      ]
    },
    {
      "cell_type": "markdown",
      "metadata": {
        "id": "LtWw3VOBezBz"
      },
      "source": [
        "Normalise the data"
      ]
    },
    {
      "cell_type": "code",
      "metadata": {
        "colab": {
          "base_uri": "https://localhost:8080/"
        },
        "id": "m6ojyMtkezuF",
        "outputId": "9a644437-8f94-431f-afb9-1d9463cf91e0"
      },
      "source": [
        "from sklearn.preprocessing import MinMaxScaler\n",
        "\n",
        "scaler = MinMaxScaler(feature_range=(0,1))\n",
        "\n",
        "train_set_norm = scaler.fit_transform(train_set.reshape(-1,1))\n",
        "\n",
        "print(train_set_norm.shape)\n",
        "print(train_set_norm[:5])"
      ],
      "execution_count": 73,
      "outputs": [
        {
          "output_type": "stream",
          "text": [
            "(293, 1)\n",
            "[[0.00000000e+00]\n",
            " [1.72223753e-05]\n",
            " [5.16671259e-05]\n",
            " [5.16671259e-05]\n",
            " [6.88895012e-05]]\n"
          ],
          "name": "stdout"
        }
      ]
    },
    {
      "cell_type": "markdown",
      "metadata": {
        "id": "VDdmRymkhMNw"
      },
      "source": [
        "Creating Moving Window"
      ]
    },
    {
      "cell_type": "code",
      "metadata": {
        "colab": {
          "base_uri": "https://localhost:8080/"
        },
        "id": "rPkmFfFShOXj",
        "outputId": "5453d556-8235-44c8-f3cb-b6ab6e2520b6"
      },
      "source": [
        "import numpy as np\n",
        "\n",
        "X_train = []\n",
        "y_train = []\n",
        "\n",
        "observ = 30 #Number of observations to base your prediction on\n",
        "\n",
        "for i in range(observ, len(train_set_norm)):\n",
        "  X_train.append(train_set_norm[i-observ:i])\n",
        "  y_train.extend(train_set_norm[i])\n",
        "\n",
        "X_train, y_train = np.array(X_train), np.array(y_train)\n",
        "\n",
        "print(X_train.shape, y_train.shape)"
      ],
      "execution_count": 74,
      "outputs": [
        {
          "output_type": "stream",
          "text": [
            "(263, 30, 1) (263,)\n"
          ],
          "name": "stdout"
        }
      ]
    },
    {
      "cell_type": "code",
      "metadata": {
        "colab": {
          "base_uri": "https://localhost:8080/"
        },
        "id": "LAeWr4yChS6H",
        "outputId": "4b236d9a-7e76-44e0-e52a-562913e1158d"
      },
      "source": [
        "total_test = df_new[-(len(test_set) + observ):].values # use the last 60 days of train to predict 1st day of test\n",
        "\n",
        "test_set_norm = scaler.transform(total_test.reshape(-1,1))\n",
        "\n",
        "test_set_norm.shape"
      ],
      "execution_count": 75,
      "outputs": [
        {
          "output_type": "execute_result",
          "data": {
            "text/plain": [
              "(62, 1)"
            ]
          },
          "metadata": {
            "tags": []
          },
          "execution_count": 75
        }
      ]
    },
    {
      "cell_type": "code",
      "metadata": {
        "colab": {
          "base_uri": "https://localhost:8080/"
        },
        "id": "w_0xEvwQj5iB",
        "outputId": "9456a4ef-bc22-438d-f446-a9716f792569"
      },
      "source": [
        "X_test = []\n",
        "y_test = []\n",
        "\n",
        "for i in range(observ, len(test_set_norm)):\n",
        "  X_test.append(test_set_norm[i-observ:i])\n",
        "  y_test.extend(test_set_norm[i])\n",
        "\n",
        "X_test, y_test = np.array(X_test), np.array(y_test)\n",
        "\n",
        "print(X_test.shape, y_test.shape)"
      ],
      "execution_count": 76,
      "outputs": [
        {
          "output_type": "stream",
          "text": [
            "(32, 30, 1) (32,)\n"
          ],
          "name": "stdout"
        }
      ]
    },
    {
      "cell_type": "markdown",
      "metadata": {
        "id": "-3s0Mdhsj7Gv"
      },
      "source": [
        "Define Model"
      ]
    },
    {
      "cell_type": "code",
      "metadata": {
        "colab": {
          "base_uri": "https://localhost:8080/"
        },
        "id": "LNZX_kVxj8JO",
        "outputId": "a8384658-87b9-4ded-e2c0-7fe28c0972b2"
      },
      "source": [
        "import keras\n",
        "import tensorflow as tf\n",
        "from keras.models import Model\n",
        "from keras.layers import Dense, Dropout, LSTM, Input, Activation, concatenate\n",
        "from keras import optimizers\n",
        "\n",
        "lstm_input = Input(shape=(X_train.shape[1], X_train.shape[2]))\n",
        "x = LSTM(128)(lstm_input)\n",
        "x = Dropout(0.2)(x)\n",
        "x = Dense(64)(x)\n",
        "x = Activation('sigmoid')(x)\n",
        "x = Dense(1)(x)\n",
        "\n",
        "output = Activation('linear')(x)\n",
        "\n",
        "model = Model(inputs=lstm_input, outputs=output)\n",
        "\n",
        "model.summary()"
      ],
      "execution_count": 77,
      "outputs": [
        {
          "output_type": "stream",
          "text": [
            "Model: \"functional_9\"\n",
            "_________________________________________________________________\n",
            "Layer (type)                 Output Shape              Param #   \n",
            "=================================================================\n",
            "input_5 (InputLayer)         [(None, 30, 1)]           0         \n",
            "_________________________________________________________________\n",
            "lstm_4 (LSTM)                (None, 128)               66560     \n",
            "_________________________________________________________________\n",
            "dropout_4 (Dropout)          (None, 128)               0         \n",
            "_________________________________________________________________\n",
            "dense_8 (Dense)              (None, 64)                8256      \n",
            "_________________________________________________________________\n",
            "activation_8 (Activation)    (None, 64)                0         \n",
            "_________________________________________________________________\n",
            "dense_9 (Dense)              (None, 1)                 65        \n",
            "_________________________________________________________________\n",
            "activation_9 (Activation)    (None, 1)                 0         \n",
            "=================================================================\n",
            "Total params: 74,881\n",
            "Trainable params: 74,881\n",
            "Non-trainable params: 0\n",
            "_________________________________________________________________\n"
          ],
          "name": "stdout"
        }
      ]
    },
    {
      "cell_type": "code",
      "metadata": {
        "id": "D_lBIS_mkY3g"
      },
      "source": [
        "model.compile(loss='mse', optimizer='adam')"
      ],
      "execution_count": 78,
      "outputs": []
    },
    {
      "cell_type": "markdown",
      "metadata": {
        "id": "85GDwupMkbMN"
      },
      "source": [
        "Train the model"
      ]
    },
    {
      "cell_type": "code",
      "metadata": {
        "colab": {
          "base_uri": "https://localhost:8080/"
        },
        "id": "zpiawdFDkddk",
        "outputId": "a4a15621-cefc-416d-d007-f142498d868f"
      },
      "source": [
        "history = model.fit(X_train, y_train,\n",
        "                    epochs=13,\n",
        "                    batch_size=72,\n",
        "                    validation_data=(X_test, y_test),\n",
        "                    verbose=2,\n",
        "                    shuffle=False)"
      ],
      "execution_count": 79,
      "outputs": [
        {
          "output_type": "stream",
          "text": [
            "Epoch 1/13\n",
            "4/4 - 1s - loss: 0.6645 - val_loss: 0.7752\n",
            "Epoch 2/13\n",
            "4/4 - 0s - loss: 0.2219 - val_loss: 0.0477\n",
            "Epoch 3/13\n",
            "4/4 - 0s - loss: 0.0486 - val_loss: 0.0703\n",
            "Epoch 4/13\n",
            "4/4 - 0s - loss: 0.0308 - val_loss: 0.0091\n",
            "Epoch 5/13\n",
            "4/4 - 0s - loss: 0.0317 - val_loss: 0.0532\n",
            "Epoch 6/13\n",
            "4/4 - 0s - loss: 0.0273 - val_loss: 0.0238\n",
            "Epoch 7/13\n",
            "4/4 - 0s - loss: 0.0138 - val_loss: 9.8576e-05\n",
            "Epoch 8/13\n",
            "4/4 - 0s - loss: 0.0192 - val_loss: 0.0023\n",
            "Epoch 9/13\n",
            "4/4 - 0s - loss: 0.0191 - val_loss: 5.0138e-04\n",
            "Epoch 10/13\n",
            "4/4 - 0s - loss: 0.0125 - val_loss: 0.0082\n",
            "Epoch 11/13\n",
            "4/4 - 0s - loss: 0.0111 - val_loss: 0.0058\n",
            "Epoch 12/13\n",
            "4/4 - 0s - loss: 0.0062 - val_loss: 4.0003e-06\n",
            "Epoch 13/13\n",
            "4/4 - 0s - loss: 0.0063 - val_loss: 4.4352e-04\n"
          ],
          "name": "stdout"
        }
      ]
    },
    {
      "cell_type": "markdown",
      "metadata": {
        "id": "kBxXYEddkmBf"
      },
      "source": [
        "Evaluation"
      ]
    },
    {
      "cell_type": "code",
      "metadata": {
        "colab": {
          "base_uri": "https://localhost:8080/",
          "height": 302
        },
        "id": "U00kX6PQkmxV",
        "outputId": "f337698d-9c01-4ec6-fa62-46a55649a547"
      },
      "source": [
        "import matplotlib.pyplot as plt\n",
        "\n",
        "y_pred = model.predict(X_test)\n",
        "\n",
        "y_pred = scaler.inverse_transform(y_pred)\n",
        "\n",
        "plt.plot(test_set, label = \"True\")\n",
        "plt.plot(y_pred, label = \"Pred\")\n",
        "\n",
        "plt.legend()\n",
        "plt.show()"
      ],
      "execution_count": 80,
      "outputs": [
        {
          "output_type": "stream",
          "text": [
            "WARNING:tensorflow:8 out of the last 8 calls to <function Model.make_predict_function.<locals>.predict_function at 0x7f67b4007840> triggered tf.function retracing. Tracing is expensive and the excessive number of tracings could be due to (1) creating @tf.function repeatedly in a loop, (2) passing tensors with different shapes, (3) passing Python objects instead of tensors. For (1), please define your @tf.function outside of the loop. For (2), @tf.function has experimental_relax_shapes=True option that relaxes argument shapes that can avoid unnecessary retracing. For (3), please refer to https://www.tensorflow.org/tutorials/customization/performance#python_or_tensor_args and https://www.tensorflow.org/api_docs/python/tf/function for  more details.\n"
          ],
          "name": "stdout"
        },
        {
          "output_type": "display_data",
          "data": {
            "image/png": "[encoded data removed]",
            "text/plain": [
              "<Figure size 432x288 with 1 Axes>"
            ]
          },
          "metadata": {
            "tags": [],
            "needs_background": "light"
          }
        }
      ]
    },
    {
      "cell_type": "markdown",
      "metadata": {
        "id": "gvzSGAEPeDBt"
      },
      "source": [
        "Retrain model on 100% of data"
      ]
    },
    {
      "cell_type": "code",
      "metadata": {
        "colab": {
          "base_uri": "https://localhost:8080/"
        },
        "id": "bSyJsrKgeF3H",
        "outputId": "f81b2be9-9300-472e-c4ee-86c419409045"
      },
      "source": [
        "from sklearn.preprocessing import MinMaxScaler\r\n",
        "import numpy as np\r\n",
        "\r\n",
        "train_set = df_new.values\r\n",
        "\r\n",
        "scaler = MinMaxScaler(feature_range=(0,1))\r\n",
        "\r\n",
        "train_set_norm = scaler.fit_transform(train_set.reshape(-1,1))\r\n",
        "\r\n",
        "X_train = []\r\n",
        "y_train = []\r\n",
        "\r\n",
        "observ = 30 #Number of observations to base your prediction on\r\n",
        "\r\n",
        "for i in range(observ, len(train_set_norm)):\r\n",
        "  X_train.append(train_set_norm[i-observ:i])\r\n",
        "  y_train.extend(train_set_norm[i])\r\n",
        "\r\n",
        "X_train, y_train = np.array(X_train), np.array(y_train)\r\n",
        "\r\n",
        "X_test = df_new[-observ:].values \r\n",
        "\r\n",
        "X_test = scaler.transform(X_test.reshape(-1,1))\r\n",
        "\r\n",
        "X_test = X_test.reshape(1, observ, 1)\r\n",
        "\r\n",
        "print(len(train_set), len(test_set))\r\n",
        "print(X_train.shape, y_train.shape)\r\n",
        "print(X_test.shape)"
      ],
      "execution_count": 84,
      "outputs": [
        {
          "output_type": "stream",
          "text": [
            "325 32\n",
            "(295, 30, 1) (295,)\n",
            "(1, 30, 1)\n"
          ],
          "name": "stdout"
        }
      ]
    },
    {
      "cell_type": "code",
      "metadata": {
        "colab": {
          "base_uri": "https://localhost:8080/"
        },
        "id": "3mTUR3fDgjbw",
        "outputId": "2bcf18dd-ca23-4f28-c401-ae1e6c5d4437"
      },
      "source": [
        "history = model.fit(X_train, y_train,\r\n",
        "                    epochs=13,\r\n",
        "                    batch_size=72,\r\n",
        "                    verbose=1,\r\n",
        "                    shuffle=False)\r\n",
        "\r\n",
        "y_pred = model.predict(X_test)\r\n",
        "\r\n",
        "y_pred = scaler.inverse_transform(y_pred)"
      ],
      "execution_count": 85,
      "outputs": [
        {
          "output_type": "stream",
          "text": [
            "Epoch 1/13\n",
            "5/5 [==============================] - 0s 38ms/step - loss: 0.0028\n",
            "Epoch 2/13\n",
            "5/5 [==============================] - 0s 37ms/step - loss: 0.0031\n",
            "Epoch 3/13\n",
            "5/5 [==============================] - 0s 39ms/step - loss: 0.0029\n",
            "Epoch 4/13\n",
            "5/5 [==============================] - 0s 38ms/step - loss: 0.0025\n",
            "Epoch 5/13\n",
            "5/5 [==============================] - 0s 38ms/step - loss: 0.0031\n",
            "Epoch 6/13\n",
            "5/5 [==============================] - 0s 39ms/step - loss: 0.0041\n",
            "Epoch 7/13\n",
            "5/5 [==============================] - 0s 36ms/step - loss: 0.0050\n",
            "Epoch 8/13\n",
            "5/5 [==============================] - 0s 37ms/step - loss: 0.0038\n",
            "Epoch 9/13\n",
            "5/5 [==============================] - 0s 37ms/step - loss: 0.0033\n",
            "Epoch 10/13\n",
            "5/5 [==============================] - 0s 37ms/step - loss: 0.0026\n",
            "Epoch 11/13\n",
            "5/5 [==============================] - 0s 38ms/step - loss: 0.0028\n",
            "Epoch 12/13\n",
            "5/5 [==============================] - 0s 39ms/step - loss: 0.0028\n",
            "Epoch 13/13\n",
            "5/5 [==============================] - 0s 36ms/step - loss: 0.0026\n",
            "WARNING:tensorflow:10 out of the last 10 calls to <function Model.make_predict_function.<locals>.predict_function at 0x7f67b4007840> triggered tf.function retracing. Tracing is expensive and the excessive number of tracings could be due to (1) creating @tf.function repeatedly in a loop, (2) passing tensors with different shapes, (3) passing Python objects instead of tensors. For (1), please define your @tf.function outside of the loop. For (2), @tf.function has experimental_relax_shapes=True option that relaxes argument shapes that can avoid unnecessary retracing. For (3), please refer to https://www.tensorflow.org/tutorials/customization/performance#python_or_tensor_args and https://www.tensorflow.org/api_docs/python/tf/function for  more details.\n"
          ],
          "name": "stdout"
        }
      ]
    },
    {
      "cell_type": "code",
      "metadata": {
        "colab": {
          "base_uri": "https://localhost:8080/"
        },
        "id": "0RsU7NukmnsA",
        "outputId": "6e382d83-d1c1-4e93-d9e6-48011c1086f6"
      },
      "source": [
        "from datetime import datetime\n",
        "from datetime import timedelta\n",
        "\n",
        "date = datetime.strptime(df_melt.iloc[-1].ds, '%m/%d/%y') + timedelta(days=1)\n",
        "\n",
        "# Number of cases tomorrow\n",
        "num_cases = y_pred[0][0] - df_melt.iloc[-1].y\n",
        "\n",
        "if num_cases < 0:\n",
        "  num_cases = 0\n",
        "\n",
        "# number of cases tomorrow\n",
        "print(\"Number of cases on {} is predicted to be {:.0f}.\".format(date.date(), num_cases))"
      ],
      "execution_count": 86,
      "outputs": [
        {
          "output_type": "stream",
          "text": [
            "Number of cases on 2020-12-12 is predicted to be 0.\n"
          ],
          "name": "stdout"
        }
      ]
    }
  ]
}