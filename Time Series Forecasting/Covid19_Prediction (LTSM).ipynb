{
  "nbformat": 4,
  "nbformat_minor": 0,
  "metadata": {
    "colab": {
      "name": "Covid19 Prediction.ipynb",
      "provenance": []
    },
    "kernelspec": {
      "name": "python3",
      "display_name": "Python 3"
    }
  },
  "cells": [
    {
      "cell_type": "markdown",
      "metadata": {
        "id": "uzlrubp0eqpr"
      },
      "source": [
        "Load Data"
      ]
    },
    {
      "cell_type": "code",
      "metadata": {
        "colab": {
          "base_uri": "https://localhost:8080/"
        },
        "id": "wA5cy5-jZHrA",
        "outputId": "8dc7ba82-5644-4f64-883c-750ea19acd1e"
      },
      "source": [
        "import pandas as pd\n",
        "\n",
        "df = pd.read_csv('https://raw.githubusercontent.com/CSSEGISandData/COVID-19/master/csse_covid_19_data/csse_covid_19_time_series/time_series_covid19_confirmed_global.csv')\n",
        "\n",
        "df.drop(columns=['Lat', 'Long', 'Province/State'], inplace=True)\n",
        "\n",
        "df = df[df['Country/Region'] == 'Singapore']\n",
        "\n",
        "df_melt = pd.melt(df.iloc[:,1:], var_name='ds', value_name='y')\n",
        "\n",
        "df_new = df_melt.y\n",
        "\n",
        "df_new"
      ],
      "execution_count": 128,
      "outputs": [
        {
          "output_type": "execute_result",
          "data": {
            "text/plain": [
              "0          0\n",
              "1          1\n",
              "2          3\n",
              "3          3\n",
              "4          4\n",
              "       ...  \n",
              "315    58230\n",
              "316    58239\n",
              "317    58242\n",
              "318    58255\n",
              "319    58260\n",
              "Name: y, Length: 320, dtype: int64"
            ]
          },
          "metadata": {
            "tags": []
          },
          "execution_count": 128
        }
      ]
    },
    {
      "cell_type": "markdown",
      "metadata": {
        "id": "NJY7WNZPeoOR"
      },
      "source": [
        "Train-test split"
      ]
    },
    {
      "cell_type": "code",
      "metadata": {
        "colab": {
          "base_uri": "https://localhost:8080/"
        },
        "id": "ysBzDI32enqQ",
        "outputId": "b101976a-4ce6-472e-a47c-91feeef1b56c"
      },
      "source": [
        "# Split Train-Val into 80-20\n",
        "\n",
        "test_set = df_new[-round(len(df_new)*0.2):].values\n",
        "\n",
        "train_set = df_new[:-len(test_set)].values\n",
        "\n",
        "print(len(train_set), len(test_set))"
      ],
      "execution_count": 129,
      "outputs": [
        {
          "output_type": "stream",
          "text": [
            "256 64\n"
          ],
          "name": "stdout"
        }
      ]
    },
    {
      "cell_type": "markdown",
      "metadata": {
        "id": "LtWw3VOBezBz"
      },
      "source": [
        "Normalise the data"
      ]
    },
    {
      "cell_type": "code",
      "metadata": {
        "colab": {
          "base_uri": "https://localhost:8080/"
        },
        "id": "m6ojyMtkezuF",
        "outputId": "eb7b2fd8-9e8a-443f-b863-422c3390b81e"
      },
      "source": [
        "from sklearn.preprocessing import MinMaxScaler\n",
        "\n",
        "scaler = MinMaxScaler(feature_range=(0,1))\n",
        "\n",
        "train_set_norm = scaler.fit_transform(train_set.reshape(-1,1))\n",
        "\n",
        "print(train_set_norm.shape)\n",
        "print(train_set_norm[:5])"
      ],
      "execution_count": 130,
      "outputs": [
        {
          "output_type": "stream",
          "text": [
            "(256, 1)\n",
            "[[0.00000000e+00]\n",
            " [1.73010381e-05]\n",
            " [5.19031142e-05]\n",
            " [5.19031142e-05]\n",
            " [6.92041522e-05]]\n"
          ],
          "name": "stdout"
        }
      ]
    },
    {
      "cell_type": "markdown",
      "metadata": {
        "id": "VDdmRymkhMNw"
      },
      "source": [
        "Creating Moving Window"
      ]
    },
    {
      "cell_type": "code",
      "metadata": {
        "colab": {
          "base_uri": "https://localhost:8080/"
        },
        "id": "rPkmFfFShOXj",
        "outputId": "dbbd3864-ebe6-4df2-aca5-ac5747f1c9d1"
      },
      "source": [
        "import numpy as np\n",
        "\n",
        "X_train = []\n",
        "y_train = []\n",
        "\n",
        "observ = 30 #Number of observations to base your prediction on\n",
        "\n",
        "for i in range(observ, len(train_set_norm)):\n",
        "  X_train.append(train_set_norm[i-observ:i])\n",
        "  y_train.extend(train_set_norm[i])\n",
        "\n",
        "X_train, y_train = np.array(X_train), np.array(y_train)\n",
        "\n",
        "print(X_train.shape, y_train.shape)"
      ],
      "execution_count": 131,
      "outputs": [
        {
          "output_type": "stream",
          "text": [
            "(226, 30, 1) (226,)\n"
          ],
          "name": "stdout"
        }
      ]
    },
    {
      "cell_type": "code",
      "metadata": {
        "colab": {
          "base_uri": "https://localhost:8080/"
        },
        "id": "LAeWr4yChS6H",
        "outputId": "98987b53-eec9-46ec-92bf-b665abc534ac"
      },
      "source": [
        "total_test = df_new[-(len(test_set) + observ):].values # use the last 60 days of train to predict 1st day of test\n",
        "\n",
        "test_set_norm = scaler.fit_transform(total_test.reshape(-1,1))\n",
        "\n",
        "test_set_norm.shape"
      ],
      "execution_count": 132,
      "outputs": [
        {
          "output_type": "execute_result",
          "data": {
            "text/plain": [
              "(94, 1)"
            ]
          },
          "metadata": {
            "tags": []
          },
          "execution_count": 132
        }
      ]
    },
    {
      "cell_type": "code",
      "metadata": {
        "colab": {
          "base_uri": "https://localhost:8080/"
        },
        "id": "w_0xEvwQj5iB",
        "outputId": "18109ed7-b5a6-4667-ddaf-a95b4e1d426c"
      },
      "source": [
        "X_test = []\n",
        "y_test = []\n",
        "\n",
        "for i in range(observ, len(test_set_norm)):\n",
        "  X_test.append(test_set_norm[i-observ:i])\n",
        "  y_test.extend(test_set_norm[i])\n",
        "\n",
        "X_test, y_test = np.array(X_test), np.array(y_test)\n",
        "\n",
        "print(X_test.shape, y_test.shape)"
      ],
      "execution_count": 133,
      "outputs": [
        {
          "output_type": "stream",
          "text": [
            "(64, 30, 1) (64,)\n"
          ],
          "name": "stdout"
        }
      ]
    },
    {
      "cell_type": "markdown",
      "metadata": {
        "id": "-3s0Mdhsj7Gv"
      },
      "source": [
        "Define Model"
      ]
    },
    {
      "cell_type": "code",
      "metadata": {
        "colab": {
          "base_uri": "https://localhost:8080/"
        },
        "id": "LNZX_kVxj8JO",
        "outputId": "8d6e0ccb-73ba-4e34-b522-dd4597206b2b"
      },
      "source": [
        "import keras\n",
        "import tensorflow as tf\n",
        "from keras.models import Model\n",
        "from keras.layers import Dense, Dropout, LSTM, Input, Activation, concatenate\n",
        "from keras import optimizers\n",
        "\n",
        "lstm_input = Input(shape=(X_train.shape[1], X_train.shape[2]))\n",
        "x = LSTM(128)(lstm_input)\n",
        "x = Dropout(0.2)(x)\n",
        "x = Dense(64)(x)\n",
        "x = Activation('sigmoid')(x)\n",
        "x = Dense(1)(x)\n",
        "\n",
        "output = Activation('linear')(x)\n",
        "\n",
        "model = Model(inputs=lstm_input, outputs=output)\n",
        "\n",
        "model.summary()"
      ],
      "execution_count": 134,
      "outputs": [
        {
          "output_type": "stream",
          "text": [
            "Model: \"functional_19\"\n",
            "_________________________________________________________________\n",
            "Layer (type)                 Output Shape              Param #   \n",
            "=================================================================\n",
            "input_10 (InputLayer)        [(None, 30, 1)]           0         \n",
            "_________________________________________________________________\n",
            "lstm_9 (LSTM)                (None, 128)               66560     \n",
            "_________________________________________________________________\n",
            "dropout_9 (Dropout)          (None, 128)               0         \n",
            "_________________________________________________________________\n",
            "dense_18 (Dense)             (None, 64)                8256      \n",
            "_________________________________________________________________\n",
            "activation_18 (Activation)   (None, 64)                0         \n",
            "_________________________________________________________________\n",
            "dense_19 (Dense)             (None, 1)                 65        \n",
            "_________________________________________________________________\n",
            "activation_19 (Activation)   (None, 1)                 0         \n",
            "=================================================================\n",
            "Total params: 74,881\n",
            "Trainable params: 74,881\n",
            "Non-trainable params: 0\n",
            "_________________________________________________________________\n"
          ],
          "name": "stdout"
        }
      ]
    },
    {
      "cell_type": "code",
      "metadata": {
        "id": "D_lBIS_mkY3g"
      },
      "source": [
        "model.compile(loss='mse', optimizer='adam')"
      ],
      "execution_count": 135,
      "outputs": []
    },
    {
      "cell_type": "markdown",
      "metadata": {
        "id": "85GDwupMkbMN"
      },
      "source": [
        "Train the model"
      ]
    },
    {
      "cell_type": "code",
      "metadata": {
        "colab": {
          "base_uri": "https://localhost:8080/"
        },
        "id": "zpiawdFDkddk",
        "outputId": "89ffe8f7-3fe9-4b5f-de2b-2ac3527c21b6"
      },
      "source": [
        "history = model.fit(X_train, y_train,\n",
        "                    epochs=13,\n",
        "                    batch_size=72,\n",
        "                    validation_data=(X_test, y_test),\n",
        "                    verbose=2,\n",
        "                    shuffle=False)"
      ],
      "execution_count": 136,
      "outputs": [
        {
          "output_type": "stream",
          "text": [
            "Epoch 1/13\n",
            "4/4 - 1s - loss: 0.3035 - val_loss: 0.2618\n",
            "Epoch 2/13\n",
            "4/4 - 0s - loss: 0.0939 - val_loss: 0.0085\n",
            "Epoch 3/13\n",
            "4/4 - 0s - loss: 0.0472 - val_loss: 0.0191\n",
            "Epoch 4/13\n",
            "4/4 - 0s - loss: 0.0433 - val_loss: 0.0067\n",
            "Epoch 5/13\n",
            "4/4 - 0s - loss: 0.0420 - val_loss: 0.0136\n",
            "Epoch 6/13\n",
            "4/4 - 0s - loss: 0.0375 - val_loss: 0.0039\n",
            "Epoch 7/13\n",
            "4/4 - 0s - loss: 0.0309 - val_loss: 0.0025\n",
            "Epoch 8/13\n",
            "4/4 - 0s - loss: 0.0317 - val_loss: 0.0032\n",
            "Epoch 9/13\n",
            "4/4 - 0s - loss: 0.0231 - val_loss: 5.9844e-04\n",
            "Epoch 10/13\n",
            "4/4 - 0s - loss: 0.0150 - val_loss: 0.0021\n",
            "Epoch 11/13\n",
            "4/4 - 0s - loss: 0.0090 - val_loss: 2.7754e-04\n",
            "Epoch 12/13\n",
            "4/4 - 0s - loss: 0.0055 - val_loss: 3.2898e-04\n",
            "Epoch 13/13\n",
            "4/4 - 0s - loss: 0.0029 - val_loss: 0.0022\n"
          ],
          "name": "stdout"
        }
      ]
    },
    {
      "cell_type": "markdown",
      "metadata": {
        "id": "kBxXYEddkmBf"
      },
      "source": [
        "Prediction"
      ]
    },
    {
      "cell_type": "code",
      "metadata": {
        "colab": {
          "base_uri": "https://localhost:8080/",
          "height": 302
        },
        "id": "U00kX6PQkmxV",
        "outputId": "817b12f6-c692-4c32-ba7c-2806a67743da"
      },
      "source": [
        "y_pred = model.predict(X_test)\n",
        "\n",
        "y_pred = scaler.inverse_transform(y_pred)\n",
        "\n",
        "plt.plot(test_set, label = \"True\")\n",
        "plt.plot(y_pred, label = \"Pred\")\n",
        "\n",
        "plt.legend()\n",
        "plt.show()"
      ],
      "execution_count": 137,
      "outputs": [
        {
          "output_type": "stream",
          "text": [
            "WARNING:tensorflow:5 out of the last 13 calls to <function Model.make_predict_function.<locals>.predict_function at 0x7f08af5b6378> triggered tf.function retracing. Tracing is expensive and the excessive number of tracings could be due to (1) creating @tf.function repeatedly in a loop, (2) passing tensors with different shapes, (3) passing Python objects instead of tensors. For (1), please define your @tf.function outside of the loop. For (2), @tf.function has experimental_relax_shapes=True option that relaxes argument shapes that can avoid unnecessary retracing. For (3), please refer to https://www.tensorflow.org/tutorials/customization/performance#python_or_tensor_args and https://www.tensorflow.org/api_docs/python/tf/function for  more details.\n"
          ],
          "name": "stdout"
        },
        {
          "output_type": "display_data",
          "data": {
            "image/png": "[encoded data removed]",
            "text/plain": [
              "<Figure size 432x288 with 1 Axes>"
            ]
          },
          "metadata": {
            "tags": [],
            "needs_background": "light"
          }
        }
      ]
    },
    {
      "cell_type": "code",
      "metadata": {
        "colab": {
          "base_uri": "https://localhost:8080/"
        },
        "id": "0RsU7NukmnsA",
        "outputId": "020ce7de-160d-4ddb-8b4b-28b95232eb9d"
      },
      "source": [
        "from datetime import datetime\n",
        "from datetime import timedelta\n",
        "\n",
        "date = datetime.strptime(df_melt.iloc[-1].ds, '%m/%d/%y') + timedelta(days=1)\n",
        "\n",
        "# number of cases tomorrow\n",
        "print(\"Number of cases on {} is predicted to be {:.0f}\".format(date.date(), y_pred[-1][0]))"
      ],
      "execution_count": 138,
      "outputs": [
        {
          "output_type": "stream",
          "text": [
            "Number of cases on 2020-12-07 is predicted to be 58183\n"
          ],
          "name": "stdout"
        }
      ]
    }
  ]
}