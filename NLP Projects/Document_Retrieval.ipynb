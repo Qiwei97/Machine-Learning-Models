{
  "nbformat": 4,
  "nbformat_minor": 0,
  "metadata": {
    "colab": {
      "name": "Document Retrieval.ipynb",
      "provenance": [],
      "collapsed_sections": [
        "uX7UqfY0l9t6",
        "1QHCEiD5G8dX",
        "1lXwjpczDRUj",
        "QvS1Ve4zsjCf",
        "Nvxs2zBT8Z2Z",
        "lcMZ3cNHDjkm"
      ],
      "toc_visible": true
    },
    "kernelspec": {
      "name": "python3",
      "display_name": "Python 3"
    }
  },
  "cells": [
    {
      "cell_type": "code",
      "metadata": {
        "colab": {
          "base_uri": "https://localhost:8080/"
        },
        "id": "n6EuLO4bzlWV",
        "outputId": "8aecdf7d-c830-46fe-b67f-5712bcb945c2"
      },
      "source": [
        "from google.colab import drive\n",
        "drive.mount('/content/drive')"
      ],
      "execution_count": 34,
      "outputs": [
        {
          "output_type": "stream",
          "name": "stdout",
          "text": [
            "Drive already mounted at /content/drive; to attempt to forcibly remount, call drive.mount(\"/content/drive\", force_remount=True).\n"
          ]
        }
      ]
    },
    {
      "cell_type": "markdown",
      "metadata": {
        "id": "uX7UqfY0l9t6"
      },
      "source": [
        "# Imports"
      ]
    },
    {
      "cell_type": "code",
      "metadata": {
        "colab": {
          "base_uri": "https://localhost:8080/"
        },
        "id": "WeRCVcwtmApD",
        "outputId": "a0748179-93fa-44f3-c4f4-59d4e70c203e"
      },
      "source": [
        "! pip install --upgrade gensim"
      ],
      "execution_count": 5,
      "outputs": [
        {
          "output_type": "stream",
          "name": "stdout",
          "text": [
            "Requirement already satisfied: gensim in /usr/local/lib/python3.7/dist-packages (4.1.2)\n",
            "Requirement already satisfied: numpy>=1.17.0 in /usr/local/lib/python3.7/dist-packages (from gensim) (1.19.5)\n",
            "Requirement already satisfied: scipy>=0.18.1 in /usr/local/lib/python3.7/dist-packages (from gensim) (1.4.1)\n",
            "Requirement already satisfied: smart-open>=1.8.1 in /usr/local/lib/python3.7/dist-packages (from gensim) (5.2.1)\n"
          ]
        }
      ]
    },
    {
      "cell_type": "code",
      "metadata": {
        "id": "hYPlycNbqEoT"
      },
      "source": [
        "import pandas as pd\n",
        "from gensim.parsing.preprocessing import preprocess_documents\n",
        "from gensim import corpora, models\n",
        "from gensim import similarities"
      ],
      "execution_count": 6,
      "outputs": []
    },
    {
      "cell_type": "markdown",
      "metadata": {
        "id": "1QHCEiD5G8dX"
      },
      "source": [
        "# Load the data"
      ]
    },
    {
      "cell_type": "code",
      "metadata": {
        "id": "N6_Ucs0TvmrG",
        "colab": {
          "base_uri": "https://localhost:8080/",
          "height": 0
        },
        "outputId": "e28607f4-0ade-4d9c-f5cd-d4b200393dca"
      },
      "source": [
        "df = pd.read_csv(\"/content/drive/MyDrive/Colab Notebooks/Information Retrieval/Controls_data.csv\")\n",
        "\n",
        "df"
      ],
      "execution_count": 7,
      "outputs": [
        {
          "output_type": "execute_result",
          "data": {
            "text/html": [
              "<div>\n",
              "<style scoped>\n",
              "    .dataframe tbody tr th:only-of-type {\n",
              "        vertical-align: middle;\n",
              "    }\n",
              "\n",
              "    .dataframe tbody tr th {\n",
              "        vertical-align: top;\n",
              "    }\n",
              "\n",
              "    .dataframe thead th {\n",
              "        text-align: right;\n",
              "    }\n",
              "</style>\n",
              "<table border=\"1\" class=\"dataframe\">\n",
              "  <thead>\n",
              "    <tr style=\"text-align: right;\">\n",
              "      <th></th>\n",
              "      <th>control</th>\n",
              "      <th>description</th>\n",
              "      <th>control_id</th>\n",
              "      <th>label</th>\n",
              "    </tr>\n",
              "  </thead>\n",
              "  <tbody>\n",
              "    <tr>\n",
              "      <th>0</th>\n",
              "      <td>Alert Police</td>\n",
              "      <td>Armed robbery, in criminal law, aggravated for...</td>\n",
              "      <td>Armed Robbery</td>\n",
              "      <td>Crime</td>\n",
              "    </tr>\n",
              "    <tr>\n",
              "      <th>1</th>\n",
              "      <td>Alert Police</td>\n",
              "      <td>A biological attack is the intentional release...</td>\n",
              "      <td>Biochemical Attack</td>\n",
              "      <td>Terrorism</td>\n",
              "    </tr>\n",
              "    <tr>\n",
              "      <th>2</th>\n",
              "      <td>Alert Police</td>\n",
              "      <td>an attack or attacks on a place or area using ...</td>\n",
              "      <td>Bomb Attack</td>\n",
              "      <td>Terrorism</td>\n",
              "    </tr>\n",
              "    <tr>\n",
              "      <th>3</th>\n",
              "      <td>Alert Police</td>\n",
              "      <td>The theft of an automobile from its driver by ...</td>\n",
              "      <td>Carjacking</td>\n",
              "      <td>Crime</td>\n",
              "    </tr>\n",
              "    <tr>\n",
              "      <th>4</th>\n",
              "      <td>Alert Police</td>\n",
              "      <td>ATM fraud refers to fraud with the use of an A...</td>\n",
              "      <td>ATM Fraud</td>\n",
              "      <td>Crime</td>\n",
              "    </tr>\n",
              "  </tbody>\n",
              "</table>\n",
              "</div>"
            ],
            "text/plain": [
              "        control  ...      label\n",
              "0  Alert Police  ...      Crime\n",
              "1  Alert Police  ...  Terrorism\n",
              "2  Alert Police  ...  Terrorism\n",
              "3  Alert Police  ...      Crime\n",
              "4  Alert Police  ...      Crime\n",
              "\n",
              "[5 rows x 4 columns]"
            ]
          },
          "metadata": {},
          "execution_count": 7
        }
      ]
    },
    {
      "cell_type": "markdown",
      "metadata": {
        "id": "1lXwjpczDRUj"
      },
      "source": [
        "# Data Preprocessing"
      ]
    },
    {
      "cell_type": "code",
      "metadata": {
        "id": "Un-zxsuf9JI2",
        "colab": {
          "base_uri": "https://localhost:8080/"
        },
        "outputId": "1ea9be78-1785-4323-a449-70b64443cdbd"
      },
      "source": [
        "docs = df.description.tolist()\n",
        "\n",
        "docs = preprocess_documents(docs)\n",
        "\n",
        "dictionary = corpora.Dictionary(docs)\n",
        "corpus = [dictionary.doc2bow(i) for i in docs]\n",
        "\n",
        "len(corpus)"
      ],
      "execution_count": 111,
      "outputs": [
        {
          "output_type": "execute_result",
          "data": {
            "text/plain": [
              "5"
            ]
          },
          "metadata": {},
          "execution_count": 111
        }
      ]
    },
    {
      "cell_type": "markdown",
      "metadata": {
        "id": "QvS1Ve4zsjCf"
      },
      "source": [
        "# Topic Modelling Approach"
      ]
    },
    {
      "cell_type": "code",
      "metadata": {
        "id": "U2fXFbBzskwZ"
      },
      "source": [
        "# LSI\n",
        "model = models.LsiModel(corpus, id2word=dictionary, num_topics=20)\n",
        "\n",
        "# LDA\n",
        "# model = models.LdaModel(corpus, id2word=dictionary, num_topics=20)\n",
        "\n",
        "# Ensemble LDA\n",
        "# model = models.EnsembleLda(\n",
        "#     corpus=corpus,\n",
        "#     id2word=dictionary,\n",
        "#     num_topics=20,\n",
        "#     num_models=5,\n",
        "#     topic_model_class=models.LdaModel\n",
        "# )"
      ],
      "execution_count": 112,
      "outputs": []
    },
    {
      "cell_type": "code",
      "metadata": {
        "id": "CesSZLgRynOH"
      },
      "source": [
        "# Prepare Similarity Matrix\n",
        "index = similarities.MatrixSimilarity(model[corpus])\n",
        "\n",
        "# index.save('model')\n",
        "# index = similarities.MatrixSimilarity.load('model')"
      ],
      "execution_count": 113,
      "outputs": []
    },
    {
      "cell_type": "markdown",
      "metadata": {
        "id": "9go4pSZuuew0"
      },
      "source": [
        "## Inference"
      ]
    },
    {
      "cell_type": "code",
      "metadata": {
        "colab": {
          "base_uri": "https://localhost:8080/"
        },
        "id": "K9zY9X99ugJL",
        "outputId": "bc30214f-e649-44cf-8122-1882eff05dcf"
      },
      "source": [
        "doc = \"Seven men have been arrested for allegedly duping several people at ATM kiosks across Delhi-NCR.\"\n",
        "\n",
        "# Convert doc to vec\n",
        "doc = preprocess_documents([doc])[0]\n",
        "doc = dictionary.doc2bow(doc)\n",
        "doc_vec = model[doc]  \n",
        "\n",
        "print(doc_vec)"
      ],
      "execution_count": 114,
      "outputs": [
        {
          "output_type": "stream",
          "name": "stdout",
          "text": [
            "[(0, 0.11791125732667256), (1, -0.5121795415170113), (2, 0.14342593280390473), (3, -0.13811709867390598), (4, -0.007245045659168044)]\n"
          ]
        }
      ]
    },
    {
      "cell_type": "code",
      "metadata": {
        "colab": {
          "base_uri": "https://localhost:8080/"
        },
        "id": "ZDCkR4isvKfc",
        "outputId": "03cbac30-99c0-4533-a890-2cb3fac83c39"
      },
      "source": [
        "result = index[doc_vec]\n",
        "\n",
        "result = sorted(enumerate(result), key=lambda item: -item[1])\n",
        "\n",
        "for doc_position, doc_score in result:\n",
        "    print(doc_score, df.control_id[doc_position])"
      ],
      "execution_count": 115,
      "outputs": [
        {
          "output_type": "stream",
          "name": "stdout",
          "text": [
            "0.9322567 ATM Fraud\n",
            "0.3377323 Bomb Attack\n",
            "0.15725304 Biochemical Attack\n",
            "-1.6075401e-09 Carjacking\n",
            "-2.164143e-09 Armed Robbery\n"
          ]
        }
      ]
    },
    {
      "cell_type": "markdown",
      "metadata": {
        "id": "Nvxs2zBT8Z2Z"
      },
      "source": [
        "# Word Embeddings Approach"
      ]
    },
    {
      "cell_type": "code",
      "metadata": {
        "id": "LVsIBPAL_YuI"
      },
      "source": [
        "! pip install -q spacy"
      ],
      "execution_count": 118,
      "outputs": []
    },
    {
      "cell_type": "code",
      "metadata": {
        "colab": {
          "base_uri": "https://localhost:8080/"
        },
        "id": "crYE6wyg8ced",
        "outputId": "7aad9e54-e727-4575-db29-d07af49c3b4b"
      },
      "source": [
        "import spacy.cli\n",
        "spacy.cli.download(\"en_core_web_lg\")\n",
        "\n",
        "import en_core_web_lg\n",
        "nlp = en_core_web_lg.load()"
      ],
      "execution_count": 123,
      "outputs": [
        {
          "output_type": "stream",
          "name": "stdout",
          "text": [
            "\u001b[38;5;2m✔ Download and installation successful\u001b[0m\n",
            "You can now load the model via spacy.load('en_core_web_lg')\n"
          ]
        }
      ]
    },
    {
      "cell_type": "code",
      "metadata": {
        "colab": {
          "base_uri": "https://localhost:8080/"
        },
        "id": "Zq-WOmy-83bZ",
        "outputId": "9102f53a-0222-4ae5-b244-682e7bcfa971"
      },
      "source": [
        "doc = \"Seven men have been arrested for allegedly duping several people at ATM kiosks across Delhi-NCR.\"\n",
        "\n",
        "doc = preprocess_documents([doc])\n",
        "doc = ' '.join(doc[0])\n",
        "\n",
        "result = []\n",
        "for i in [\" \".join(i) for i in docs]:\n",
        "  doc1 = nlp(i)\n",
        "  doc2 = nlp(doc)\n",
        "  result.append(doc1.similarity(doc2))\n",
        "\n",
        "print(result)"
      ],
      "execution_count": 137,
      "outputs": [
        {
          "output_type": "stream",
          "name": "stdout",
          "text": [
            "[0.5890487623316997, 0.4947408615022601, 0.5740411488516963, 0.4884656125452332, 0.6235829108370134]\n"
          ]
        }
      ]
    },
    {
      "cell_type": "code",
      "metadata": {
        "colab": {
          "base_uri": "https://localhost:8080/",
          "height": 203
        },
        "id": "SIO8e5UIAwkS",
        "outputId": "7c8115cc-b291-44c2-dbe8-22f4c4faa7e1"
      },
      "source": [
        "output = pd.DataFrame({\n",
        "    'Control': df.control_id,\n",
        "    'Scores': result\n",
        "})\n",
        "\n",
        "output.sort_values('Scores', ascending=False)"
      ],
      "execution_count": 142,
      "outputs": [
        {
          "output_type": "execute_result",
          "data": {
            "text/html": [
              "<div>\n",
              "<style scoped>\n",
              "    .dataframe tbody tr th:only-of-type {\n",
              "        vertical-align: middle;\n",
              "    }\n",
              "\n",
              "    .dataframe tbody tr th {\n",
              "        vertical-align: top;\n",
              "    }\n",
              "\n",
              "    .dataframe thead th {\n",
              "        text-align: right;\n",
              "    }\n",
              "</style>\n",
              "<table border=\"1\" class=\"dataframe\">\n",
              "  <thead>\n",
              "    <tr style=\"text-align: right;\">\n",
              "      <th></th>\n",
              "      <th>Control</th>\n",
              "      <th>Scores</th>\n",
              "    </tr>\n",
              "  </thead>\n",
              "  <tbody>\n",
              "    <tr>\n",
              "      <th>4</th>\n",
              "      <td>ATM Fraud</td>\n",
              "      <td>0.623583</td>\n",
              "    </tr>\n",
              "    <tr>\n",
              "      <th>0</th>\n",
              "      <td>Armed Robbery</td>\n",
              "      <td>0.589049</td>\n",
              "    </tr>\n",
              "    <tr>\n",
              "      <th>2</th>\n",
              "      <td>Bomb Attack</td>\n",
              "      <td>0.574041</td>\n",
              "    </tr>\n",
              "    <tr>\n",
              "      <th>1</th>\n",
              "      <td>Biochemical Attack</td>\n",
              "      <td>0.494741</td>\n",
              "    </tr>\n",
              "    <tr>\n",
              "      <th>3</th>\n",
              "      <td>Carjacking</td>\n",
              "      <td>0.488466</td>\n",
              "    </tr>\n",
              "  </tbody>\n",
              "</table>\n",
              "</div>"
            ],
            "text/plain": [
              "              Control    Scores\n",
              "4           ATM Fraud  0.623583\n",
              "0       Armed Robbery  0.589049\n",
              "2         Bomb Attack  0.574041\n",
              "1  Biochemical Attack  0.494741\n",
              "3          Carjacking  0.488466"
            ]
          },
          "metadata": {},
          "execution_count": 142
        }
      ]
    },
    {
      "cell_type": "markdown",
      "metadata": {
        "id": "lcMZ3cNHDjkm"
      },
      "source": [
        "# Zero Shot Classification Approach"
      ]
    },
    {
      "cell_type": "code",
      "metadata": {
        "colab": {
          "base_uri": "https://localhost:8080/",
          "height": 247
        },
        "id": "ep3oiMS_DlSr",
        "outputId": "fafee154-c431-41c9-b9d8-998b2bd646b0"
      },
      "source": [
        "! pip install -q transformers\n",
        "\n",
        "from transformers import pipeline\n",
        "\n",
        "deberta_classifier = pipeline(\"zero-shot-classification\",\n",
        "                              model=\"Narsil/deberta-large-mnli-zero-cls\")"
      ],
      "execution_count": 1,
      "outputs": [
        {
          "output_type": "display_data",
          "data": {
            "application/vnd.jupyter.widget-view+json": {
              "model_id": "744d17d87c6c4aca915e94f124c9b755",
              "version_minor": 0,
              "version_major": 2
            },
            "text/plain": [
              "Downloading:   0%|          | 0.00/729 [00:00<?, ?B/s]"
            ]
          },
          "metadata": {}
        },
        {
          "output_type": "display_data",
          "data": {
            "application/vnd.jupyter.widget-view+json": {
              "model_id": "298a96f58c974e95acca37203e2b49be",
              "version_minor": 0,
              "version_major": 2
            },
            "text/plain": [
              "Downloading:   0%|          | 0.00/1.51G [00:00<?, ?B/s]"
            ]
          },
          "metadata": {}
        },
        {
          "output_type": "stream",
          "name": "stderr",
          "text": [
            "Some weights of the model checkpoint at Narsil/deberta-large-mnli-zero-cls were not used when initializing DebertaForSequenceClassification: ['config']\n",
            "- This IS expected if you are initializing DebertaForSequenceClassification from the checkpoint of a model trained on another task or with another architecture (e.g. initializing a BertForSequenceClassification model from a BertForPreTraining model).\n",
            "- This IS NOT expected if you are initializing DebertaForSequenceClassification from the checkpoint of a model that you expect to be exactly identical (initializing a BertForSequenceClassification model from a BertForSequenceClassification model).\n"
          ]
        },
        {
          "output_type": "display_data",
          "data": {
            "application/vnd.jupyter.widget-view+json": {
              "model_id": "fae0ebf0d1ee4542b4ddad36cd584117",
              "version_minor": 0,
              "version_major": 2
            },
            "text/plain": [
              "Downloading:   0%|          | 0.00/52.0 [00:00<?, ?B/s]"
            ]
          },
          "metadata": {}
        },
        {
          "output_type": "display_data",
          "data": {
            "application/vnd.jupyter.widget-view+json": {
              "model_id": "78d795dc71d541559375205046f86249",
              "version_minor": 0,
              "version_major": 2
            },
            "text/plain": [
              "Downloading:   0%|          | 0.00/878k [00:00<?, ?B/s]"
            ]
          },
          "metadata": {}
        },
        {
          "output_type": "display_data",
          "data": {
            "application/vnd.jupyter.widget-view+json": {
              "model_id": "da56719df93949f99accb35e4b721d4a",
              "version_minor": 0,
              "version_major": 2
            },
            "text/plain": [
              "Downloading:   0%|          | 0.00/446k [00:00<?, ?B/s]"
            ]
          },
          "metadata": {}
        }
      ]
    },
    {
      "cell_type": "code",
      "metadata": {
        "colab": {
          "base_uri": "https://localhost:8080/",
          "height": 203
        },
        "id": "JJ9C1DfYDznu",
        "outputId": "6daf2c2d-2a6a-4572-f5d4-9253a82ea927"
      },
      "source": [
        "text = \"Seven men have been arrested for allegedly duping several people at ATM kiosks across Delhi-NCR.\"\n",
        "\n",
        "labels = df.control_id.tolist()\n",
        "\n",
        "output = deberta_classifier(text, labels, multi_label=False)\n",
        "\n",
        "output = pd.DataFrame({\n",
        "    'labels': output['labels'],\n",
        "    'scores': output['scores']\n",
        "})\n",
        "\n",
        "output"
      ],
      "execution_count": 9,
      "outputs": [
        {
          "output_type": "execute_result",
          "data": {
            "text/html": [
              "<div>\n",
              "<style scoped>\n",
              "    .dataframe tbody tr th:only-of-type {\n",
              "        vertical-align: middle;\n",
              "    }\n",
              "\n",
              "    .dataframe tbody tr th {\n",
              "        vertical-align: top;\n",
              "    }\n",
              "\n",
              "    .dataframe thead th {\n",
              "        text-align: right;\n",
              "    }\n",
              "</style>\n",
              "<table border=\"1\" class=\"dataframe\">\n",
              "  <thead>\n",
              "    <tr style=\"text-align: right;\">\n",
              "      <th></th>\n",
              "      <th>labels</th>\n",
              "      <th>scores</th>\n",
              "    </tr>\n",
              "  </thead>\n",
              "  <tbody>\n",
              "    <tr>\n",
              "      <th>0</th>\n",
              "      <td>ATM Fraud</td>\n",
              "      <td>0.878206</td>\n",
              "    </tr>\n",
              "    <tr>\n",
              "      <th>1</th>\n",
              "      <td>Armed Robbery</td>\n",
              "      <td>0.038311</td>\n",
              "    </tr>\n",
              "    <tr>\n",
              "      <th>2</th>\n",
              "      <td>Biochemical Attack</td>\n",
              "      <td>0.033892</td>\n",
              "    </tr>\n",
              "    <tr>\n",
              "      <th>3</th>\n",
              "      <td>Carjacking</td>\n",
              "      <td>0.031222</td>\n",
              "    </tr>\n",
              "    <tr>\n",
              "      <th>4</th>\n",
              "      <td>Bomb Attack</td>\n",
              "      <td>0.018369</td>\n",
              "    </tr>\n",
              "  </tbody>\n",
              "</table>\n",
              "</div>"
            ],
            "text/plain": [
              "               labels    scores\n",
              "0           ATM Fraud  0.878206\n",
              "1       Armed Robbery  0.038311\n",
              "2  Biochemical Attack  0.033892\n",
              "3          Carjacking  0.031222\n",
              "4         Bomb Attack  0.018369"
            ]
          },
          "metadata": {},
          "execution_count": 9
        }
      ]
    }
  ]
}