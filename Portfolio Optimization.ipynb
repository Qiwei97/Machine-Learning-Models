{
  "nbformat": 4,
  "nbformat_minor": 0,
  "metadata": {
    "colab": {
      "name": "Linear Regression.ipynb",
      "provenance": [],
      "collapsed_sections": [
        "mlPYqvHQUj6i"
      ]
    },
    "kernelspec": {
      "name": "python3",
      "display_name": "Python 3"
    }
  },
  "cells": [
    {
      "cell_type": "code",
      "metadata": {
        "id": "K-R5RHNgUyDl",
        "colab_type": "code",
        "colab": {
          "base_uri": "https://localhost:8080/",
          "height": 34
        },
        "outputId": "720c2e48-68fa-4c5c-e540-ab7364c5f429"
      },
      "source": [
        "from google.colab import drive\n",
        "drive.mount('/content/drive')"
      ],
      "execution_count": null,
      "outputs": [
        {
          "output_type": "stream",
          "text": [
            "Mounted at /content/drive\n"
          ],
          "name": "stdout"
        }
      ]
    },
    {
      "cell_type": "markdown",
      "metadata": {
        "id": "7fH07dVer4ju",
        "colab_type": "text"
      },
      "source": [
        "# Load the Data\n"
      ]
    },
    {
      "cell_type": "code",
      "metadata": {
        "id": "LkcZuVIWU7aM",
        "colab_type": "code",
        "colab": {
          "base_uri": "https://localhost:8080/",
          "height": 590
        },
        "outputId": "4f0e1be1-6552-44b7-df63-1c90c720d7d1"
      },
      "source": [
        "import pandas as pd\n",
        "\n",
        "df = pd.read_csv(\"/content/drive/My Drive/Shuffled_returns.CSV\", parse_dates=[\"Date\"], index_col=0)\n",
        "\n",
        "df"
      ],
      "execution_count": null,
      "outputs": [
        {
          "output_type": "execute_result",
          "data": {
            "text/html": [
              "<div>\n",
              "<style scoped>\n",
              "    .dataframe tbody tr th:only-of-type {\n",
              "        vertical-align: middle;\n",
              "    }\n",
              "\n",
              "    .dataframe tbody tr th {\n",
              "        vertical-align: top;\n",
              "    }\n",
              "\n",
              "    .dataframe thead th {\n",
              "        text-align: right;\n",
              "    }\n",
              "</style>\n",
              "<table border=\"1\" class=\"dataframe\">\n",
              "  <thead>\n",
              "    <tr style=\"text-align: right;\">\n",
              "      <th></th>\n",
              "      <th>Date</th>\n",
              "      <th>Fin</th>\n",
              "      <th>PerSv</th>\n",
              "      <th>Books</th>\n",
              "      <th>Boxes</th>\n",
              "      <th>Trans</th>\n",
              "      <th>BldMt</th>\n",
              "      <th>Meals</th>\n",
              "      <th>Toys</th>\n",
              "      <th>LabEq</th>\n",
              "      <th>Comps</th>\n",
              "      <th>Whlsl</th>\n",
              "      <th>Agric</th>\n",
              "      <th>Autos</th>\n",
              "      <th>Other</th>\n",
              "      <th>Ships</th>\n",
              "      <th>Oil</th>\n",
              "      <th>Chips</th>\n",
              "      <th>Util</th>\n",
              "      <th>Telcm</th>\n",
              "      <th>Food</th>\n",
              "      <th>Txtls</th>\n",
              "      <th>Mines</th>\n",
              "      <th>BusSv</th>\n",
              "      <th>Drugs</th>\n",
              "      <th>Soda</th>\n",
              "      <th>Banks</th>\n",
              "      <th>Gold</th>\n",
              "      <th>Aero</th>\n",
              "      <th>Rubbr</th>\n",
              "      <th>Paper</th>\n",
              "      <th>ElcEq</th>\n",
              "      <th>Steel</th>\n",
              "      <th>FabPr</th>\n",
              "      <th>Hlth</th>\n",
              "      <th>Hshld</th>\n",
              "      <th>MedEq</th>\n",
              "      <th>Fun</th>\n",
              "      <th>Guns</th>\n",
              "      <th>Clths</th>\n",
              "      <th>Rtail</th>\n",
              "      <th>Cnstr</th>\n",
              "      <th>Mach</th>\n",
              "      <th>Beer</th>\n",
              "      <th>Chems</th>\n",
              "      <th>Coal</th>\n",
              "      <th>RlEst</th>\n",
              "      <th>Insur</th>\n",
              "      <th>Smoke</th>\n",
              "    </tr>\n",
              "  </thead>\n",
              "  <tbody>\n",
              "    <tr>\n",
              "      <th>0</th>\n",
              "      <td>2019-10-02</td>\n",
              "      <td>-2.36</td>\n",
              "      <td>-1.12</td>\n",
              "      <td>-1.51</td>\n",
              "      <td>-2.10</td>\n",
              "      <td>-1.98</td>\n",
              "      <td>-1.59</td>\n",
              "      <td>-1.59</td>\n",
              "      <td>-1.51</td>\n",
              "      <td>-2.24</td>\n",
              "      <td>-1.72</td>\n",
              "      <td>-1.40</td>\n",
              "      <td>-2.05</td>\n",
              "      <td>-2.29</td>\n",
              "      <td>-1.61</td>\n",
              "      <td>-3.09</td>\n",
              "      <td>-2.74</td>\n",
              "      <td>-1.96</td>\n",
              "      <td>-1.31</td>\n",
              "      <td>-1.00</td>\n",
              "      <td>-1.58</td>\n",
              "      <td>-1.81</td>\n",
              "      <td>-2.37</td>\n",
              "      <td>-1.72</td>\n",
              "      <td>-1.16</td>\n",
              "      <td>-2.78</td>\n",
              "      <td>-1.99</td>\n",
              "      <td>1.11</td>\n",
              "      <td>-2.06</td>\n",
              "      <td>-1.75</td>\n",
              "      <td>-1.55</td>\n",
              "      <td>-3.11</td>\n",
              "      <td>-2.48</td>\n",
              "      <td>-1.62</td>\n",
              "      <td>-1.34</td>\n",
              "      <td>-2.14</td>\n",
              "      <td>-1.82</td>\n",
              "      <td>-0.76</td>\n",
              "      <td>-1.54</td>\n",
              "      <td>-1.65</td>\n",
              "      <td>-1.66</td>\n",
              "      <td>-0.63</td>\n",
              "      <td>-1.79</td>\n",
              "      <td>-2.20</td>\n",
              "      <td>-1.61</td>\n",
              "      <td>0.55</td>\n",
              "      <td>-2.07</td>\n",
              "      <td>-1.38</td>\n",
              "      <td>-1.77</td>\n",
              "    </tr>\n",
              "    <tr>\n",
              "      <th>1</th>\n",
              "      <td>2019-10-03</td>\n",
              "      <td>-0.01</td>\n",
              "      <td>0.24</td>\n",
              "      <td>-0.69</td>\n",
              "      <td>0.14</td>\n",
              "      <td>0.53</td>\n",
              "      <td>0.39</td>\n",
              "      <td>0.85</td>\n",
              "      <td>2.46</td>\n",
              "      <td>1.34</td>\n",
              "      <td>1.01</td>\n",
              "      <td>0.06</td>\n",
              "      <td>-0.26</td>\n",
              "      <td>-0.38</td>\n",
              "      <td>0.76</td>\n",
              "      <td>0.26</td>\n",
              "      <td>1.34</td>\n",
              "      <td>1.30</td>\n",
              "      <td>0.35</td>\n",
              "      <td>0.20</td>\n",
              "      <td>0.72</td>\n",
              "      <td>1.65</td>\n",
              "      <td>0.26</td>\n",
              "      <td>1.40</td>\n",
              "      <td>1.22</td>\n",
              "      <td>1.36</td>\n",
              "      <td>0.37</td>\n",
              "      <td>0.52</td>\n",
              "      <td>0.91</td>\n",
              "      <td>0.58</td>\n",
              "      <td>-0.14</td>\n",
              "      <td>1.14</td>\n",
              "      <td>0.24</td>\n",
              "      <td>-0.78</td>\n",
              "      <td>0.47</td>\n",
              "      <td>0.49</td>\n",
              "      <td>1.61</td>\n",
              "      <td>0.10</td>\n",
              "      <td>0.42</td>\n",
              "      <td>0.71</td>\n",
              "      <td>0.38</td>\n",
              "      <td>0.11</td>\n",
              "      <td>0.59</td>\n",
              "      <td>1.22</td>\n",
              "      <td>0.53</td>\n",
              "      <td>0.58</td>\n",
              "      <td>0.41</td>\n",
              "      <td>0.12</td>\n",
              "      <td>0.62</td>\n",
              "    </tr>\n",
              "    <tr>\n",
              "      <th>2</th>\n",
              "      <td>2019-10-04</td>\n",
              "      <td>1.88</td>\n",
              "      <td>0.16</td>\n",
              "      <td>1.37</td>\n",
              "      <td>1.49</td>\n",
              "      <td>0.94</td>\n",
              "      <td>1.41</td>\n",
              "      <td>0.91</td>\n",
              "      <td>0.51</td>\n",
              "      <td>2.09</td>\n",
              "      <td>0.38</td>\n",
              "      <td>0.74</td>\n",
              "      <td>-2.69</td>\n",
              "      <td>0.21</td>\n",
              "      <td>1.20</td>\n",
              "      <td>-0.25</td>\n",
              "      <td>0.59</td>\n",
              "      <td>2.17</td>\n",
              "      <td>1.45</td>\n",
              "      <td>1.34</td>\n",
              "      <td>1.51</td>\n",
              "      <td>1.31</td>\n",
              "      <td>0.67</td>\n",
              "      <td>1.47</td>\n",
              "      <td>1.36</td>\n",
              "      <td>1.40</td>\n",
              "      <td>1.77</td>\n",
              "      <td>0.59</td>\n",
              "      <td>1.14</td>\n",
              "      <td>1.37</td>\n",
              "      <td>0.58</td>\n",
              "      <td>1.15</td>\n",
              "      <td>0.99</td>\n",
              "      <td>0.65</td>\n",
              "      <td>1.22</td>\n",
              "      <td>1.71</td>\n",
              "      <td>1.28</td>\n",
              "      <td>1.10</td>\n",
              "      <td>1.26</td>\n",
              "      <td>1.07</td>\n",
              "      <td>1.03</td>\n",
              "      <td>1.97</td>\n",
              "      <td>1.37</td>\n",
              "      <td>1.32</td>\n",
              "      <td>0.60</td>\n",
              "      <td>0.11</td>\n",
              "      <td>1.28</td>\n",
              "      <td>1.89</td>\n",
              "      <td>2.00</td>\n",
              "    </tr>\n",
              "    <tr>\n",
              "      <th>3</th>\n",
              "      <td>2019-10-07</td>\n",
              "      <td>-0.46</td>\n",
              "      <td>-0.32</td>\n",
              "      <td>-0.65</td>\n",
              "      <td>-0.27</td>\n",
              "      <td>-0.15</td>\n",
              "      <td>-0.99</td>\n",
              "      <td>-0.36</td>\n",
              "      <td>-0.07</td>\n",
              "      <td>-0.91</td>\n",
              "      <td>0.21</td>\n",
              "      <td>-0.39</td>\n",
              "      <td>0.47</td>\n",
              "      <td>-0.08</td>\n",
              "      <td>-0.41</td>\n",
              "      <td>-0.66</td>\n",
              "      <td>-0.92</td>\n",
              "      <td>-0.37</td>\n",
              "      <td>-0.50</td>\n",
              "      <td>0.28</td>\n",
              "      <td>-0.72</td>\n",
              "      <td>0.14</td>\n",
              "      <td>0.09</td>\n",
              "      <td>-0.30</td>\n",
              "      <td>-0.34</td>\n",
              "      <td>-1.28</td>\n",
              "      <td>-0.40</td>\n",
              "      <td>-0.09</td>\n",
              "      <td>0.03</td>\n",
              "      <td>-0.31</td>\n",
              "      <td>-1.13</td>\n",
              "      <td>-1.04</td>\n",
              "      <td>-0.76</td>\n",
              "      <td>-1.14</td>\n",
              "      <td>0.25</td>\n",
              "      <td>-0.90</td>\n",
              "      <td>-0.85</td>\n",
              "      <td>-0.21</td>\n",
              "      <td>-0.31</td>\n",
              "      <td>-0.25</td>\n",
              "      <td>-0.36</td>\n",
              "      <td>-0.38</td>\n",
              "      <td>-0.82</td>\n",
              "      <td>-1.44</td>\n",
              "      <td>-0.61</td>\n",
              "      <td>-0.72</td>\n",
              "      <td>-0.26</td>\n",
              "      <td>-0.50</td>\n",
              "      <td>-0.38</td>\n",
              "    </tr>\n",
              "    <tr>\n",
              "      <th>4</th>\n",
              "      <td>2019-10-08</td>\n",
              "      <td>-1.64</td>\n",
              "      <td>-1.86</td>\n",
              "      <td>-3.19</td>\n",
              "      <td>-1.60</td>\n",
              "      <td>-1.93</td>\n",
              "      <td>-1.46</td>\n",
              "      <td>-0.84</td>\n",
              "      <td>-0.34</td>\n",
              "      <td>-3.97</td>\n",
              "      <td>-2.55</td>\n",
              "      <td>-1.08</td>\n",
              "      <td>0.66</td>\n",
              "      <td>-1.59</td>\n",
              "      <td>-1.77</td>\n",
              "      <td>-1.68</td>\n",
              "      <td>-1.71</td>\n",
              "      <td>-1.83</td>\n",
              "      <td>-1.17</td>\n",
              "      <td>-1.08</td>\n",
              "      <td>-1.26</td>\n",
              "      <td>-1.36</td>\n",
              "      <td>-1.12</td>\n",
              "      <td>-1.68</td>\n",
              "      <td>-1.35</td>\n",
              "      <td>-0.48</td>\n",
              "      <td>-2.06</td>\n",
              "      <td>2.03</td>\n",
              "      <td>-0.86</td>\n",
              "      <td>-1.85</td>\n",
              "      <td>-1.96</td>\n",
              "      <td>-2.26</td>\n",
              "      <td>-1.90</td>\n",
              "      <td>-1.93</td>\n",
              "      <td>-2.00</td>\n",
              "      <td>-1.56</td>\n",
              "      <td>-2.78</td>\n",
              "      <td>-1.78</td>\n",
              "      <td>-0.49</td>\n",
              "      <td>-1.24</td>\n",
              "      <td>-0.92</td>\n",
              "      <td>-0.37</td>\n",
              "      <td>-2.17</td>\n",
              "      <td>-0.74</td>\n",
              "      <td>-2.27</td>\n",
              "      <td>-2.29</td>\n",
              "      <td>-1.41</td>\n",
              "      <td>-1.72</td>\n",
              "      <td>-0.78</td>\n",
              "    </tr>\n",
              "    <tr>\n",
              "      <th>...</th>\n",
              "      <td>...</td>\n",
              "      <td>...</td>\n",
              "      <td>...</td>\n",
              "      <td>...</td>\n",
              "      <td>...</td>\n",
              "      <td>...</td>\n",
              "      <td>...</td>\n",
              "      <td>...</td>\n",
              "      <td>...</td>\n",
              "      <td>...</td>\n",
              "      <td>...</td>\n",
              "      <td>...</td>\n",
              "      <td>...</td>\n",
              "      <td>...</td>\n",
              "      <td>...</td>\n",
              "      <td>...</td>\n",
              "      <td>...</td>\n",
              "      <td>...</td>\n",
              "      <td>...</td>\n",
              "      <td>...</td>\n",
              "      <td>...</td>\n",
              "      <td>...</td>\n",
              "      <td>...</td>\n",
              "      <td>...</td>\n",
              "      <td>...</td>\n",
              "      <td>...</td>\n",
              "      <td>...</td>\n",
              "      <td>...</td>\n",
              "      <td>...</td>\n",
              "      <td>...</td>\n",
              "      <td>...</td>\n",
              "      <td>...</td>\n",
              "      <td>...</td>\n",
              "      <td>...</td>\n",
              "      <td>...</td>\n",
              "      <td>...</td>\n",
              "      <td>...</td>\n",
              "      <td>...</td>\n",
              "      <td>...</td>\n",
              "      <td>...</td>\n",
              "      <td>...</td>\n",
              "      <td>...</td>\n",
              "      <td>...</td>\n",
              "      <td>...</td>\n",
              "      <td>...</td>\n",
              "      <td>...</td>\n",
              "      <td>...</td>\n",
              "      <td>...</td>\n",
              "      <td>...</td>\n",
              "    </tr>\n",
              "    <tr>\n",
              "      <th>183</th>\n",
              "      <td>2020-06-24</td>\n",
              "      <td>-3.32</td>\n",
              "      <td>-3.73</td>\n",
              "      <td>-2.94</td>\n",
              "      <td>-2.69</td>\n",
              "      <td>-3.50</td>\n",
              "      <td>-4.11</td>\n",
              "      <td>-2.32</td>\n",
              "      <td>-3.61</td>\n",
              "      <td>-2.91</td>\n",
              "      <td>-2.08</td>\n",
              "      <td>-3.38</td>\n",
              "      <td>-4.35</td>\n",
              "      <td>-3.96</td>\n",
              "      <td>-2.70</td>\n",
              "      <td>-5.21</td>\n",
              "      <td>-5.62</td>\n",
              "      <td>-1.90</td>\n",
              "      <td>-1.27</td>\n",
              "      <td>-2.26</td>\n",
              "      <td>-1.61</td>\n",
              "      <td>-4.37</td>\n",
              "      <td>-2.85</td>\n",
              "      <td>-2.53</td>\n",
              "      <td>-2.02</td>\n",
              "      <td>-2.35</td>\n",
              "      <td>-4.12</td>\n",
              "      <td>-1.05</td>\n",
              "      <td>-4.97</td>\n",
              "      <td>-1.21</td>\n",
              "      <td>-3.16</td>\n",
              "      <td>-3.24</td>\n",
              "      <td>-4.61</td>\n",
              "      <td>-4.37</td>\n",
              "      <td>-3.67</td>\n",
              "      <td>-1.57</td>\n",
              "      <td>-4.39</td>\n",
              "      <td>-3.23</td>\n",
              "      <td>-3.10</td>\n",
              "      <td>-2.82</td>\n",
              "      <td>-1.41</td>\n",
              "      <td>-3.87</td>\n",
              "      <td>-2.96</td>\n",
              "      <td>-1.99</td>\n",
              "      <td>-3.10</td>\n",
              "      <td>-0.80</td>\n",
              "      <td>-5.29</td>\n",
              "      <td>-3.26</td>\n",
              "      <td>-2.08</td>\n",
              "    </tr>\n",
              "    <tr>\n",
              "      <th>184</th>\n",
              "      <td>2020-06-25</td>\n",
              "      <td>2.30</td>\n",
              "      <td>-0.35</td>\n",
              "      <td>1.13</td>\n",
              "      <td>0.35</td>\n",
              "      <td>1.00</td>\n",
              "      <td>1.60</td>\n",
              "      <td>-0.32</td>\n",
              "      <td>0.16</td>\n",
              "      <td>1.26</td>\n",
              "      <td>0.76</td>\n",
              "      <td>0.76</td>\n",
              "      <td>0.74</td>\n",
              "      <td>1.79</td>\n",
              "      <td>1.25</td>\n",
              "      <td>1.24</td>\n",
              "      <td>1.93</td>\n",
              "      <td>1.00</td>\n",
              "      <td>-0.92</td>\n",
              "      <td>0.36</td>\n",
              "      <td>0.45</td>\n",
              "      <td>-0.16</td>\n",
              "      <td>1.67</td>\n",
              "      <td>1.29</td>\n",
              "      <td>1.30</td>\n",
              "      <td>0.79</td>\n",
              "      <td>2.83</td>\n",
              "      <td>0.37</td>\n",
              "      <td>-0.38</td>\n",
              "      <td>1.47</td>\n",
              "      <td>1.07</td>\n",
              "      <td>1.52</td>\n",
              "      <td>2.37</td>\n",
              "      <td>2.86</td>\n",
              "      <td>1.62</td>\n",
              "      <td>0.92</td>\n",
              "      <td>0.21</td>\n",
              "      <td>0.80</td>\n",
              "      <td>0.97</td>\n",
              "      <td>0.70</td>\n",
              "      <td>0.34</td>\n",
              "      <td>-0.24</td>\n",
              "      <td>1.69</td>\n",
              "      <td>0.96</td>\n",
              "      <td>1.88</td>\n",
              "      <td>-0.18</td>\n",
              "      <td>2.04</td>\n",
              "      <td>2.17</td>\n",
              "      <td>0.73</td>\n",
              "    </tr>\n",
              "    <tr>\n",
              "      <th>185</th>\n",
              "      <td>2020-06-26</td>\n",
              "      <td>-4.21</td>\n",
              "      <td>-1.87</td>\n",
              "      <td>-1.34</td>\n",
              "      <td>-1.19</td>\n",
              "      <td>-2.56</td>\n",
              "      <td>-0.97</td>\n",
              "      <td>-2.21</td>\n",
              "      <td>-0.69</td>\n",
              "      <td>-1.42</td>\n",
              "      <td>0.43</td>\n",
              "      <td>-1.86</td>\n",
              "      <td>-1.04</td>\n",
              "      <td>-2.30</td>\n",
              "      <td>-1.94</td>\n",
              "      <td>-2.65</td>\n",
              "      <td>-3.64</td>\n",
              "      <td>-2.49</td>\n",
              "      <td>-1.37</td>\n",
              "      <td>-2.18</td>\n",
              "      <td>-1.96</td>\n",
              "      <td>-2.89</td>\n",
              "      <td>-2.25</td>\n",
              "      <td>-2.72</td>\n",
              "      <td>-1.48</td>\n",
              "      <td>-2.78</td>\n",
              "      <td>-4.86</td>\n",
              "      <td>1.21</td>\n",
              "      <td>-2.55</td>\n",
              "      <td>-1.03</td>\n",
              "      <td>-1.34</td>\n",
              "      <td>-0.88</td>\n",
              "      <td>-3.17</td>\n",
              "      <td>4.46</td>\n",
              "      <td>-1.31</td>\n",
              "      <td>-1.93</td>\n",
              "      <td>-0.79</td>\n",
              "      <td>-4.54</td>\n",
              "      <td>-1.49</td>\n",
              "      <td>-5.13</td>\n",
              "      <td>-1.79</td>\n",
              "      <td>-1.88</td>\n",
              "      <td>-1.81</td>\n",
              "      <td>-1.99</td>\n",
              "      <td>-1.82</td>\n",
              "      <td>-3.91</td>\n",
              "      <td>-3.14</td>\n",
              "      <td>-2.68</td>\n",
              "      <td>-3.01</td>\n",
              "    </tr>\n",
              "    <tr>\n",
              "      <th>186</th>\n",
              "      <td>2020-06-29</td>\n",
              "      <td>1.20</td>\n",
              "      <td>3.12</td>\n",
              "      <td>2.08</td>\n",
              "      <td>2.59</td>\n",
              "      <td>2.65</td>\n",
              "      <td>3.57</td>\n",
              "      <td>2.62</td>\n",
              "      <td>0.48</td>\n",
              "      <td>1.11</td>\n",
              "      <td>0.74</td>\n",
              "      <td>2.94</td>\n",
              "      <td>1.22</td>\n",
              "      <td>4.23</td>\n",
              "      <td>1.55</td>\n",
              "      <td>3.00</td>\n",
              "      <td>1.65</td>\n",
              "      <td>1.77</td>\n",
              "      <td>1.93</td>\n",
              "      <td>2.19</td>\n",
              "      <td>1.50</td>\n",
              "      <td>5.41</td>\n",
              "      <td>2.13</td>\n",
              "      <td>1.00</td>\n",
              "      <td>0.26</td>\n",
              "      <td>1.80</td>\n",
              "      <td>1.64</td>\n",
              "      <td>0.53</td>\n",
              "      <td>7.81</td>\n",
              "      <td>1.90</td>\n",
              "      <td>2.39</td>\n",
              "      <td>2.56</td>\n",
              "      <td>3.40</td>\n",
              "      <td>4.25</td>\n",
              "      <td>1.63</td>\n",
              "      <td>2.08</td>\n",
              "      <td>1.66</td>\n",
              "      <td>1.83</td>\n",
              "      <td>2.87</td>\n",
              "      <td>3.29</td>\n",
              "      <td>0.78</td>\n",
              "      <td>3.54</td>\n",
              "      <td>2.30</td>\n",
              "      <td>2.01</td>\n",
              "      <td>2.36</td>\n",
              "      <td>2.41</td>\n",
              "      <td>2.62</td>\n",
              "      <td>1.42</td>\n",
              "      <td>2.53</td>\n",
              "    </tr>\n",
              "    <tr>\n",
              "      <th>187</th>\n",
              "      <td>2020-06-30</td>\n",
              "      <td>1.94</td>\n",
              "      <td>0.90</td>\n",
              "      <td>0.30</td>\n",
              "      <td>1.50</td>\n",
              "      <td>1.71</td>\n",
              "      <td>1.77</td>\n",
              "      <td>0.25</td>\n",
              "      <td>1.05</td>\n",
              "      <td>1.99</td>\n",
              "      <td>1.47</td>\n",
              "      <td>1.48</td>\n",
              "      <td>2.18</td>\n",
              "      <td>4.03</td>\n",
              "      <td>0.94</td>\n",
              "      <td>-0.02</td>\n",
              "      <td>2.13</td>\n",
              "      <td>1.57</td>\n",
              "      <td>0.74</td>\n",
              "      <td>0.55</td>\n",
              "      <td>1.07</td>\n",
              "      <td>1.48</td>\n",
              "      <td>2.30</td>\n",
              "      <td>2.03</td>\n",
              "      <td>1.62</td>\n",
              "      <td>0.64</td>\n",
              "      <td>1.42</td>\n",
              "      <td>3.82</td>\n",
              "      <td>-2.41</td>\n",
              "      <td>2.45</td>\n",
              "      <td>0.60</td>\n",
              "      <td>1.75</td>\n",
              "      <td>1.14</td>\n",
              "      <td>2.57</td>\n",
              "      <td>2.24</td>\n",
              "      <td>1.39</td>\n",
              "      <td>2.18</td>\n",
              "      <td>1.46</td>\n",
              "      <td>-0.46</td>\n",
              "      <td>2.26</td>\n",
              "      <td>1.72</td>\n",
              "      <td>1.28</td>\n",
              "      <td>1.96</td>\n",
              "      <td>0.65</td>\n",
              "      <td>1.29</td>\n",
              "      <td>-1.58</td>\n",
              "      <td>1.99</td>\n",
              "      <td>1.77</td>\n",
              "      <td>-0.36</td>\n",
              "    </tr>\n",
              "  </tbody>\n",
              "</table>\n",
              "<p>188 rows × 49 columns</p>\n",
              "</div>"
            ],
            "text/plain": [
              "          Date  Fin    PerSv  Books  Boxes  ...  Chems  Coal   RlEst  Insur  Smoke\n",
              "0   2019-10-02  -2.36  -1.12  -1.51  -2.10  ...  -1.61   0.55  -2.07  -1.38  -1.77\n",
              "1   2019-10-03  -0.01   0.24  -0.69   0.14  ...   0.53   0.58   0.41   0.12   0.62\n",
              "2   2019-10-04   1.88   0.16   1.37   1.49  ...   0.60   0.11   1.28   1.89   2.00\n",
              "3   2019-10-07  -0.46  -0.32  -0.65  -0.27  ...  -0.61  -0.72  -0.26  -0.50  -0.38\n",
              "4   2019-10-08  -1.64  -1.86  -3.19  -1.60  ...  -2.27  -2.29  -1.41  -1.72  -0.78\n",
              "..         ...    ...    ...    ...    ...  ...    ...    ...    ...    ...    ...\n",
              "183 2020-06-24  -3.32  -3.73  -2.94  -2.69  ...  -3.10  -0.80  -5.29  -3.26  -2.08\n",
              "184 2020-06-25   2.30  -0.35   1.13   0.35  ...   1.88  -0.18   2.04   2.17   0.73\n",
              "185 2020-06-26  -4.21  -1.87  -1.34  -1.19  ...  -1.82  -3.91  -3.14  -2.68  -3.01\n",
              "186 2020-06-29   1.20   3.12   2.08   2.59  ...   2.36   2.41   2.62   1.42   2.53\n",
              "187 2020-06-30   1.94   0.90   0.30   1.50  ...   1.29  -1.58   1.99   1.77  -0.36\n",
              "\n",
              "[188 rows x 49 columns]"
            ]
          },
          "metadata": {
            "tags": []
          },
          "execution_count": 2
        }
      ]
    },
    {
      "cell_type": "markdown",
      "metadata": {
        "id": "snumjG4D5zdN",
        "colab_type": "text"
      },
      "source": [
        "Data Transformation"
      ]
    },
    {
      "cell_type": "code",
      "metadata": {
        "id": "lLJ7ctqV51d0",
        "colab_type": "code",
        "colab": {
          "base_uri": "https://localhost:8080/",
          "height": 168
        },
        "outputId": "cab683af-a069-4021-b988-5c5bf81640de"
      },
      "source": [
        "import numpy as np\n",
        "\n",
        "p = 48 #number of assets\n",
        "\n",
        "original_R = df.iloc[:,1:1+p].values\n",
        "\n",
        "R = original_R - np.mean(original_R) # demean\n",
        "\n",
        "identity_matrix = np.identity(p-1)\n",
        "\n",
        "ones = np.repeat(-1, p-1)\n",
        "\n",
        "N = np.row_stack((identity_matrix, ones))\n",
        "\n",
        "X = np.dot(R, N)\n",
        "\n",
        "print (R.shape)\n",
        "print (N)\n",
        "print (X.shape)"
      ],
      "execution_count": null,
      "outputs": [
        {
          "output_type": "stream",
          "text": [
            "(188, 48)\n",
            "[[ 1.  0.  0. ...  0.  0.  0.]\n",
            " [ 0.  1.  0. ...  0.  0.  0.]\n",
            " [ 0.  0.  1. ...  0.  0.  0.]\n",
            " ...\n",
            " [ 0.  0.  0. ...  0.  1.  0.]\n",
            " [ 0.  0.  0. ...  0.  0.  1.]\n",
            " [-1. -1. -1. ... -1. -1. -1.]]\n",
            "(188, 47)\n"
          ],
          "name": "stdout"
        }
      ]
    },
    {
      "cell_type": "code",
      "metadata": {
        "id": "-ukuSZ6sAzQG",
        "colab_type": "code",
        "colab": {
          "base_uri": "https://localhost:8080/",
          "height": 34
        },
        "outputId": "f21d7746-225e-461e-c11a-9bb2d8dd180d"
      },
      "source": [
        "W_EW = np.repeat(1/p, p).reshape(-1,1)\n",
        "\n",
        "y = np.dot(R, W_EW)\n",
        "\n",
        "y.shape"
      ],
      "execution_count": null,
      "outputs": [
        {
          "output_type": "execute_result",
          "data": {
            "text/plain": [
              "(188, 1)"
            ]
          },
          "metadata": {
            "tags": []
          },
          "execution_count": 31
        }
      ]
    },
    {
      "cell_type": "markdown",
      "metadata": {
        "id": "VlSmVrZHryo8",
        "colab_type": "text"
      },
      "source": [
        "# Moving Window"
      ]
    },
    {
      "cell_type": "code",
      "metadata": {
        "id": "QciTETLgsGxG",
        "colab_type": "code",
        "colab": {
          "base_uri": "https://localhost:8080/",
          "height": 34
        },
        "outputId": "7214b288-ffaa-4288-e9a1-c4045c861333"
      },
      "source": [
        "train_X_list = []\n",
        "train_y_list = []\n",
        "return_list = []\n",
        "y_true = []\n",
        "\n",
        "observations = 63\n",
        "\n",
        "for i in range(observations, len(df)):\n",
        "    \n",
        "    train_X_list.append(X[i-observations:i])\n",
        "    \n",
        "    train_y_list.append(y[i-observations:i])\n",
        "    \n",
        "    return_list.append(original_R[i])\n",
        "\n",
        "    y_true.append(y[i])\n",
        "\n",
        "len(y_true)"
      ],
      "execution_count": null,
      "outputs": [
        {
          "output_type": "execute_result",
          "data": {
            "text/plain": [
              "125"
            ]
          },
          "metadata": {
            "tags": []
          },
          "execution_count": 32
        }
      ]
    },
    {
      "cell_type": "markdown",
      "metadata": {
        "id": "mlPYqvHQUj6i",
        "colab_type": "text"
      },
      "source": [
        "# Debugging "
      ]
    },
    {
      "cell_type": "code",
      "metadata": {
        "id": "s6BFtZ6GGw7F",
        "colab_type": "code",
        "colab": {}
      },
      "source": [
        "from sklearn.linear_model import LinearRegression\n",
        "\n",
        "model = LinearRegression()"
      ],
      "execution_count": null,
      "outputs": []
    },
    {
      "cell_type": "code",
      "metadata": {
        "id": "SMypJKtcaFA-",
        "colab_type": "code",
        "colab": {}
      },
      "source": [
        "model = model.fit(train_X_list[0], train_y_list[0]) # 1st set of 63 observations (Before 1st Jan)"
      ],
      "execution_count": null,
      "outputs": []
    },
    {
      "cell_type": "code",
      "metadata": {
        "id": "Wd2ni-PNIu19",
        "colab_type": "code",
        "colab": {
          "base_uri": "https://localhost:8080/",
          "height": 34
        },
        "outputId": "4cb5559c-a5e9-4d5d-cb1d-073098ed8867"
      },
      "source": [
        "model.score(train_X_list[0], train_y_list[0])"
      ],
      "execution_count": null,
      "outputs": [
        {
          "output_type": "execute_result",
          "data": {
            "text/plain": [
              "0.4209346574075487"
            ]
          },
          "metadata": {
            "tags": []
          },
          "execution_count": 39
        }
      ]
    },
    {
      "cell_type": "code",
      "metadata": {
        "id": "mHyMqgQRI2al",
        "colab_type": "code",
        "colab": {
          "base_uri": "https://localhost:8080/",
          "height": 34
        },
        "outputId": "43519796-7f3a-4b01-805c-78e1986d4917"
      },
      "source": [
        "beta = model.coef_\n",
        "\n",
        "beta"
      ],
      "execution_count": null,
      "outputs": [
        {
          "output_type": "execute_result",
          "data": {
            "text/plain": [
              "array([[ 0.02924756, -0.27089319,  0.07476694,  0.05566779, -0.08379659]])"
            ]
          },
          "metadata": {
            "tags": []
          },
          "execution_count": 40
        }
      ]
    },
    {
      "cell_type": "code",
      "metadata": {
        "id": "o6IpfFi-KsbG",
        "colab_type": "code",
        "colab": {
          "base_uri": "https://localhost:8080/",
          "height": 118
        },
        "outputId": "d9d85764-0058-4fcc-f1f9-c6e858eb1209"
      },
      "source": [
        "weight = W_EW - np.dot(N, beta.reshape(-1,1))\n",
        "\n",
        "weight"
      ],
      "execution_count": null,
      "outputs": [
        {
          "output_type": "execute_result",
          "data": {
            "text/plain": [
              "array([[ 0.13741911],\n",
              "       [ 0.43755985],\n",
              "       [ 0.09189972],\n",
              "       [ 0.11099888],\n",
              "       [ 0.25046326],\n",
              "       [-0.02834083]])"
            ]
          },
          "metadata": {
            "tags": []
          },
          "execution_count": 41
        }
      ]
    },
    {
      "cell_type": "code",
      "metadata": {
        "id": "pibx8xk_MOt6",
        "colab_type": "code",
        "colab": {
          "base_uri": "https://localhost:8080/",
          "height": 34
        },
        "outputId": "48212b08-aa20-4cc8-ddac-8d7d1a9e106c"
      },
      "source": [
        "np.dot(original_R[63], weight)"
      ],
      "execution_count": null,
      "outputs": [
        {
          "output_type": "execute_result",
          "data": {
            "text/plain": [
              "array([-1.23149844])"
            ]
          },
          "metadata": {
            "tags": []
          },
          "execution_count": 42
        }
      ]
    },
    {
      "cell_type": "markdown",
      "metadata": {
        "id": "7Ujn9hdrC272",
        "colab_type": "text"
      },
      "source": [
        "# Lasso"
      ]
    },
    {
      "cell_type": "markdown",
      "metadata": {
        "id": "Nck1rwEsJmtF",
        "colab_type": "text"
      },
      "source": [
        "6 Industries"
      ]
    },
    {
      "cell_type": "code",
      "metadata": {
        "id": "90l4avm7GB-m",
        "colab_type": "code",
        "colab": {
          "base_uri": "https://localhost:8080/",
          "height": 296
        },
        "outputId": "90732a47-cc4e-4971-c9b9-94a9835321c9"
      },
      "source": [
        "from sklearn.linear_model import LassoCV\n",
        "import matplotlib.pyplot as plt\n",
        "\n",
        "alphas = np.linspace(1e-10, 0.01)\n",
        "\n",
        "model = LassoCV(cv=10, max_iter=10000, \n",
        "                alphas=alphas, \n",
        "                fit_intercept=False, \n",
        "                normalize=False)\n",
        "\n",
        "model = model.fit(train_X_list[0], train_y_list[0].ravel())\n",
        "\n",
        "lambda_used_L = model.alphas_\n",
        "\n",
        "mse_list = np.mean(model.mse_path_, axis = 1)\n",
        "\n",
        "plt.plot(lambda_used_L, mse_list)\n",
        "plt.xlabel(\"Lambda\")\n",
        "plt.ylabel(\"mean-squared-error\")"
      ],
      "execution_count": null,
      "outputs": [
        {
          "output_type": "execute_result",
          "data": {
            "text/plain": [
              "Text(0, 0.5, 'mean-squared-error')"
            ]
          },
          "metadata": {
            "tags": []
          },
          "execution_count": 29
        },
        {
          "output_type": "display_data",
          "data": {
            "image/png": "[encoded data removed]",
            "text/plain": [
              "<Figure size 432x288 with 1 Axes>"
            ]
          },
          "metadata": {
            "tags": [],
            "needs_background": "light"
          }
        }
      ]
    },
    {
      "cell_type": "markdown",
      "metadata": {
        "id": "NnumpOpIJqav",
        "colab_type": "text"
      },
      "source": [
        "24 Industries"
      ]
    },
    {
      "cell_type": "code",
      "metadata": {
        "id": "nxKbnLHyV_PQ",
        "colab_type": "code",
        "colab": {
          "base_uri": "https://localhost:8080/",
          "height": 296
        },
        "outputId": "8f350b1c-3148-43f1-838e-9d04a29c95e2"
      },
      "source": [
        "from sklearn.linear_model import LassoCV\n",
        "import matplotlib.pyplot as plt\n",
        "\n",
        "alphas = np.linspace(0.025, 0.03)\n",
        "\n",
        "model = LassoCV(cv=10, max_iter=10000, \n",
        "                alphas=alphas, \n",
        "                fit_intercept=False, \n",
        "                normalize=False)\n",
        "\n",
        "model = model.fit(train_X_list[0], train_y_list[0].ravel())\n",
        "\n",
        "lambda_used_L = model.alphas_\n",
        "\n",
        "mse_list = np.mean(model.mse_path_, axis = 1)\n",
        "\n",
        "plt.plot(lambda_used_L, mse_list)\n",
        "plt.xlabel(\"Lambda\")\n",
        "plt.ylabel(\"mean-squared-error\")"
      ],
      "execution_count": null,
      "outputs": [
        {
          "output_type": "execute_result",
          "data": {
            "text/plain": [
              "Text(0, 0.5, 'mean-squared-error')"
            ]
          },
          "metadata": {
            "tags": []
          },
          "execution_count": 25
        },
        {
          "output_type": "display_data",
          "data": {
            "image/png": "[encoded data removed]",
            "text/plain": [
              "<Figure size 432x288 with 1 Axes>"
            ]
          },
          "metadata": {
            "tags": [],
            "needs_background": "light"
          }
        }
      ]
    },
    {
      "cell_type": "markdown",
      "metadata": {
        "id": "jjCcykrnJsYa",
        "colab_type": "text"
      },
      "source": [
        "48 Industries"
      ]
    },
    {
      "cell_type": "code",
      "metadata": {
        "id": "4NHaV75rWAEj",
        "colab_type": "code",
        "colab": {
          "base_uri": "https://localhost:8080/",
          "height": 296
        },
        "outputId": "92879bb8-f700-4fe5-ab1e-b85e8ac2769e"
      },
      "source": [
        "from sklearn.linear_model import LassoCV\n",
        "import matplotlib.pyplot as plt\n",
        "\n",
        "alphas = np.linspace(1e-3, 0.2)\n",
        "\n",
        "model = LassoCV(cv=10, max_iter=100000, \n",
        "                alphas=alphas, \n",
        "                fit_intercept=False, \n",
        "                normalize=False)\n",
        "\n",
        "model = model.fit(train_X_list[0], train_y_list[0].ravel())\n",
        "\n",
        "lambda_used_L = model.alphas_\n",
        "\n",
        "mse_list = np.mean(model.mse_path_, axis = 1)\n",
        "\n",
        "plt.plot(lambda_used_L, mse_list)\n",
        "plt.xlabel(\"Lambda\")\n",
        "plt.ylabel(\"mean-squared-error\")"
      ],
      "execution_count": null,
      "outputs": [
        {
          "output_type": "execute_result",
          "data": {
            "text/plain": [
              "Text(0, 0.5, 'mean-squared-error')"
            ]
          },
          "metadata": {
            "tags": []
          },
          "execution_count": 33
        },
        {
          "output_type": "display_data",
          "data": {
            "image/png": "[encoded data removed]",
            "text/plain": [
              "<Figure size 432x288 with 1 Axes>"
            ]
          },
          "metadata": {
            "tags": [],
            "needs_background": "light"
          }
        }
      ]
    },
    {
      "cell_type": "markdown",
      "metadata": {
        "id": "QtQRmBsQJxIK",
        "colab_type": "text"
      },
      "source": [
        "# Ridge"
      ]
    },
    {
      "cell_type": "markdown",
      "metadata": {
        "id": "1GQRPcN8VYwV",
        "colab_type": "text"
      },
      "source": [
        "6 Industries"
      ]
    },
    {
      "cell_type": "code",
      "metadata": {
        "id": "UnW6RrrEJzCL",
        "colab_type": "code",
        "colab": {
          "base_uri": "https://localhost:8080/",
          "height": 297
        },
        "outputId": "e8ce531b-501b-4278-b5ef-1673ee3152d1"
      },
      "source": [
        "from sklearn.linear_model import RidgeCV\n",
        "import matplotlib.pyplot as plt\n",
        "\n",
        "alphas = np.linspace(1e-4, 10)\n",
        "\n",
        "model = RidgeCV(alphas=alphas, \n",
        "                store_cv_values=True,\n",
        "                fit_intercept=False, \n",
        "                normalize=False)\n",
        "\n",
        "model = model.fit(train_X_list[0], train_y_list[0])\n",
        "\n",
        "mse = model.cv_values_\n",
        "\n",
        "mse_list = np.mean(mse, axis = 0)\n",
        "\n",
        "plt.plot(alphas, mse_list.ravel())\n",
        "plt.xlabel(\"Lambda\")\n",
        "plt.ylabel(\"mean-squared-error\")"
      ],
      "execution_count": null,
      "outputs": [
        {
          "output_type": "execute_result",
          "data": {
            "text/plain": [
              "Text(0, 0.5, 'mean-squared-error')"
            ]
          },
          "metadata": {
            "tags": []
          },
          "execution_count": 89
        },
        {
          "output_type": "display_data",
          "data": {
            "image/png": "[encoded data removed]",
            "text/plain": [
              "<Figure size 432x288 with 1 Axes>"
            ]
          },
          "metadata": {
            "tags": [],
            "needs_background": "light"
          }
        }
      ]
    },
    {
      "cell_type": "markdown",
      "metadata": {
        "id": "UKk0ne-zVMLg",
        "colab_type": "text"
      },
      "source": [
        "24 Industries"
      ]
    },
    {
      "cell_type": "code",
      "metadata": {
        "id": "PbRRHbQ5WL60",
        "colab_type": "code",
        "colab": {
          "base_uri": "https://localhost:8080/",
          "height": 296
        },
        "outputId": "e70967b4-c2bc-4855-8b9a-2948b63af772"
      },
      "source": [
        "from sklearn.linear_model import RidgeCV\n",
        "import matplotlib.pyplot as plt\n",
        "\n",
        "alphas = np.linspace(10, 20)\n",
        "\n",
        "model = RidgeCV(alphas=alphas, \n",
        "                store_cv_values=True, \n",
        "                fit_intercept=False, \n",
        "                normalize=False)\n",
        "\n",
        "model = model.fit(train_X_list[0], train_y_list[0])\n",
        "\n",
        "mse = model.cv_values_\n",
        "\n",
        "mse_list = np.mean(mse, axis = 0)\n",
        "\n",
        "plt.plot(alphas, mse_list.ravel())\n",
        "plt.xlabel(\"Lambda\")\n",
        "plt.ylabel(\"mean-squared-error\")"
      ],
      "execution_count": null,
      "outputs": [
        {
          "output_type": "execute_result",
          "data": {
            "text/plain": [
              "Text(0, 0.5, 'mean-squared-error')"
            ]
          },
          "metadata": {
            "tags": []
          },
          "execution_count": 98
        },
        {
          "output_type": "display_data",
          "data": {
            "image/png": "[encoded data removed]",
            "text/plain": [
              "<Figure size 432x288 with 1 Axes>"
            ]
          },
          "metadata": {
            "tags": [],
            "needs_background": "light"
          }
        }
      ]
    },
    {
      "cell_type": "markdown",
      "metadata": {
        "id": "rjr92_S3VM5L",
        "colab_type": "text"
      },
      "source": [
        "48 Industries"
      ]
    },
    {
      "cell_type": "code",
      "metadata": {
        "id": "MrmlvRGDWhX-",
        "colab_type": "code",
        "colab": {
          "base_uri": "https://localhost:8080/",
          "height": 297
        },
        "outputId": "4308ca05-d681-40d9-dbde-b9bf477933a5"
      },
      "source": [
        "from sklearn.linear_model import RidgeCV\n",
        "import matplotlib.pyplot as plt\n",
        "\n",
        "alphas = np.linspace(3, 100)\n",
        "\n",
        "model = RidgeCV(alphas=alphas, \n",
        "                store_cv_values=True, \n",
        "                fit_intercept=False, \n",
        "                normalize=False)\n",
        "\n",
        "model = model.fit(train_X_list[0], train_y_list[0])\n",
        "\n",
        "mse = model.cv_values_\n",
        "\n",
        "mse_list = np.mean(mse, axis = 0)\n",
        "\n",
        "plt.plot(alphas, mse_list.ravel())\n",
        "plt.xlabel(\"Lambda\")\n",
        "plt.ylabel(\"mean-squared-error\")"
      ],
      "execution_count": null,
      "outputs": [
        {
          "output_type": "execute_result",
          "data": {
            "text/plain": [
              "Text(0, 0.5, 'mean-squared-error')"
            ]
          },
          "metadata": {
            "tags": []
          },
          "execution_count": 56
        },
        {
          "output_type": "display_data",
          "data": {
            "image/png": "[encoded data removed]",
            "text/plain": [
              "<Figure size 432x288 with 1 Axes>"
            ]
          },
          "metadata": {
            "tags": [],
            "needs_background": "light"
          }
        }
      ]
    },
    {
      "cell_type": "markdown",
      "metadata": {
        "id": "Cq2G29liUoHV",
        "colab_type": "text"
      },
      "source": [
        "# MinVar Portfolio"
      ]
    },
    {
      "cell_type": "code",
      "metadata": {
        "id": "Hdt46eWOe5he",
        "colab_type": "code",
        "colab": {}
      },
      "source": [
        "from sklearn.linear_model import LinearRegression\n",
        "\n",
        "result_beta_mv = []\n",
        "result_weight_mv = []\n",
        "total_ret_mv = []\n",
        "in_sample_variance_list = []\n",
        "\n",
        "for X_train, y_train, ret in zip(train_X_list, train_y_list, return_list):\n",
        "  model = LinearRegression(fit_intercept=False,\n",
        "                           normalize=False)\n",
        "  model = model.fit(X_train, y_train)\n",
        "  \n",
        "  beta = model.coef_\n",
        "  result_beta_mv.extend(beta)\n",
        "\n",
        "  weight = W_EW - np.dot(N, beta.reshape(-1,1))\n",
        "  result_weight_mv.append(weight)\n",
        "\n",
        "  ret_OS =  np.dot(ret, weight)\n",
        "  total_ret_mv.extend(ret_OS)\n",
        "\n",
        "  in_sample_variance_list.append((np.std(y_train))**2)"
      ],
      "execution_count": null,
      "outputs": []
    },
    {
      "cell_type": "code",
      "metadata": {
        "id": "ExRCx4lGZRzH",
        "colab_type": "code",
        "colab": {
          "base_uri": "https://localhost:8080/",
          "height": 34
        },
        "outputId": "910f1f5e-e221-411c-d638-efa4f98b8e9e"
      },
      "source": [
        "in_sample_variance = np.mean(in_sample_variance_list)\n",
        "\n",
        "out_of_sample_variance = (np.std(total_ret_mv))**2\n",
        "\n",
        "print(in_sample_variance/out_of_sample_variance) "
      ],
      "execution_count": null,
      "outputs": [
        {
          "output_type": "stream",
          "text": [
            "0.6175327493696339\n"
          ],
          "name": "stdout"
        }
      ]
    },
    {
      "cell_type": "code",
      "metadata": {
        "id": "gXgX-fbsZLMa",
        "colab_type": "code",
        "colab": {
          "base_uri": "https://localhost:8080/",
          "height": 34
        },
        "outputId": "26ca7429-d499-4395-c56d-069fb273b731"
      },
      "source": [
        "np.sum(total_ret_mv) # total returns over 6 months"
      ],
      "execution_count": null,
      "outputs": [
        {
          "output_type": "execute_result",
          "data": {
            "text/plain": [
              "-51.39787134771618"
            ]
          },
          "metadata": {
            "tags": []
          },
          "execution_count": 59
        }
      ]
    },
    {
      "cell_type": "markdown",
      "metadata": {
        "id": "2DTsVJ5RU0Xu",
        "colab_type": "text"
      },
      "source": [
        "# Lasso Portfolio"
      ]
    },
    {
      "cell_type": "code",
      "metadata": {
        "id": "iytooaGHU3-u",
        "colab_type": "code",
        "colab": {}
      },
      "source": [
        "from sklearn.linear_model import LassoCV\n",
        "\n",
        "result_beta_ls = []\n",
        "result_weight_ls = []\n",
        "total_ret_ls = []\n",
        "lambda_list_ls = []\n",
        "in_sample_variance_list = []\n",
        "\n",
        "for X_train, y_train, ret in zip(train_X_list, train_y_list, return_list):\n",
        "  model = LassoCV(cv=10, max_iter=10000, \n",
        "                fit_intercept=False, \n",
        "                normalize=False)\n",
        "  model = model.fit(X_train, y_train.ravel())\n",
        "\n",
        "  lambda_list_ls.append(model.alpha_)\n",
        "  \n",
        "  beta = model.coef_\n",
        "  result_beta_ls.extend(beta)\n",
        "\n",
        "  weight = W_EW - np.dot(N, beta.reshape(-1,1))\n",
        "  result_weight_ls.append(weight)\n",
        "\n",
        "  ret_OS =  np.dot(ret, weight)\n",
        "  total_ret_ls.extend(ret_OS)\n",
        "\n",
        "  in_sample_variance_list.append((np.std(y_train))**2)"
      ],
      "execution_count": null,
      "outputs": []
    },
    {
      "cell_type": "code",
      "metadata": {
        "id": "jQQYS1LNVi6q",
        "colab_type": "code",
        "colab": {
          "base_uri": "https://localhost:8080/",
          "height": 34
        },
        "outputId": "3613835c-c143-43cc-c8b6-e9d610c7f44d"
      },
      "source": [
        "in_sample_variance = np.mean(in_sample_variance_list)\n",
        "\n",
        "out_of_sample_variance = (np.std(total_ret_ls))**2\n",
        "\n",
        "print(in_sample_variance/out_of_sample_variance)"
      ],
      "execution_count": null,
      "outputs": [
        {
          "output_type": "stream",
          "text": [
            "1.392026524093915\n"
          ],
          "name": "stdout"
        }
      ]
    },
    {
      "cell_type": "code",
      "metadata": {
        "id": "s6d2CIrPZOoY",
        "colab_type": "code",
        "colab": {
          "base_uri": "https://localhost:8080/",
          "height": 34
        },
        "outputId": "3a3a6695-e48d-4c6d-c95c-1e7ca4ceb811"
      },
      "source": [
        "np.sum(total_ret_ls)"
      ],
      "execution_count": null,
      "outputs": [
        {
          "output_type": "execute_result",
          "data": {
            "text/plain": [
              "-14.00906267194408"
            ]
          },
          "metadata": {
            "tags": []
          },
          "execution_count": 25
        }
      ]
    },
    {
      "cell_type": "markdown",
      "metadata": {
        "id": "5muCa3IwYJLd",
        "colab_type": "text"
      },
      "source": [
        "# Ridge Portfolio"
      ]
    },
    {
      "cell_type": "code",
      "metadata": {
        "id": "tyqYuQ-vYMUR",
        "colab_type": "code",
        "colab": {}
      },
      "source": [
        "from sklearn.linear_model import RidgeCV\n",
        "\n",
        "result_beta_rd = []\n",
        "result_weight_rd = []\n",
        "total_ret_rd = []\n",
        "lambda_list_rd = []\n",
        "in_sample_variance_list = []\n",
        "\n",
        "for X_train, y_train, ret in zip(train_X_list, train_y_list, return_list):\n",
        "  \n",
        "  model = RidgeCV(cv=10, \n",
        "                  alphas=np.linspace(1e-3, 100), \n",
        "                  fit_intercept=False, \n",
        "                  normalize=False)\n",
        "  \n",
        "  model = model.fit(X_train, y_train.ravel())\n",
        "\n",
        "  lambda_list_rd.append(model.alpha_)\n",
        "  \n",
        "  beta = model.coef_\n",
        "  result_beta_rd.extend(beta)\n",
        "\n",
        "  weight = W_EW - np.dot(N, beta.reshape(-1,1))\n",
        "  result_weight_rd.append(weight)\n",
        "\n",
        "  ret_OS =  np.dot(ret, weight)\n",
        "  total_ret_rd.extend(ret_OS)\n",
        "\n",
        "  in_sample_variance_list.append((np.std(y_train))**2)"
      ],
      "execution_count": null,
      "outputs": []
    },
    {
      "cell_type": "code",
      "metadata": {
        "id": "O0-nOacHYS6D",
        "colab_type": "code",
        "colab": {
          "base_uri": "https://localhost:8080/",
          "height": 34
        },
        "outputId": "62dd880a-9cd2-4ab4-f091-8004d12d3a73"
      },
      "source": [
        "in_sample_variance = np.mean(in_sample_variance_list)\n",
        "\n",
        "out_of_sample_variance = (np.std(total_ret_rd))**2\n",
        "\n",
        "print(in_sample_variance/out_of_sample_variance)"
      ],
      "execution_count": null,
      "outputs": [
        {
          "output_type": "stream",
          "text": [
            "1.974005836755092\n"
          ],
          "name": "stdout"
        }
      ]
    },
    {
      "cell_type": "code",
      "metadata": {
        "id": "sbQBbURpZRz6",
        "colab_type": "code",
        "colab": {
          "base_uri": "https://localhost:8080/",
          "height": 34
        },
        "outputId": "413e5853-dc9e-43b2-98d5-a86d1df62246"
      },
      "source": [
        "np.sum(total_ret_rd)"
      ],
      "execution_count": null,
      "outputs": [
        {
          "output_type": "execute_result",
          "data": {
            "text/plain": [
              "2.6171441675920457"
            ]
          },
          "metadata": {
            "tags": []
          },
          "execution_count": 32
        }
      ]
    },
    {
      "cell_type": "markdown",
      "metadata": {
        "id": "L1MXhzWDZu0H",
        "colab_type": "text"
      },
      "source": [
        "# Equal Weight"
      ]
    },
    {
      "cell_type": "code",
      "metadata": {
        "id": "ZJGFyN5laCuA",
        "colab_type": "code",
        "colab": {
          "base_uri": "https://localhost:8080/",
          "height": 34
        },
        "outputId": "56703c95-5c32-4296-bc3f-2c8c9c66ce2a"
      },
      "source": [
        "np.array(return_list).shape"
      ],
      "execution_count": null,
      "outputs": [
        {
          "output_type": "execute_result",
          "data": {
            "text/plain": [
              "(125, 48)"
            ]
          },
          "metadata": {
            "tags": []
          },
          "execution_count": 33
        }
      ]
    },
    {
      "cell_type": "code",
      "metadata": {
        "id": "u78g5nrXZxC3",
        "colab_type": "code",
        "colab": {
          "base_uri": "https://localhost:8080/",
          "height": 34
        },
        "outputId": "347d0d0d-f1ac-47a7-fc63-cefef7db2ab0"
      },
      "source": [
        "total_ret_ew = np.dot(np.array(return_list), W_EW)\n",
        "\n",
        "total_ret_ew.shape"
      ],
      "execution_count": null,
      "outputs": [
        {
          "output_type": "execute_result",
          "data": {
            "text/plain": [
              "(125, 1)"
            ]
          },
          "metadata": {
            "tags": []
          },
          "execution_count": 34
        }
      ]
    },
    {
      "cell_type": "code",
      "metadata": {
        "id": "AhHS7H4CcV-F",
        "colab_type": "code",
        "colab": {
          "base_uri": "https://localhost:8080/",
          "height": 34
        },
        "outputId": "2ee66558-0236-4b3c-ae7c-2435f2fb5a12"
      },
      "source": [
        "np.sum(total_ret_ew)"
      ],
      "execution_count": null,
      "outputs": [
        {
          "output_type": "execute_result",
          "data": {
            "text/plain": [
              "-3.6552083333333263"
            ]
          },
          "metadata": {
            "tags": []
          },
          "execution_count": 35
        }
      ]
    }
  ]
}
